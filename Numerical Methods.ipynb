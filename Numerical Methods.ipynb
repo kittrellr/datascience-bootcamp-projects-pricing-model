{
 "cells": [
  {
   "cell_type": "markdown",
   "metadata": {},
   "source": [
    "Rusty Bargain used car sales service is developing an app to attract new customers. In that app, you can quickly find out the market value of your car. You have access to historical data: technical specifications, trim versions, and prices. You need to build the model to determine the value. \n",
    "\n",
    "Rusty Bargain is interested in:\n",
    "\n",
    "- the quality of the prediction;\n",
    "- the speed of the prediction;\n",
    "- the time required for training"
   ]
  },
  {
   "cell_type": "markdown",
   "metadata": {},
   "source": [
    "## Data preparation"
   ]
  },
  {
   "cell_type": "code",
   "execution_count": 43,
   "metadata": {},
   "outputs": [],
   "source": [
    "import pandas as pd\n",
    "from sklearn.model_selection import train_test_split\n",
    "from catboost import CatBoostClassifier\n",
    "from sklearn.metrics import mean_squared_error\n",
    "from sklearn import datasets, ensemble\n",
    "import sklearn.linear_model\n",
    "from sklearn.preprocessing import StandardScaler\n",
    "from sklearn.linear_model import LinearRegression\n",
    "from sklearn.tree import DecisionTreeRegressor\n",
    "from sklearn.ensemble import RandomForestRegressor\n",
    "from catboost import CatBoostRegressor\n",
    "from lightgbm import LGBMRegressor\n",
    "\n",
    "\n",
    "import matplotlib.pyplot as plt\n",
    "import numpy as np\n",
    "import seaborn as sns"
   ]
  },
  {
   "cell_type": "code",
   "execution_count": 44,
   "metadata": {},
   "outputs": [],
   "source": [
    "# load data\n",
    "df = pd.read_csv('/datasets/car_data.csv')"
   ]
  },
  {
   "cell_type": "code",
   "execution_count": 45,
   "metadata": {},
   "outputs": [
    {
     "data": {
      "text/html": [
       "<div>\n",
       "<style scoped>\n",
       "    .dataframe tbody tr th:only-of-type {\n",
       "        vertical-align: middle;\n",
       "    }\n",
       "\n",
       "    .dataframe tbody tr th {\n",
       "        vertical-align: top;\n",
       "    }\n",
       "\n",
       "    .dataframe thead th {\n",
       "        text-align: right;\n",
       "    }\n",
       "</style>\n",
       "<table border=\"1\" class=\"dataframe\">\n",
       "  <thead>\n",
       "    <tr style=\"text-align: right;\">\n",
       "      <th></th>\n",
       "      <th>DateCrawled</th>\n",
       "      <th>Price</th>\n",
       "      <th>VehicleType</th>\n",
       "      <th>RegistrationYear</th>\n",
       "      <th>Gearbox</th>\n",
       "      <th>Power</th>\n",
       "      <th>Model</th>\n",
       "      <th>Mileage</th>\n",
       "      <th>RegistrationMonth</th>\n",
       "      <th>FuelType</th>\n",
       "      <th>Brand</th>\n",
       "      <th>NotRepaired</th>\n",
       "      <th>DateCreated</th>\n",
       "      <th>NumberOfPictures</th>\n",
       "      <th>PostalCode</th>\n",
       "      <th>LastSeen</th>\n",
       "    </tr>\n",
       "  </thead>\n",
       "  <tbody>\n",
       "    <tr>\n",
       "      <th>0</th>\n",
       "      <td>24/03/2016 11:52</td>\n",
       "      <td>480</td>\n",
       "      <td>NaN</td>\n",
       "      <td>1993</td>\n",
       "      <td>manual</td>\n",
       "      <td>0</td>\n",
       "      <td>golf</td>\n",
       "      <td>150000</td>\n",
       "      <td>0</td>\n",
       "      <td>petrol</td>\n",
       "      <td>volkswagen</td>\n",
       "      <td>NaN</td>\n",
       "      <td>24/03/2016 00:00</td>\n",
       "      <td>0</td>\n",
       "      <td>70435</td>\n",
       "      <td>07/04/2016 03:16</td>\n",
       "    </tr>\n",
       "    <tr>\n",
       "      <th>1</th>\n",
       "      <td>24/03/2016 10:58</td>\n",
       "      <td>18300</td>\n",
       "      <td>coupe</td>\n",
       "      <td>2011</td>\n",
       "      <td>manual</td>\n",
       "      <td>190</td>\n",
       "      <td>NaN</td>\n",
       "      <td>125000</td>\n",
       "      <td>5</td>\n",
       "      <td>gasoline</td>\n",
       "      <td>audi</td>\n",
       "      <td>yes</td>\n",
       "      <td>24/03/2016 00:00</td>\n",
       "      <td>0</td>\n",
       "      <td>66954</td>\n",
       "      <td>07/04/2016 01:46</td>\n",
       "    </tr>\n",
       "    <tr>\n",
       "      <th>2</th>\n",
       "      <td>14/03/2016 12:52</td>\n",
       "      <td>9800</td>\n",
       "      <td>suv</td>\n",
       "      <td>2004</td>\n",
       "      <td>auto</td>\n",
       "      <td>163</td>\n",
       "      <td>grand</td>\n",
       "      <td>125000</td>\n",
       "      <td>8</td>\n",
       "      <td>gasoline</td>\n",
       "      <td>jeep</td>\n",
       "      <td>NaN</td>\n",
       "      <td>14/03/2016 00:00</td>\n",
       "      <td>0</td>\n",
       "      <td>90480</td>\n",
       "      <td>05/04/2016 12:47</td>\n",
       "    </tr>\n",
       "    <tr>\n",
       "      <th>3</th>\n",
       "      <td>17/03/2016 16:54</td>\n",
       "      <td>1500</td>\n",
       "      <td>small</td>\n",
       "      <td>2001</td>\n",
       "      <td>manual</td>\n",
       "      <td>75</td>\n",
       "      <td>golf</td>\n",
       "      <td>150000</td>\n",
       "      <td>6</td>\n",
       "      <td>petrol</td>\n",
       "      <td>volkswagen</td>\n",
       "      <td>no</td>\n",
       "      <td>17/03/2016 00:00</td>\n",
       "      <td>0</td>\n",
       "      <td>91074</td>\n",
       "      <td>17/03/2016 17:40</td>\n",
       "    </tr>\n",
       "    <tr>\n",
       "      <th>4</th>\n",
       "      <td>31/03/2016 17:25</td>\n",
       "      <td>3600</td>\n",
       "      <td>small</td>\n",
       "      <td>2008</td>\n",
       "      <td>manual</td>\n",
       "      <td>69</td>\n",
       "      <td>fabia</td>\n",
       "      <td>90000</td>\n",
       "      <td>7</td>\n",
       "      <td>gasoline</td>\n",
       "      <td>skoda</td>\n",
       "      <td>no</td>\n",
       "      <td>31/03/2016 00:00</td>\n",
       "      <td>0</td>\n",
       "      <td>60437</td>\n",
       "      <td>06/04/2016 10:17</td>\n",
       "    </tr>\n",
       "  </tbody>\n",
       "</table>\n",
       "</div>"
      ],
      "text/plain": [
       "        DateCrawled  Price VehicleType  RegistrationYear Gearbox  Power  \\\n",
       "0  24/03/2016 11:52    480         NaN              1993  manual      0   \n",
       "1  24/03/2016 10:58  18300       coupe              2011  manual    190   \n",
       "2  14/03/2016 12:52   9800         suv              2004    auto    163   \n",
       "3  17/03/2016 16:54   1500       small              2001  manual     75   \n",
       "4  31/03/2016 17:25   3600       small              2008  manual     69   \n",
       "\n",
       "   Model  Mileage  RegistrationMonth  FuelType       Brand NotRepaired  \\\n",
       "0   golf   150000                  0    petrol  volkswagen         NaN   \n",
       "1    NaN   125000                  5  gasoline        audi         yes   \n",
       "2  grand   125000                  8  gasoline        jeep         NaN   \n",
       "3   golf   150000                  6    petrol  volkswagen          no   \n",
       "4  fabia    90000                  7  gasoline       skoda          no   \n",
       "\n",
       "        DateCreated  NumberOfPictures  PostalCode          LastSeen  \n",
       "0  24/03/2016 00:00                 0       70435  07/04/2016 03:16  \n",
       "1  24/03/2016 00:00                 0       66954  07/04/2016 01:46  \n",
       "2  14/03/2016 00:00                 0       90480  05/04/2016 12:47  \n",
       "3  17/03/2016 00:00                 0       91074  17/03/2016 17:40  \n",
       "4  31/03/2016 00:00                 0       60437  06/04/2016 10:17  "
      ]
     },
     "execution_count": 45,
     "metadata": {},
     "output_type": "execute_result"
    }
   ],
   "source": [
    "df.head()"
   ]
  },
  {
   "cell_type": "code",
   "execution_count": 46,
   "metadata": {},
   "outputs": [
    {
     "data": {
      "text/plain": [
       "Index(['DateCrawled', 'Price', 'VehicleType', 'RegistrationYear', 'Gearbox',\n",
       "       'Power', 'Model', 'Mileage', 'RegistrationMonth', 'FuelType', 'Brand',\n",
       "       'NotRepaired', 'DateCreated', 'NumberOfPictures', 'PostalCode',\n",
       "       'LastSeen'],\n",
       "      dtype='object')"
      ]
     },
     "execution_count": 46,
     "metadata": {},
     "output_type": "execute_result"
    }
   ],
   "source": [
    "df.columns"
   ]
  },
  {
   "cell_type": "code",
   "execution_count": 47,
   "metadata": {},
   "outputs": [],
   "source": [
    "# rename columns for more uniformity\n",
    "\n",
    "df = df.rename(columns={'DateCrawled': 'date_crawled', 'Price': 'price', 'VehicleType': 'vehicle_type', 'RegistrationYear': 'registration_year', 'Gearbox': 'gearbox', 'Power': 'power', 'Model': 'model', 'Mileage': 'mileage', 'RegistrationMonth': 'registration_month', 'FuelType': 'fuel_type', 'Brand': 'brand', 'NotRepaired': 'not_repaired', 'DateCreated': 'date_created', 'NumberOfPictures': 'num_of_pics', 'PostalCode': 'zip', 'LastSeen': 'last_seen'})"
   ]
  },
  {
   "cell_type": "code",
   "execution_count": 48,
   "metadata": {},
   "outputs": [
    {
     "data": {
      "text/plain": [
       "Index(['date_crawled', 'price', 'vehicle_type', 'registration_year', 'gearbox',\n",
       "       'power', 'model', 'mileage', 'registration_month', 'fuel_type', 'brand',\n",
       "       'not_repaired', 'date_created', 'num_of_pics', 'zip', 'last_seen'],\n",
       "      dtype='object')"
      ]
     },
     "execution_count": 48,
     "metadata": {},
     "output_type": "execute_result"
    }
   ],
   "source": [
    "df.columns"
   ]
  },
  {
   "cell_type": "markdown",
   "metadata": {},
   "source": [
    "We end up not needing the date columns for our model training, however, it's important to keep them as part of our dataset to differentiate rows from being duplicates. Originally I was converting them to datetime but that took some memory and computational speed. Since we are not utilizing them, I am leaving them as is. "
   ]
  },
  {
   "cell_type": "code",
   "execution_count": 49,
   "metadata": {},
   "outputs": [
    {
     "name": "stdout",
     "output_type": "stream",
     "text": [
      "<class 'pandas.core.frame.DataFrame'>\n",
      "RangeIndex: 354369 entries, 0 to 354368\n",
      "Data columns (total 16 columns):\n",
      " #   Column              Non-Null Count   Dtype \n",
      "---  ------              --------------   ----- \n",
      " 0   date_crawled        354369 non-null  object\n",
      " 1   price               354369 non-null  int64 \n",
      " 2   vehicle_type        316879 non-null  object\n",
      " 3   registration_year   354369 non-null  int64 \n",
      " 4   gearbox             334536 non-null  object\n",
      " 5   power               354369 non-null  int64 \n",
      " 6   model               334664 non-null  object\n",
      " 7   mileage             354369 non-null  int64 \n",
      " 8   registration_month  354369 non-null  int64 \n",
      " 9   fuel_type           321474 non-null  object\n",
      " 10  brand               354369 non-null  object\n",
      " 11  not_repaired        283215 non-null  object\n",
      " 12  date_created        354369 non-null  object\n",
      " 13  num_of_pics         354369 non-null  int64 \n",
      " 14  zip                 354369 non-null  int64 \n",
      " 15  last_seen           354369 non-null  object\n",
      "dtypes: int64(7), object(9)\n",
      "memory usage: 43.3+ MB\n"
     ]
    }
   ],
   "source": [
    "df.info()"
   ]
  },
  {
   "cell_type": "code",
   "execution_count": 50,
   "metadata": {},
   "outputs": [
    {
     "data": {
      "text/html": [
       "<div>\n",
       "<style scoped>\n",
       "    .dataframe tbody tr th:only-of-type {\n",
       "        vertical-align: middle;\n",
       "    }\n",
       "\n",
       "    .dataframe tbody tr th {\n",
       "        vertical-align: top;\n",
       "    }\n",
       "\n",
       "    .dataframe thead th {\n",
       "        text-align: right;\n",
       "    }\n",
       "</style>\n",
       "<table border=\"1\" class=\"dataframe\">\n",
       "  <thead>\n",
       "    <tr style=\"text-align: right;\">\n",
       "      <th></th>\n",
       "      <th>price</th>\n",
       "      <th>registration_year</th>\n",
       "      <th>power</th>\n",
       "      <th>mileage</th>\n",
       "      <th>registration_month</th>\n",
       "      <th>num_of_pics</th>\n",
       "      <th>zip</th>\n",
       "    </tr>\n",
       "  </thead>\n",
       "  <tbody>\n",
       "    <tr>\n",
       "      <th>count</th>\n",
       "      <td>354369.000000</td>\n",
       "      <td>354369.000000</td>\n",
       "      <td>354369.000000</td>\n",
       "      <td>354369.000000</td>\n",
       "      <td>354369.000000</td>\n",
       "      <td>354369.0</td>\n",
       "      <td>354369.000000</td>\n",
       "    </tr>\n",
       "    <tr>\n",
       "      <th>mean</th>\n",
       "      <td>4416.656776</td>\n",
       "      <td>2004.234448</td>\n",
       "      <td>110.094337</td>\n",
       "      <td>128211.172535</td>\n",
       "      <td>5.714645</td>\n",
       "      <td>0.0</td>\n",
       "      <td>50508.689087</td>\n",
       "    </tr>\n",
       "    <tr>\n",
       "      <th>std</th>\n",
       "      <td>4514.158514</td>\n",
       "      <td>90.227958</td>\n",
       "      <td>189.850405</td>\n",
       "      <td>37905.341530</td>\n",
       "      <td>3.726421</td>\n",
       "      <td>0.0</td>\n",
       "      <td>25783.096248</td>\n",
       "    </tr>\n",
       "    <tr>\n",
       "      <th>min</th>\n",
       "      <td>0.000000</td>\n",
       "      <td>1000.000000</td>\n",
       "      <td>0.000000</td>\n",
       "      <td>5000.000000</td>\n",
       "      <td>0.000000</td>\n",
       "      <td>0.0</td>\n",
       "      <td>1067.000000</td>\n",
       "    </tr>\n",
       "    <tr>\n",
       "      <th>25%</th>\n",
       "      <td>1050.000000</td>\n",
       "      <td>1999.000000</td>\n",
       "      <td>69.000000</td>\n",
       "      <td>125000.000000</td>\n",
       "      <td>3.000000</td>\n",
       "      <td>0.0</td>\n",
       "      <td>30165.000000</td>\n",
       "    </tr>\n",
       "    <tr>\n",
       "      <th>50%</th>\n",
       "      <td>2700.000000</td>\n",
       "      <td>2003.000000</td>\n",
       "      <td>105.000000</td>\n",
       "      <td>150000.000000</td>\n",
       "      <td>6.000000</td>\n",
       "      <td>0.0</td>\n",
       "      <td>49413.000000</td>\n",
       "    </tr>\n",
       "    <tr>\n",
       "      <th>75%</th>\n",
       "      <td>6400.000000</td>\n",
       "      <td>2008.000000</td>\n",
       "      <td>143.000000</td>\n",
       "      <td>150000.000000</td>\n",
       "      <td>9.000000</td>\n",
       "      <td>0.0</td>\n",
       "      <td>71083.000000</td>\n",
       "    </tr>\n",
       "    <tr>\n",
       "      <th>max</th>\n",
       "      <td>20000.000000</td>\n",
       "      <td>9999.000000</td>\n",
       "      <td>20000.000000</td>\n",
       "      <td>150000.000000</td>\n",
       "      <td>12.000000</td>\n",
       "      <td>0.0</td>\n",
       "      <td>99998.000000</td>\n",
       "    </tr>\n",
       "  </tbody>\n",
       "</table>\n",
       "</div>"
      ],
      "text/plain": [
       "               price  registration_year          power        mileage  \\\n",
       "count  354369.000000      354369.000000  354369.000000  354369.000000   \n",
       "mean     4416.656776        2004.234448     110.094337  128211.172535   \n",
       "std      4514.158514          90.227958     189.850405   37905.341530   \n",
       "min         0.000000        1000.000000       0.000000    5000.000000   \n",
       "25%      1050.000000        1999.000000      69.000000  125000.000000   \n",
       "50%      2700.000000        2003.000000     105.000000  150000.000000   \n",
       "75%      6400.000000        2008.000000     143.000000  150000.000000   \n",
       "max     20000.000000        9999.000000   20000.000000  150000.000000   \n",
       "\n",
       "       registration_month  num_of_pics            zip  \n",
       "count       354369.000000     354369.0  354369.000000  \n",
       "mean             5.714645          0.0   50508.689087  \n",
       "std              3.726421          0.0   25783.096248  \n",
       "min              0.000000          0.0    1067.000000  \n",
       "25%              3.000000          0.0   30165.000000  \n",
       "50%              6.000000          0.0   49413.000000  \n",
       "75%              9.000000          0.0   71083.000000  \n",
       "max             12.000000          0.0   99998.000000  "
      ]
     },
     "execution_count": 50,
     "metadata": {},
     "output_type": "execute_result"
    }
   ],
   "source": [
    "df.describe()"
   ]
  },
  {
   "cell_type": "code",
   "execution_count": 51,
   "metadata": {},
   "outputs": [
    {
     "data": {
      "text/plain": [
       "date_crawled           0.000000\n",
       "price                  0.000000\n",
       "vehicle_type          10.579368\n",
       "registration_year      0.000000\n",
       "gearbox                5.596709\n",
       "power                  0.000000\n",
       "model                  5.560588\n",
       "mileage                0.000000\n",
       "registration_month     0.000000\n",
       "fuel_type              9.282697\n",
       "brand                  0.000000\n",
       "not_repaired          20.079070\n",
       "date_created           0.000000\n",
       "num_of_pics            0.000000\n",
       "zip                    0.000000\n",
       "last_seen              0.000000\n",
       "dtype: float64"
      ]
     },
     "execution_count": 51,
     "metadata": {},
     "output_type": "execute_result"
    }
   ],
   "source": [
    "# check for missing values\n",
    "df.isnull().sum() / len(df) * 100"
   ]
  },
  {
   "cell_type": "code",
   "execution_count": 52,
   "metadata": {},
   "outputs": [],
   "source": [
    "# fill missing values\n",
    "\n",
    "df['not_repaired'].fillna('unknown', inplace=True)\n",
    "df['vehicle_type'].fillna('unknown', inplace=True)\n",
    "df['gearbox'].fillna('unknown', inplace=True)\n",
    "df['model'].fillna('unknown', inplace=True)\n",
    "df['fuel_type'].fillna('unknown', inplace=True)"
   ]
  },
  {
   "cell_type": "code",
   "execution_count": 53,
   "metadata": {},
   "outputs": [
    {
     "data": {
      "text/plain": [
       "date_crawled          0\n",
       "price                 0\n",
       "vehicle_type          0\n",
       "registration_year     0\n",
       "gearbox               0\n",
       "power                 0\n",
       "model                 0\n",
       "mileage               0\n",
       "registration_month    0\n",
       "fuel_type             0\n",
       "brand                 0\n",
       "not_repaired          0\n",
       "date_created          0\n",
       "num_of_pics           0\n",
       "zip                   0\n",
       "last_seen             0\n",
       "dtype: int64"
      ]
     },
     "execution_count": 53,
     "metadata": {},
     "output_type": "execute_result"
    }
   ],
   "source": [
    "df.isnull().sum()"
   ]
  },
  {
   "cell_type": "code",
   "execution_count": 54,
   "metadata": {},
   "outputs": [
    {
     "data": {
      "text/plain": [
       "262"
      ]
     },
     "execution_count": 54,
     "metadata": {},
     "output_type": "execute_result"
    }
   ],
   "source": [
    "# check for duplicates\n",
    "\n",
    "df.duplicated().sum()"
   ]
  },
  {
   "cell_type": "code",
   "execution_count": 55,
   "metadata": {},
   "outputs": [
    {
     "data": {
      "text/plain": [
       "0.07393423239617461"
      ]
     },
     "execution_count": 55,
     "metadata": {},
     "output_type": "execute_result"
    }
   ],
   "source": [
    "df.duplicated().sum() / len(df) * 100"
   ]
  },
  {
   "cell_type": "code",
   "execution_count": 56,
   "metadata": {},
   "outputs": [],
   "source": [
    "# drop duplicates\n",
    "df = df.drop_duplicates()"
   ]
  },
  {
   "cell_type": "code",
   "execution_count": 57,
   "metadata": {},
   "outputs": [
    {
     "data": {
      "text/plain": [
       "0"
      ]
     },
     "execution_count": 57,
     "metadata": {},
     "output_type": "execute_result"
    }
   ],
   "source": [
    "df.duplicated().sum()"
   ]
  },
  {
   "cell_type": "markdown",
   "metadata": {},
   "source": [
    "Since the duplicate rows are such a small percentage of our dataset, we will go ahead and drop them. "
   ]
  },
  {
   "cell_type": "markdown",
   "metadata": {},
   "source": [
    "**Summary** Our data preparation is complete. Our libraries have been imported and dataset uploaded. We changed column names to all lowercase for more uniformity. We filled in missing values with Unknown and dropped duplicates from our dataset. "
   ]
  },
  {
   "cell_type": "markdown",
   "metadata": {},
   "source": [
    "## EDA\n",
    "We'll take a quick look at how our numerical and categorical columns compare to one another."
   ]
  },
  {
   "cell_type": "code",
   "execution_count": 58,
   "metadata": {},
   "outputs": [],
   "source": [
    "# separate numerical and categorical data\n",
    "numerical_columns = df.select_dtypes(include=['int64']).columns\n",
    "categorical_columns = df.select_dtypes(include=['object', 'datetime64']).columns "
   ]
  },
  {
   "cell_type": "code",
   "execution_count": 59,
   "metadata": {},
   "outputs": [
    {
     "data": {
      "image/png": "[encoded data removed]",
      "text/plain": [
       "<Figure size 2000x1500 with 9 Axes>"
      ]
     },
     "metadata": {},
     "output_type": "display_data"
    }
   ],
   "source": [
    "# Histograms for Numerical Data\n",
    "df[numerical_columns].hist(bins=30, figsize=(20, 15))\n",
    "plt.suptitle('Histograms of Numerical Columns')\n",
    "plt.show()"
   ]
  },
  {
   "cell_type": "markdown",
   "metadata": {},
   "source": [
    "Not much we can gather here except that most vehicles sold for under 2500 Euro. "
   ]
  },
  {
   "cell_type": "markdown",
   "metadata": {},
   "source": [
    "We'll look at our categorical data using count plots. However, we will drop the date columns and separate out the 'model' column as it contains a large number of unique values and will need to be reduced to get a good visual. That chart will follow the remaining categories below. "
   ]
  },
  {
   "cell_type": "code",
   "execution_count": 60,
   "metadata": {},
   "outputs": [
    {
     "data": {
      "image/png": "[encoded data removed]",
      "text/plain": [
       "<Figure size 1500x2500 with 5 Axes>"
      ]
     },
     "metadata": {},
     "output_type": "display_data"
    }
   ],
   "source": [
    "# Count Plots for Categorical Data\n",
    "\n",
    "# Exclude the 'model' column and 'date' columns as there are too many to represent visually\n",
    "date_columns = ['date_crawled', 'date_created', 'last_seen']\n",
    "categorical_columns_2 = categorical_columns.drop(['model'] + date_columns)\n",
    "\n",
    "fig, axes = plt.subplots(len(categorical_columns_2), 1, figsize=(15, 5 * len(categorical_columns_2)))\n",
    "\n",
    "for col, ax in zip(categorical_columns_2, axes):\n",
    "    sns.countplot(x=df[col], ax=ax)\n",
    "    ax.set_title(f'Count Plot of {col}')\n",
    "    ax.set_xticklabels(ax.get_xticklabels(), rotation=45, horizontalalignment='right')\n",
    "    \n",
    "plt.tight_layout()\n",
    "plt.show()"
   ]
  },
  {
   "cell_type": "code",
   "execution_count": 61,
   "metadata": {},
   "outputs": [
    {
     "data": {
      "text/plain": [
       "251"
      ]
     },
     "execution_count": 61,
     "metadata": {},
     "output_type": "execute_result"
    }
   ],
   "source": [
    "# count number of unique values in the 'model' column.\n",
    "df['model'].nunique()"
   ]
  },
  {
   "cell_type": "markdown",
   "metadata": {},
   "source": [
    "Since our dataset is so large, it will be safe to filter models that have less than 1,000 entries. So that's what we'll do. "
   ]
  },
  {
   "cell_type": "code",
   "execution_count": 62,
   "metadata": {},
   "outputs": [
    {
     "data": {
      "image/png": "[encoded data removed]",
      "text/plain": [
       "<Figure size 1200x600 with 1 Axes>"
      ]
     },
     "metadata": {},
     "output_type": "display_data"
    }
   ],
   "source": [
    "# Count the occurrences of each model\n",
    "model_counts = df['model'].value_counts()\n",
    "\n",
    "# Filter models with more than 1000 occurrences\n",
    "models_above_threshold = model_counts[model_counts > 1000].index\n",
    "filtered_df = df[df['model'].isin(models_above_threshold)]\n",
    "\n",
    "# Create a count plot for these models\n",
    "plt.figure(figsize=(12, 6))  # Adjust the size as needed\n",
    "sns.countplot(data=filtered_df, x='model', order=models_above_threshold)\n",
    "plt.title('Count Plot of Vehicle Models with More Than 1000 Entries')\n",
    "plt.xlabel('Model')\n",
    "plt.ylabel('Count')\n",
    "plt.xticks(rotation=45)  # Rotate labels for better readability\n",
    "plt.show()"
   ]
  },
  {
   "cell_type": "markdown",
   "metadata": {},
   "source": [
    "**Summary** With a quick look at our data we can see that most vehicles sold have been Volkswagen's models. Small sedans are the most common with typically over 140,000 miles and an average selling price of under 2500 Euro."
   ]
  },
  {
   "cell_type": "markdown",
   "metadata": {},
   "source": [
    "<br>"
   ]
  },
  {
   "cell_type": "markdown",
   "metadata": {},
   "source": [
    "## Model training\n",
    "\n",
    "In this section we will hypertune, train, and evaluate several machine learning models using various methods such as Optuna, GridSearchCV, RandomizedSearchCV, sampling, and gradient boosting. We'll train a Linear Regression model as our baseline model for the purpose of sanity checking our other models. \n",
    "\n",
    "**These are the models we will be training:** <br>\n",
    "Linear regression <br>\n",
    "decision tree<br>\n",
    "random forest<br>\n",
    "light gbm<br>\n",
    "cat boost<br>\n",
    "\n",
    "**Our steps are as follows:** <br>\n",
    "Select our features and target variables from our filtered dataframe of models with 1000+ entries. <br>\n",
    "Separate features into numerical and categorical values. <br>\n",
    "Create 2 sets of categorical encoded data. One for Linear models using One Hot Encoding and one for tree based models using Label Encoding. <br>\n",
    "Split our data into training, validation, and test sets. <br>\n",
    "Scale numeric data using Standard Scaler. \n",
    "\n",
    "<br>\n",
    "\n",
    "From there we will train our Linear Regression model. <br>\n",
    "Tune and train Decision Tree model <br>\n",
    "Tune and train Random Forest model <br>\n",
    "Tune and train LightGBM model <br>\n",
    "Tune and train CatBoost model <br>"
   ]
  },
  {
   "cell_type": "code",
   "execution_count": 63,
   "metadata": {},
   "outputs": [],
   "source": [
    "# Select columns we want to use for modeling from our filtered dataframe\n",
    "\n",
    "features = ['vehicle_type', 'registration_year', 'gearbox', 'power', 'model', 'mileage', 'fuel_type', 'brand', 'not_repaired']\n",
    "target = 'price'"
   ]
  },
  {
   "cell_type": "code",
   "execution_count": 64,
   "metadata": {},
   "outputs": [],
   "source": [
    "# Declare features and target\n",
    "\n",
    "x = filtered_df[features]\n",
    "y = filtered_df[target]"
   ]
  },
  {
   "cell_type": "code",
   "execution_count": 65,
   "metadata": {},
   "outputs": [
    {
     "data": {
      "text/plain": [
       "(292223, 16)"
      ]
     },
     "execution_count": 65,
     "metadata": {},
     "output_type": "execute_result"
    }
   ],
   "source": [
    "filtered_df.shape"
   ]
  },
  {
   "cell_type": "markdown",
   "metadata": {},
   "source": [
    "Now we'll separate them into categorical and numeric values for scaling and to use in different models."
   ]
  },
  {
   "cell_type": "code",
   "execution_count": 66,
   "metadata": {},
   "outputs": [],
   "source": [
    "# separate features into categorical and numeric features\n",
    "\n",
    "categorical_features = x.select_dtypes(include=['object', 'category']).columns\n",
    "numerical_features = x.select_dtypes(include=['int64']).columns"
   ]
  },
  {
   "cell_type": "markdown",
   "metadata": {},
   "source": [
    "Let's take a look to make sure all of our features we want are there."
   ]
  },
  {
   "cell_type": "code",
   "execution_count": 67,
   "metadata": {},
   "outputs": [
    {
     "name": "stdout",
     "output_type": "stream",
     "text": [
      "Index(['vehicle_type', 'gearbox', 'model', 'fuel_type', 'brand',\n",
      "       'not_repaired'],\n",
      "      dtype='object')\n"
     ]
    }
   ],
   "source": [
    "print(categorical_features)"
   ]
  },
  {
   "cell_type": "code",
   "execution_count": 68,
   "metadata": {},
   "outputs": [
    {
     "name": "stdout",
     "output_type": "stream",
     "text": [
      "Index(['registration_year', 'power', 'mileage'], dtype='object')\n"
     ]
    }
   ],
   "source": [
    "print(numerical_features)"
   ]
  },
  {
   "cell_type": "markdown",
   "metadata": {},
   "source": [
    "**Encode Data**"
   ]
  },
  {
   "cell_type": "markdown",
   "metadata": {},
   "source": [
    "Now we'll encode our categorical features using One Hot Encoding (OHE) for our Linear models."
   ]
  },
  {
   "cell_type": "code",
   "execution_count": 69,
   "metadata": {},
   "outputs": [],
   "source": [
    "x_ohe = pd.get_dummies(x, columns=categorical_features, drop_first=True).reset_index(drop=True)"
   ]
  },
  {
   "cell_type": "markdown",
   "metadata": {},
   "source": [
    "Now let's split our OHE encoded data into training, validation, and test sets. "
   ]
  },
  {
   "cell_type": "code",
   "execution_count": 70,
   "metadata": {},
   "outputs": [],
   "source": [
    "# First Split: Train + Validation and Test (80% - 20%)\n",
    "x_train_val_ohe, x_test_ohe, y_train_val_ohe, y_test_ohe = train_test_split(x_ohe, y, test_size=0.2, random_state=42)"
   ]
  },
  {
   "cell_type": "code",
   "execution_count": 71,
   "metadata": {},
   "outputs": [],
   "source": [
    "# Second Split: Train and Validation (75% of 80% -> 60% total for training, 20% for validation)\n",
    "x_train_ohe, x_val_ohe, y_train_ohe, y_val_ohe = train_test_split(x_train_val_ohe, y_train_val_ohe, test_size=0.25, random_state=42)"
   ]
  },
  {
   "cell_type": "markdown",
   "metadata": {},
   "source": [
    "We'll also use Label Encoding for our tree based models. Let's go ahead and encode those categorical features."
   ]
  },
  {
   "cell_type": "code",
   "execution_count": 72,
   "metadata": {},
   "outputs": [],
   "source": [
    "from sklearn.preprocessing import LabelEncoder\n",
    "\n",
    "x_label = x.copy()\n",
    "\n",
    "categorical_features_label = x.select_dtypes(include=['object']).columns\n",
    "\n",
    "# Apply Label Encoding to categorical features\n",
    "label_encoders = {}\n",
    "for col in categorical_features_label:\n",
    "    le = LabelEncoder()\n",
    "    x_label[col] = le.fit_transform(x_label[col])\n",
    "    label_encoders[col] = le\n",
    "    \n",
    "# Reset index\n",
    "x_label = x_label.reset_index(drop=True)"
   ]
  },
  {
   "cell_type": "markdown",
   "metadata": {},
   "source": [
    "Now we'll split our label encoded data into training and testing sets."
   ]
  },
  {
   "cell_type": "code",
   "execution_count": 73,
   "metadata": {},
   "outputs": [],
   "source": [
    "# Split the label encoded data\n",
    "x_train_val_label, x_test_label, y_train_val_label, y_test_label = train_test_split(x_label, y, test_size=0.2, random_state=42)\n",
    "x_train_label, x_val_label, y_train_label, y_val_label = train_test_split(x_train_val_label, y_train_val_label, test_size=0.25, random_state=42)  # 0.25 x 0.8 = 0.2"
   ]
  },
  {
   "cell_type": "markdown",
   "metadata": {},
   "source": [
    "Time to scale our numerical features using Standard Scaler."
   ]
  },
  {
   "cell_type": "code",
   "execution_count": 74,
   "metadata": {},
   "outputs": [],
   "source": [
    "# Make copies to avoid SettingWithCopyWarning\n",
    "x_train_ohe = x_train_ohe.copy()\n",
    "x_val_ohe = x_val_ohe.copy()\n",
    "x_test_ohe = x_test_ohe.copy()"
   ]
  },
  {
   "cell_type": "code",
   "execution_count": 75,
   "metadata": {},
   "outputs": [],
   "source": [
    "# Make copies to avoid SettingWithCopyWarning\n",
    "x_train_label = x_train_label.copy()\n",
    "x_val_label = x_val_label.copy()\n",
    "x_test_label = x_test_label.copy()"
   ]
  },
  {
   "cell_type": "code",
   "execution_count": 76,
   "metadata": {},
   "outputs": [],
   "source": [
    "# Apply scaling to OHE data\n",
    "scaler_ohe = StandardScaler()\n",
    "x_train_ohe[numerical_features] = scaler_ohe.fit_transform(x_train_ohe[numerical_features])\n",
    "x_val_ohe[numerical_features] = scaler_ohe.transform(x_val_ohe[numerical_features])\n",
    "x_test_ohe[numerical_features] = scaler_ohe.transform(x_test_ohe[numerical_features])"
   ]
  },
  {
   "cell_type": "code",
   "execution_count": 77,
   "metadata": {},
   "outputs": [],
   "source": [
    "# Apply scaling to Label Encoded data\n",
    "scaler_label = StandardScaler()\n",
    "x_train_label[numerical_features] = scaler_label.fit_transform(x_train_label[numerical_features])\n",
    "x_val_label[numerical_features] = scaler_label.transform(x_val_label[numerical_features])\n",
    "x_test_label[numerical_features] = scaler_label.transform(x_test_label[numerical_features])"
   ]
  },
  {
   "cell_type": "markdown",
   "metadata": {},
   "source": [
    "Now that our data is preprocessed for machine learning, we'll begin training our models."
   ]
  },
  {
   "cell_type": "code",
   "execution_count": 78,
   "metadata": {},
   "outputs": [],
   "source": [
    "import time\n",
    "import optuna"
   ]
  },
  {
   "cell_type": "markdown",
   "metadata": {},
   "source": [
    "**Linear Regression (Sanity Check)**"
   ]
  },
  {
   "cell_type": "code",
   "execution_count": 79,
   "metadata": {},
   "outputs": [
    {
     "name": "stdout",
     "output_type": "stream",
     "text": [
      "Linear Regression RMSE: 3204.4832827027767\n",
      "CPU times: user 4.73 s, sys: 599 ms, total: 5.33 s\n",
      "Wall time: 5.29 s\n"
     ]
    }
   ],
   "source": [
    "%%time\n",
    "\n",
    "# Train Linear Regression model\n",
    "model_lr = LinearRegression()\n",
    "model_lr.fit(x_train_ohe, y_train_ohe)\n",
    "\n",
    "# predict and evaluate\n",
    "y_pred_lr = model_lr.predict(x_val_ohe)\n",
    "rmse_lr = mean_squared_error(y_val_ohe, y_pred_lr, squared=False)\n",
    "\n",
    "print(f\"Linear Regression RMSE: {rmse_lr}\")"
   ]
  },
  {
   "cell_type": "markdown",
   "metadata": {},
   "source": [
    "Our baseline model is giving us an RMSE score of 3204.48 in 5.33 seconds. We want to make sure our following models give us a lower RMSE score with a quick training and prediction time. "
   ]
  },
  {
   "cell_type": "markdown",
   "metadata": {},
   "source": [
    "**Hyperparameter Tuning & Training of Models**"
   ]
  },
  {
   "cell_type": "markdown",
   "metadata": {},
   "source": [
    "**Decision Tree** <br>\n",
    "\n",
    "We'll find best parameters for our Decision Tree model using Optuna, an automatic hyperparameter tuning software in Python. More information on it can be found here: https://optuna.readthedocs.io/en/stable/"
   ]
  },
  {
   "cell_type": "code",
   "execution_count": 111,
   "metadata": {},
   "outputs": [
    {
     "name": "stdout",
     "output_type": "stream",
     "text": [
      "Best hyperparameters for Decision Tree:\n",
      "{'max_depth': 26, 'min_samples_split': 16, 'min_samples_leaf': 11}\n"
     ]
    }
   ],
   "source": [
    "# Find best parameters of Decision Tree model using Optuna\n",
    "\n",
    "optuna.logging.set_verbosity(optuna.logging.WARNING)\n",
    "\n",
    "# Objective function for decision tree - needed for optuna\n",
    "def objective_decision_tree(trial):\n",
    "    params = {\n",
    "        'max_depth': trial.suggest_int('max_depth', 2, 32),\n",
    "        'min_samples_split': trial.suggest_int('min_samples_split', 2, 20),\n",
    "        'min_samples_leaf': trial.suggest_int('min_samples_leaf', 1, 20)\n",
    "    }\n",
    "    model_dt = DecisionTreeRegressor(**params, random_state=42)\n",
    "    model_dt.fit(x_train_label, y_train_label)\n",
    "    y_pred_dt = model_dt.predict(x_val_label)\n",
    "    rmse = mean_squared_error(y_val_label, y_pred_dt, squared=False)\n",
    "    \n",
    "    return rmse\n",
    "\n",
    "# Perform hyperparameter optimization for Decision Tree\n",
    "study_name = 'decision_tree_study'\n",
    "study_dt = optuna.create_study(direction='minimize', study_name=study_name)\n",
    "study_dt.optimize(objective_decision_tree, n_trials=50)\n",
    "best_params_dt = study_dt.best_params\n",
    "\n",
    "# Print the best parameters\n",
    "print(\"Best hyperparameters for Decision Tree:\")\n",
    "print(best_params_dt)"
   ]
  },
  {
   "cell_type": "markdown",
   "metadata": {},
   "source": [
    "Now that our best parameters are found, we'll train our decision tree on these params."
   ]
  },
  {
   "cell_type": "code",
   "execution_count": 113,
   "metadata": {},
   "outputs": [
    {
     "name": "stdout",
     "output_type": "stream",
     "text": [
      "Decision Tree RMSE on validation set: 1863.0028622411119\n",
      "Execution time: 3.3855438232421875e-05 seconds\n"
     ]
    }
   ],
   "source": [
    "# Train and Evaluate Decision Tree model with best parameters\n",
    "\n",
    "model_dt = DecisionTreeRegressor(\n",
    "    max_depth=best_params_dt['max_depth'],\n",
    "    min_samples_split=best_params_dt['min_samples_split'],\n",
    "    min_samples_leaf=best_params_dt['min_samples_leaf'],\n",
    "    random_state=42\n",
    ")\n",
    "\n",
    "# Train the model\n",
    "model_dt.fit(x_train_label, y_train_label)\n",
    "\n",
    "# Predict on the validation set\n",
    "y_val_pred_dt = model_dt.predict(x_val_label)\n",
    "\n",
    "# Calculate RMSE\n",
    "val_rmse_dt = mean_squared_error(y_val_label, y_val_pred_dt, squared=False)\n",
    "print(f\"Decision Tree RMSE on validation set: {val_rmse_dt}\")\n",
    "\n",
    "\n",
    "start_time = time.time()\n",
    "# Code to time\n",
    "end_time = time.time()\n",
    "print(f\"Execution time: {end_time - start_time} seconds\")"
   ]
  },
  {
   "cell_type": "markdown",
   "metadata": {},
   "source": [
    "Our Decision Tree model is quite good with a lower RMSE score than our baseline Linaer Regression model and faster execution time."
   ]
  },
  {
   "cell_type": "markdown",
   "metadata": {},
   "source": [
    "<br>"
   ]
  },
  {
   "cell_type": "markdown",
   "metadata": {},
   "source": [
    "#### Random Forest"
   ]
  },
  {
   "cell_type": "markdown",
   "metadata": {},
   "source": [
    "Since our dataset is quite large, we'll use a sample of our data to hypertune and train the Random Forest Regressor to save on computational time.\n",
    "\n",
    "We'll use RandomizedSearchCV to find the best parameters."
   ]
  },
  {
   "cell_type": "code",
   "execution_count": 82,
   "metadata": {},
   "outputs": [],
   "source": [
    "x_train_sampled, _, y_train_sampled, _ = train_test_split(x_train_label, y_train_label, test_size=0.1, random_state=42)"
   ]
  },
  {
   "cell_type": "code",
   "execution_count": 83,
   "metadata": {},
   "outputs": [
    {
     "name": "stdout",
     "output_type": "stream",
     "text": [
      "Fitting 3 folds for each of 4 candidates, totalling 12 fits\n",
      "[CV] END ..max_depth=10, max_features=sqrt, n_estimators=100; total time=   7.7s\n",
      "[CV] END ..max_depth=10, max_features=sqrt, n_estimators=100; total time=   8.0s\n",
      "[CV] END ..max_depth=10, max_features=sqrt, n_estimators=100; total time=   7.8s\n",
      "[CV] END ..max_depth=10, max_features=sqrt, n_estimators=150; total time=  11.5s\n",
      "[CV] END ..max_depth=10, max_features=sqrt, n_estimators=150; total time=  11.7s\n",
      "[CV] END ..max_depth=10, max_features=sqrt, n_estimators=150; total time=  11.6s\n",
      "[CV] END ..max_depth=15, max_features=sqrt, n_estimators=100; total time=  11.1s\n",
      "[CV] END ..max_depth=15, max_features=sqrt, n_estimators=100; total time=  11.4s\n",
      "[CV] END ..max_depth=15, max_features=sqrt, n_estimators=100; total time=  11.1s\n",
      "[CV] END ..max_depth=15, max_features=sqrt, n_estimators=150; total time=  17.0s\n",
      "[CV] END ..max_depth=15, max_features=sqrt, n_estimators=150; total time=  16.8s\n",
      "[CV] END ..max_depth=15, max_features=sqrt, n_estimators=150; total time=  16.8s\n",
      "Best hyperparameters found:\n",
      "{'n_estimators': 150, 'max_features': 'sqrt', 'max_depth': 15}\n"
     ]
    }
   ],
   "source": [
    "# Train Random Forest Regressor\n",
    "\n",
    "from sklearn.ensemble import RandomForestRegressor\n",
    "from sklearn.model_selection import RandomizedSearchCV\n",
    "\n",
    "\n",
    "# Define parameters\n",
    "param_dist_rf = {\n",
    "    'n_estimators': [100, 150],\n",
    "    'max_features': ['sqrt'],\n",
    "    'max_depth': [10, 15]\n",
    "}\n",
    "    \n",
    "# Initialize model    \n",
    "model_rf = RandomForestRegressor(random_state=42)\n",
    "\n",
    "# Perform Search\n",
    "random_search_rf = RandomizedSearchCV(estimator=model_rf, param_distributions=param_dist_rf, n_iter=4, cv=3, n_jobs=-1, random_state=42, verbose=2)\n",
    "random_search_rf.fit(x_train_sampled, y_train_sampled)\n",
    "\n",
    "# Get best parameters\n",
    "best_params_rf = random_search_rf.best_params_\n",
    "print(\"Best hyperparameters found:\")\n",
    "print(best_params_rf)\n"
   ]
  },
  {
   "cell_type": "code",
   "execution_count": 84,
   "metadata": {},
   "outputs": [
    {
     "name": "stdout",
     "output_type": "stream",
     "text": [
      "RMSE on full validation data: 1691.4819028636998\n",
      "CPU times: user 27.6 s, sys: 108 ms, total: 27.7 s\n",
      "Wall time: 27.9 s\n"
     ]
    }
   ],
   "source": [
    "%%time\n",
    "\n",
    "# Predict and evaluate Random Forest model on sample dataset\n",
    "model_rf = RandomForestRegressor(\n",
    "    n_estimators=best_params_rf['n_estimators'],\n",
    "    max_features=best_params_rf['max_features'],\n",
    "    max_depth=best_params_rf['max_depth'],\n",
    "    random_state=42\n",
    ")\n",
    "\n",
    "\n",
    "model_rf.fit(x_train_label, y_train_label)\n",
    "\n",
    "y_pred_full = model_rf.predict(x_val_label)\n",
    "rmse_rf_full = mean_squared_error(y_val_label, y_pred_full, squared=False)\n",
    "print(f\"RMSE on full validation data: {rmse_rf_full}\")"
   ]
  },
  {
   "cell_type": "markdown",
   "metadata": {},
   "source": [
    "The Random Forest Regressor took quite a bit of trial and error to get the hyperparameter tuning and training objectives we have here. Since it is a forest of trees and with a large dataset, we had to first use a smaller sample of our data to tune our model then run numerous trials to find the best parameters to use to keep our kernel from dying. In this, we found that it was best to keep our n_estimators under 200 for timing purposes, max_features 'sqrt' was better than 'auto', and max_depth was reduced to 15. \n",
    "We did get a lower RMSE score than the Decision Tree and Linear Regression models, however, speed is a factor for this project so let's see if another model can do better. "
   ]
  },
  {
   "cell_type": "markdown",
   "metadata": {},
   "source": [
    "<br>"
   ]
  },
  {
   "cell_type": "markdown",
   "metadata": {},
   "source": [
    "#### Light GBM\n",
    "\n",
    "Let's take a look at LightGBM model. It is known to work well with large datasets and faster to train than Random Forest models. It can also process unencoded data. To keep our models uniform, we'll use label encoded data.\n",
    "To tune our LightGBM model we'll use GridSearchCV. "
   ]
  },
  {
   "cell_type": "code",
   "execution_count": 85,
   "metadata": {},
   "outputs": [],
   "source": [
    "from sklearn.model_selection import GridSearchCV\n",
    "import lightgbm as lgb"
   ]
  },
  {
   "cell_type": "code",
   "execution_count": 86,
   "metadata": {},
   "outputs": [
    {
     "name": "stdout",
     "output_type": "stream",
     "text": [
      "Fitting 3 folds for each of 8 candidates, totalling 24 fits\n",
      "[CV] END .learning_rate=0.01, n_estimators=50, num_leaves=31; total time=   1.4s\n",
      "[CV] END .learning_rate=0.01, n_estimators=50, num_leaves=31; total time=   1.9s\n",
      "[CV] END .learning_rate=0.01, n_estimators=50, num_leaves=31; total time=   1.4s\n",
      "[CV] END .learning_rate=0.01, n_estimators=50, num_leaves=50; total time=   1.6s\n",
      "[CV] END .learning_rate=0.01, n_estimators=50, num_leaves=50; total time=   1.6s\n",
      "[CV] END .learning_rate=0.01, n_estimators=50, num_leaves=50; total time=   1.6s\n",
      "[CV] END learning_rate=0.01, n_estimators=100, num_leaves=31; total time=   2.5s\n",
      "[CV] END learning_rate=0.01, n_estimators=100, num_leaves=31; total time=   3.0s\n",
      "[CV] END learning_rate=0.01, n_estimators=100, num_leaves=31; total time=   2.6s\n",
      "[CV] END learning_rate=0.01, n_estimators=100, num_leaves=50; total time=   3.0s\n",
      "[CV] END learning_rate=0.01, n_estimators=100, num_leaves=50; total time=   3.4s\n",
      "[CV] END learning_rate=0.01, n_estimators=100, num_leaves=50; total time=   3.0s\n",
      "[CV] END ..learning_rate=0.1, n_estimators=50, num_leaves=31; total time=   1.5s\n",
      "[CV] END ..learning_rate=0.1, n_estimators=50, num_leaves=31; total time=   1.4s\n",
      "[CV] END ..learning_rate=0.1, n_estimators=50, num_leaves=31; total time=   1.5s\n",
      "[CV] END ..learning_rate=0.1, n_estimators=50, num_leaves=50; total time=   2.1s\n",
      "[CV] END ..learning_rate=0.1, n_estimators=50, num_leaves=50; total time=   1.7s\n",
      "[CV] END ..learning_rate=0.1, n_estimators=50, num_leaves=50; total time=   1.8s\n",
      "[CV] END .learning_rate=0.1, n_estimators=100, num_leaves=31; total time=   2.4s\n",
      "[CV] END .learning_rate=0.1, n_estimators=100, num_leaves=31; total time=   2.4s\n",
      "[CV] END .learning_rate=0.1, n_estimators=100, num_leaves=31; total time=   2.5s\n",
      "[CV] END .learning_rate=0.1, n_estimators=100, num_leaves=50; total time=   2.9s\n",
      "[CV] END .learning_rate=0.1, n_estimators=100, num_leaves=50; total time=   2.8s\n",
      "[CV] END .learning_rate=0.1, n_estimators=100, num_leaves=50; total time=   3.4s\n",
      "Best hyperparameters found for LightGBM:\n",
      "{'learning_rate': 0.1, 'n_estimators': 100, 'num_leaves': 50}\n"
     ]
    }
   ],
   "source": [
    "\n",
    "model_lgb = lgb.LGBMRegressor(random_state=42)\n",
    "\n",
    "param_grid = {\n",
    "    'num_leaves': [31, 50],\n",
    "    'learning_rate': [0.01, 0.1],\n",
    "    'n_estimators': [50, 100],\n",
    "}\n",
    "\n",
    "grid_search_lgb = GridSearchCV(estimator=model_lgb, param_grid=param_grid, cv=3, n_jobs=-1, verbose=2, scoring='neg_root_mean_squared_error')\n",
    "grid_search_lgb.fit(x_train_label, y_train_label)\n",
    "\n",
    "# Get best parameters\n",
    "best_params_lgb = grid_search_lgb.best_params_\n",
    "print(\"Best hyperparameters found for LightGBM:\")\n",
    "print(best_params_lgb)"
   ]
  },
  {
   "cell_type": "code",
   "execution_count": 87,
   "metadata": {},
   "outputs": [
    {
     "name": "stdout",
     "output_type": "stream",
     "text": [
      "LightGBM RMSE on validation set: 1733.8196406346603\n",
      "CPU times: user 4.37 s, sys: 28.2 ms, total: 4.4 s\n",
      "Wall time: 4.42 s\n"
     ]
    }
   ],
   "source": [
    "%%time\n",
    "\n",
    "# Train the LightGBM model with the best parameters\n",
    "best_model_lgb = lgb.LGBMRegressor(**best_params_lgb, random_state=42)\n",
    "best_model_lgb.fit(x_train_label, y_train_label)\n",
    "\n",
    "# Predict on the validation set\n",
    "y_val_pred_lgb = best_model_lgb.predict(x_val_label)\n",
    "val_rmse_lgb = mean_squared_error(y_val_label, y_val_pred_lgb, squared=False)\n",
    "print(f\"LightGBM RMSE on validation set: {val_rmse_lgb}\")\n"
   ]
  },
  {
   "cell_type": "markdown",
   "metadata": {},
   "source": [
    "The LightGBM model certainly tuned and trained the fastest compared to our Decision Tree and Random Forest models. We get a lower RMSE score than the LinearRegression and Decision Tree models but slightly higher than Random Forest. However, we have to take into account the training time which was much faster than Random Forest model so the small difference in RMSE scores is not enough to discard the LightGBM model. So far, LightGBM is our best model for our dataset. "
   ]
  },
  {
   "cell_type": "markdown",
   "metadata": {},
   "source": [
    "<br>"
   ]
  },
  {
   "cell_type": "markdown",
   "metadata": {},
   "source": [
    "**CatBoost** <br>\n",
    "CatBoost is another gradient boosting library. It can handle categorical features automatically without the need for encoding and uses a symmetric tree structure which helps reduce overfitting. \n",
    "We'll use Optuna for parameter tuning. \n",
    "\n",
    "Through some trial and error, we found that the tree based models can take quite a bit of time and memory to tune. So for this model we will find the best parameters using a sample of our dataset like we did with Random Forest."
   ]
  },
  {
   "cell_type": "code",
   "execution_count": 88,
   "metadata": {},
   "outputs": [],
   "source": [
    "# Sample the data (10% of the original data)\n",
    "sample_fraction = 0.1\n",
    "x_train_sampled, _, y_train_sampled, _ = train_test_split(\n",
    "    x_train_label, y_train_label, test_size=1-sample_fraction, random_state=42)\n",
    "\n",
    "x_val_sampled, _, y_val_sampled, _ = train_test_split(\n",
    "    x_val_label, y_val_label, test_size=1-sample_fraction, random_state=42)"
   ]
  },
  {
   "cell_type": "code",
   "execution_count": 89,
   "metadata": {},
   "outputs": [],
   "source": [
    "# define Optuna Objective Function\n",
    "def objective_catboost(trial):\n",
    "    params = {\n",
    "        'iterations': trial.suggest_int('iterations', 100, 500),\n",
    "        'depth': trial.suggest_int('depth', 4, 10),\n",
    "        'learning_rate': trial.suggest_loguniform('learning_rate', 0.01, 0.3),\n",
    "        'verbose': 0\n",
    "    }\n",
    "    \n",
    "    model_cb = CatBoostRegressor(**params, random_seed=42)\n",
    "    model_cb.fit(x_train_sampled, y_train_sampled, eval_set=(x_val_sampled, y_val_sampled), early_stopping_rounds=50, verbose=0)\n",
    "    \n",
    "    y_val_pred_cb = model_cb.predict(x_val_sampled)\n",
    "    val_rmse_cb = mean_squared_error(y_val_sampled, y_val_pred_cb, squared=False)\n",
    "    \n",
    "    return val_rmse_cb"
   ]
  },
  {
   "cell_type": "code",
   "execution_count": 90,
   "metadata": {},
   "outputs": [
    {
     "name": "stdout",
     "output_type": "stream",
     "text": [
      "Best hyperparameters found for CatBoost:\n",
      "{'iterations': 434, 'depth': 6, 'learning_rate': 0.23381332728368662}\n"
     ]
    }
   ],
   "source": [
    "# Perform hyperparameter optimization for CatBoost\n",
    "study_cb = optuna.create_study(direction='minimize')\n",
    "study_cb.optimize(objective_catboost, n_trials=50)\n",
    "\n",
    "# Get the best parameters from Optuna\n",
    "best_params_cb = study_cb.best_params\n",
    "print(\"Best hyperparameters found for CatBoost:\")\n",
    "print(best_params_cb)"
   ]
  },
  {
   "cell_type": "code",
   "execution_count": 91,
   "metadata": {},
   "outputs": [
    {
     "name": "stdout",
     "output_type": "stream",
     "text": [
      "0:\tlearn: 3757.4233256\ttest: 3760.4016233\tbest: 3760.4016233 (0)\ttotal: 44.7ms\tremaining: 19.4s\n",
      "100:\tlearn: 1754.7410128\ttest: 1783.0163222\tbest: 1783.0163222 (100)\ttotal: 3.52s\tremaining: 11.6s\n",
      "200:\tlearn: 1681.1558816\ttest: 1735.1567532\tbest: 1735.0823130 (199)\ttotal: 6.99s\tremaining: 8.11s\n",
      "300:\tlearn: 1638.1768426\ttest: 1713.0319585\tbest: 1713.0319585 (300)\ttotal: 10.4s\tremaining: 4.61s\n",
      "400:\tlearn: 1609.0982490\ttest: 1701.9647964\tbest: 1701.9647964 (400)\ttotal: 13.8s\tremaining: 1.14s\n",
      "433:\tlearn: 1600.6216100\ttest: 1700.1659402\tbest: 1700.1617427 (432)\ttotal: 14.9s\tremaining: 0us\n",
      "\n",
      "bestTest = 1700.161743\n",
      "bestIteration = 432\n",
      "\n",
      "Shrink model to first 433 iterations.\n",
      "CatBoost RMSE on validation set: 1700.1617426745227\n",
      "CPU times: user 15.1 s, sys: 15.7 ms, total: 15.1 s\n",
      "Wall time: 15.3 s\n"
     ]
    }
   ],
   "source": [
    "%%time\n",
    "\n",
    "# Train model with best params\n",
    "\n",
    "# Initialize the CatBoost model with the best parameters\n",
    "model_cb = CatBoostRegressor(**best_params_cb, random_seed=42)\n",
    "\n",
    "# Train the model\n",
    "model_cb.fit(x_train_label, y_train_label, eval_set=(x_val_label, y_val_label), early_stopping_rounds=50, verbose=100)\n",
    "\n",
    "# Predict and evaluate the model\n",
    "y_val_pred_cb = model_cb.predict(x_val_label)\n",
    "val_rmse_cb = mean_squared_error(y_val_label, y_val_pred_cb, squared=False)\n",
    "print(f\"CatBoost RMSE on validation set: {val_rmse_cb}\")"
   ]
  },
  {
   "cell_type": "markdown",
   "metadata": {},
   "source": [
    "For our CatBoost model we get a similar RMSE score to our previous 2 models. It's lower than LightGBM and higher than RMSE but not enough to make them not comparable. Since this model also took some time with our large dataset, LightGBM still works best with our data. "
   ]
  },
  {
   "cell_type": "markdown",
   "metadata": {},
   "source": [
    "## Model analysis\n",
    "\n",
    "For this section we'll go ahead and run each model on our test data to find the best RMSE scores. Then we'll compare the models based on their RMSE scores and their computational times for training and model predictions. "
   ]
  },
  {
   "cell_type": "code",
   "execution_count": 114,
   "metadata": {},
   "outputs": [
    {
     "name": "stdout",
     "output_type": "stream",
     "text": [
      "Decision Tree RMSE: 1872.6860430083334\n"
     ]
    }
   ],
   "source": [
    "# Evaluate Decision Tree\n",
    "y_pred_dt = model_dt.predict(x_test_label)\n",
    "rmse_dt = mean_squared_error(y_test_label, y_pred_dt, squared=False)\n",
    "print(f\"Decision Tree RMSE: {rmse_dt}\")"
   ]
  },
  {
   "cell_type": "code",
   "execution_count": 93,
   "metadata": {},
   "outputs": [
    {
     "name": "stdout",
     "output_type": "stream",
     "text": [
      "Random Forest RMSE: 1707.4035435510607\n"
     ]
    }
   ],
   "source": [
    "# Evaluate Random Forest\n",
    "y_pred_rf = model_rf.predict(x_test_label)\n",
    "rmse_rf = mean_squared_error(y_test_label, y_pred_rf, squared=False)\n",
    "print(f\"Random Forest RMSE: {rmse_rf}\")"
   ]
  },
  {
   "cell_type": "code",
   "execution_count": 96,
   "metadata": {},
   "outputs": [
    {
     "name": "stdout",
     "output_type": "stream",
     "text": [
      "LightGBM RMSE: 1747.5385309840199\n"
     ]
    }
   ],
   "source": [
    "# Evaluate LightGBM\n",
    "y_pred_lgb = best_model_lgb.predict(x_test_label)\n",
    "rmse_lgb = mean_squared_error(y_test_label, y_pred_lgb, squared=False)\n",
    "print(f\"LightGBM RMSE: {rmse_lgb}\")"
   ]
  },
  {
   "cell_type": "code",
   "execution_count": 97,
   "metadata": {},
   "outputs": [
    {
     "name": "stdout",
     "output_type": "stream",
     "text": [
      "CatBoost RMSE: 1713.2448239645657\n"
     ]
    }
   ],
   "source": [
    "# Evaluate CatBoost\n",
    "y_pred_cb = model_cb.predict(x_test_label)\n",
    "rmse_cb = mean_squared_error(y_test_label, y_pred_cb, squared=False)\n",
    "print(f\"CatBoost RMSE: {rmse_cb}\")"
   ]
  },
  {
   "cell_type": "code",
   "execution_count": 107,
   "metadata": {},
   "outputs": [
    {
     "name": "stdout",
     "output_type": "stream",
     "text": [
      "Decision Tree RMSE: 1872.645624016985\n",
      "Random Forest RMSE: 1707.4035435510607\n",
      "LightGBM RMSE: 1747.5385309840199\n",
      "CatBoost RMSE: 1713.2448239645657\n",
      "Best Model: Random Forest\n"
     ]
    }
   ],
   "source": [
    "print(f\"Decision Tree RMSE: {rmse_dt}\")\n",
    "print(f\"Random Forest RMSE: {rmse_rf}\")\n",
    "print(f\"LightGBM RMSE: {rmse_lgb}\")\n",
    "print(f\"CatBoost RMSE: {rmse_cb}\")\n",
    "\n",
    "# Select the best model based on RMSE\n",
    "best_model_name = min(\n",
    "    [('Decision Tree', rmse_dt),\n",
    "    ('Random Forest', rmse_rf), \n",
    "     ('LightGBM', rmse_lgb), \n",
    "     ('CatBoost', rmse_cb)], \n",
    "    key=lambda x: x[1]\n",
    ")[0]\n",
    "print(f\"Best Model: {best_model_name}\")"
   ]
  },
  {
   "cell_type": "code",
   "execution_count": 115,
   "metadata": {},
   "outputs": [
    {
     "name": "stdout",
     "output_type": "stream",
     "text": [
      "           Model  Training Time (s)  Prediction Time (s)         RMSE\n",
      "0  Decision Tree           0.695003             0.017453  1872.686043\n",
      "1  Random Forest          26.588338             1.862727  1707.403544\n",
      "2       LightGBM           3.072457             0.616723  1747.538531\n",
      "3       CatBoost          14.302993             0.037725  1713.152759\n"
     ]
    }
   ],
   "source": [
    "\n",
    "# Initialize lists to store results\n",
    "model_names = []\n",
    "training_times = []\n",
    "prediction_times = []\n",
    "rmses = []\n",
    "\n",
    "# Function to measure training and prediction time\n",
    "def measure_time_and_rmse(model, model_name, x_train, y_train, x_val, y_val, x_test, y_test):\n",
    "    # Measure training time\n",
    "    start_time = time.time()\n",
    "    model.fit(x_train, y_train)\n",
    "    training_time = time.time() - start_time\n",
    "    \n",
    "    # Measure prediction time on validation set\n",
    "    start_time = time.time()\n",
    "    y_val_pred = model.predict(x_val)\n",
    "    prediction_time_val = time.time() - start_time\n",
    "    \n",
    "    # Calculate RMSE on validation set\n",
    "    val_rmse = mean_squared_error(y_val, y_val_pred, squared=False)\n",
    "    \n",
    "    # Measure prediction time on test set\n",
    "    start_time = time.time()\n",
    "    y_test_pred = model.predict(x_test)\n",
    "    prediction_time_test = time.time() - start_time\n",
    "    \n",
    "    # Calculate RMSE on test set\n",
    "    test_rmse = mean_squared_error(y_test, y_test_pred, squared=False)\n",
    "    \n",
    "    # Store results\n",
    "    model_names.append(model_name)\n",
    "    training_times.append(training_time)\n",
    "    prediction_times.append(prediction_time_val)\n",
    "    rmses.append(test_rmse)\n",
    "    \n",
    "    return training_time, prediction_time_val, test_rmse\n",
    "\n",
    "# Define models with best parameters\n",
    "best_model_dt = DecisionTreeRegressor(**best_params_dt, random_state=42)\n",
    "best_model_rf = RandomForestRegressor(**best_params_rf, random_state=42)\n",
    "best_model_lgb = lgb.LGBMRegressor(**best_params_lgb, random_state=42)\n",
    "best_model_cb = CatBoostRegressor(**best_params_cb, random_state=42, verbose=0) \n",
    "\n",
    "# Measure time and RMSE for each model\n",
    "measure_time_and_rmse(best_model_dt, \"Decision Tree\", x_train_label, y_train_label, x_val_label, y_val_label, x_test_label, y_test_label)\n",
    "measure_time_and_rmse(best_model_rf, \"Random Forest\", x_train_label, y_train_label, x_val_label, y_val_label, x_test_label, y_test_label)\n",
    "measure_time_and_rmse(best_model_lgb, \"LightGBM\", x_train_label, y_train_label, x_val_label, y_val_label, x_test_label, y_test_label)\n",
    "measure_time_and_rmse(best_model_cb, \"CatBoost\", x_train_label, y_train_label, x_val_label, y_val_label, x_test_label, y_test_label)\n",
    "\n",
    "# Create a DataFrame to store results\n",
    "results_df = pd.DataFrame({\n",
    "    \"Model\": model_names,\n",
    "    \"Training Time (s)\": training_times,\n",
    "    \"Prediction Time (s)\": prediction_times,\n",
    "    \"RMSE\": rmses\n",
    "})\n",
    "\n",
    "# Print results\n",
    "print(results_df)"
   ]
  },
  {
   "cell_type": "code",
   "execution_count": 116,
   "metadata": {},
   "outputs": [
    {
     "data": {
      "image/png": "[encoded data removed]",
      "text/plain": [
       "<Figure size 1800x600 with 3 Axes>"
      ]
     },
     "metadata": {},
     "output_type": "display_data"
    }
   ],
   "source": [
    "# Plot the results\n",
    "plt.figure(figsize=(18, 6))\n",
    "\n",
    "# Plot training times\n",
    "plt.subplot(1, 3, 1)\n",
    "sns.barplot(y=\"Model\", x=\"Training Time (s)\", data=results_df)\n",
    "plt.title(\"Training Time Comparison\")\n",
    "plt.xticks(rotation=45)\n",
    "\n",
    "# Plot prediction time\n",
    "plt.subplot(1, 3, 2)\n",
    "sns.barplot(y=\"Model\", x=\"Prediction Time (s)\", data=results_df)\n",
    "plt.title(\"Prediction Time Comparison\")\n",
    "plt.xticks(rotation=45)\n",
    "\n",
    "# Plot RMSE\n",
    "plt.subplot(1, 3, 3)\n",
    "sns.barplot(y=\"Model\", x=\"RMSE\", data=results_df)\n",
    "plt.title(\"RMSE Comparison\")\n",
    "plt.xticks(rotation=45)\n",
    "\n",
    "plt.tight_layout()\n",
    "plt.show()"
   ]
  },
  {
   "cell_type": "markdown",
   "metadata": {},
   "source": [
    "# Conclusion"
   ]
  },
  {
   "cell_type": "markdown",
   "metadata": {},
   "source": [
    "**Data Preparation** <br>\n",
    "Our data preparation phase has been successfully completed. We began by importing the necessary libraries and uploading the dataset. To ensure consistency and uniformity across the dataset, we standardized column names to all lowercase. Missing values were handled by filling them with the label \"Unknown,\" and duplicate entries were removed to maintain data integrity.\n",
    "\n",
    "\n",
    "**Exploratory Data Analysis** (EDA) <br>\n",
    "The exploratory data analysis (EDA) provided valuable insights into our dataset. The analysis revealed that the majority of vehicles sold were from the Volkswagen brand, highlighting its dominance in the market. The most common vehicle type was small sedans, which typically had high mileage—over 140,000 miles—and an average selling price below 2,500 Euro. These findings offer a clear picture of the market trends and characteristics of the vehicles within our dataset.\n",
    "\n",
    "\n",
    "**Model Analysis and Performance** <br>\n",
    "We evaluated four different machine learning models—Decision Tree, Random Forest, LightGBM, and CatBoost—for regression tasks using our dataset. The goal was to identify the most effective model based on RMSE (Root Mean Squared Error), training time, and prediction time.\n",
    "\n",
    "<u>The Decision Tree model</u>, while the fastest in terms of both training and prediction times, exhibited the highest RMSE. This indicates that although it operates quickly, it is not suitable for our task requiring high predictive accuracy.\n",
    "\n",
    "<u>Random Forest</u> achieved the lowest RMSE, making it the most accurate model among those tested. However, it had the longest training and prediction times, making it unsuitable for our real-time application needed.\n",
    "\n",
    "<u>LightGBM</u> provided a competitive RMSE and significantly shorter training time compared to Random Forest, while its prediction time was also reasonable. This model strikes a good balance between accuracy and computational efficiency.\n",
    "\n",
    "<u>CatBoost</u> offered the fastest prediction time, which is beneficial for real-time applications, but it had a higher training time compared to LightGBM. Its RMSE was slightly higher than Random Forest but better than LightGBM.\n",
    "\n",
    "\n",
    "\n",
    "Based on these results, **LightGBM** model is the preferred model for this particular dataset. It strikes an effective balance between training time, prediction time, and accuracy, making it most suitable for our application. "
   ]
  },
  {
   "cell_type": "markdown",
   "metadata": {},
   "source": [
    "<div class=\"alert alert-block alert-success\">\n",
    "<b>Reviewer's comment</b> <a class=\"tocSkip\"></a>\n",
    "\n",
    "You did a brilliant job! Everything is correct and looks nice. I like your work:)\n",
    "\n",
    "</div>"
   ]
  },
  {
   "cell_type": "code",
   "execution_count": null,
   "metadata": {},
   "outputs": [],
   "source": []
  }
 ],
 "metadata": {
  "ExecuteTimeLog": [
   {
    "duration": 1667,
    "start_time": "2024-07-01T10:52:05.037Z"
   },
   {
    "duration": 4,
    "start_time": "2024-07-01T10:58:03.958Z"
   },
   {
    "duration": 4,
    "start_time": "2024-07-01T11:16:11.627Z"
   },
   {
    "duration": 3931,
    "start_time": "2024-07-01T11:17:43.859Z"
   },
   {
    "duration": 777,
    "start_time": "2024-07-01T11:19:06.766Z"
   },
   {
    "duration": 22,
    "start_time": "2024-07-01T11:20:05.521Z"
   },
   {
    "duration": 416,
    "start_time": "2024-07-01T11:28:25.968Z"
   },
   {
    "duration": 386,
    "start_time": "2024-07-01T11:28:40.406Z"
   },
   {
    "duration": 50,
    "start_time": "2024-07-01T11:28:51.920Z"
   },
   {
    "duration": 380,
    "start_time": "2024-07-01T11:29:01.048Z"
   },
   {
    "duration": 7,
    "start_time": "2024-07-01T11:29:02.272Z"
   },
   {
    "duration": 384,
    "start_time": "2024-07-01T11:29:27.487Z"
   },
   {
    "duration": 23,
    "start_time": "2024-07-01T11:29:43.440Z"
   },
   {
    "duration": 6,
    "start_time": "2024-07-01T11:29:53.120Z"
   },
   {
    "duration": 340,
    "start_time": "2024-07-02T19:43:31.149Z"
   },
   {
    "duration": 1631,
    "start_time": "2024-07-02T19:43:33.928Z"
   },
   {
    "duration": 764,
    "start_time": "2024-07-02T19:43:35.562Z"
   },
   {
    "duration": 35,
    "start_time": "2024-07-02T19:43:36.328Z"
   },
   {
    "duration": 27,
    "start_time": "2024-07-02T19:44:01.078Z"
   },
   {
    "duration": 29,
    "start_time": "2024-07-02T19:44:05.470Z"
   },
   {
    "duration": 144,
    "start_time": "2024-07-04T00:30:00.219Z"
   },
   {
    "duration": 135,
    "start_time": "2024-07-04T00:30:47.947Z"
   },
   {
    "duration": 153,
    "start_time": "2024-07-04T00:42:59.254Z"
   },
   {
    "duration": 19,
    "start_time": "2024-07-04T00:45:45.989Z"
   },
   {
    "duration": 35,
    "start_time": "2024-07-04T00:51:39.662Z"
   },
   {
    "duration": 143,
    "start_time": "2024-07-04T00:51:42.038Z"
   },
   {
    "duration": 159,
    "start_time": "2024-07-04T00:52:15.814Z"
   },
   {
    "duration": 4,
    "start_time": "2024-07-04T00:52:54.602Z"
   },
   {
    "duration": 46,
    "start_time": "2024-07-04T15:05:57.937Z"
   },
   {
    "duration": 219,
    "start_time": "2024-07-04T15:05:58.426Z"
   },
   {
    "duration": 153,
    "start_time": "2024-07-04T15:06:05.728Z"
   },
   {
    "duration": 42,
    "start_time": "2024-07-04T15:06:07.837Z"
   },
   {
    "duration": 162,
    "start_time": "2024-07-04T15:06:09.007Z"
   },
   {
    "duration": 5,
    "start_time": "2024-07-04T15:06:50.682Z"
   },
   {
    "duration": 847,
    "start_time": "2024-07-04T15:06:51.079Z"
   },
   {
    "duration": 26,
    "start_time": "2024-07-04T15:06:51.934Z"
   },
   {
    "duration": 20,
    "start_time": "2024-07-04T15:06:54.741Z"
   },
   {
    "duration": 187,
    "start_time": "2024-07-04T15:06:55.845Z"
   },
   {
    "duration": 159,
    "start_time": "2024-07-04T15:07:02.477Z"
   },
   {
    "duration": 126,
    "start_time": "2024-07-04T15:15:17.516Z"
   },
   {
    "duration": 112,
    "start_time": "2024-07-04T15:15:31.424Z"
   },
   {
    "duration": 99,
    "start_time": "2024-07-04T15:16:58.190Z"
   },
   {
    "duration": 156,
    "start_time": "2024-07-04T15:16:58.894Z"
   },
   {
    "duration": 134,
    "start_time": "2024-07-04T15:17:14.450Z"
   },
   {
    "duration": 144,
    "start_time": "2024-07-04T15:17:22.461Z"
   },
   {
    "duration": 379,
    "start_time": "2024-07-04T15:52:29.663Z"
   },
   {
    "duration": 386,
    "start_time": "2024-07-04T15:52:43.470Z"
   },
   {
    "duration": 408,
    "start_time": "2024-07-04T15:52:53.718Z"
   },
   {
    "duration": 408,
    "start_time": "2024-07-04T15:53:47.567Z"
   },
   {
    "duration": 118,
    "start_time": "2024-07-04T16:14:44.318Z"
   },
   {
    "duration": 390,
    "start_time": "2024-07-06T14:30:05.706Z"
   },
   {
    "duration": 145,
    "start_time": "2024-07-06T14:30:21.342Z"
   },
   {
    "duration": 147,
    "start_time": "2024-07-06T14:31:05.190Z"
   },
   {
    "duration": 24,
    "start_time": "2024-07-07T14:25:46.087Z"
   },
   {
    "duration": 45,
    "start_time": "2024-07-07T14:26:11.197Z"
   },
   {
    "duration": 9,
    "start_time": "2024-07-07T14:31:50.355Z"
   },
   {
    "duration": 323,
    "start_time": "2024-07-07T14:39:38.816Z"
   },
   {
    "duration": 4,
    "start_time": "2024-07-07T14:39:43.304Z"
   },
   {
    "duration": 1732,
    "start_time": "2024-07-07T14:39:44.120Z"
   },
   {
    "duration": 814,
    "start_time": "2024-07-07T14:39:45.946Z"
   },
   {
    "duration": 38,
    "start_time": "2024-07-07T14:39:46.766Z"
   },
   {
    "duration": 32,
    "start_time": "2024-07-07T14:39:48.731Z"
   },
   {
    "duration": 143,
    "start_time": "2024-07-07T14:39:49.796Z"
   },
   {
    "duration": 42461,
    "start_time": "2024-07-07T14:40:20.672Z"
   },
   {
    "duration": 112,
    "start_time": "2024-07-07T14:41:03.244Z"
   },
   {
    "duration": 114,
    "start_time": "2024-07-07T14:41:11.020Z"
   },
   {
    "duration": 103,
    "start_time": "2024-07-07T14:41:13.363Z"
   },
   {
    "duration": 98,
    "start_time": "2024-07-07T14:41:15.667Z"
   },
   {
    "duration": 92,
    "start_time": "2024-07-07T14:41:17.795Z"
   },
   {
    "duration": 301,
    "start_time": "2024-07-07T14:41:19.189Z"
   },
   {
    "duration": 317,
    "start_time": "2024-07-07T14:41:20.051Z"
   },
   {
    "duration": 314,
    "start_time": "2024-07-07T14:47:29.696Z"
   },
   {
    "duration": 303,
    "start_time": "2024-07-07T14:48:29.936Z"
   },
   {
    "duration": 286,
    "start_time": "2024-07-07T14:54:14.479Z"
   },
   {
    "duration": 280,
    "start_time": "2024-07-07T14:54:43.407Z"
   },
   {
    "duration": 292,
    "start_time": "2024-07-07T14:54:49.381Z"
   },
   {
    "duration": 322,
    "start_time": "2024-07-07T14:59:06.051Z"
   },
   {
    "duration": 25,
    "start_time": "2024-07-07T15:02:58.724Z"
   },
   {
    "duration": 332,
    "start_time": "2024-07-07T15:05:55.799Z"
   },
   {
    "duration": 617,
    "start_time": "2024-07-07T15:06:34.716Z"
   },
   {
    "duration": 320,
    "start_time": "2024-07-07T15:06:41.838Z"
   },
   {
    "duration": 6,
    "start_time": "2024-07-07T15:15:30.225Z"
   },
   {
    "duration": 5,
    "start_time": "2024-07-07T15:15:42.928Z"
   },
   {
    "duration": 692,
    "start_time": "2024-07-07T15:15:43.296Z"
   },
   {
    "duration": 23,
    "start_time": "2024-07-07T15:15:43.991Z"
   },
   {
    "duration": 6,
    "start_time": "2024-07-07T15:15:44.128Z"
   },
   {
    "duration": 6,
    "start_time": "2024-07-07T15:17:47.883Z"
   },
   {
    "duration": 23,
    "start_time": "2024-07-07T15:17:51.421Z"
   },
   {
    "duration": 5,
    "start_time": "2024-07-07T15:17:51.871Z"
   },
   {
    "duration": 8,
    "start_time": "2024-07-09T19:19:33.541Z"
   },
   {
    "duration": 4,
    "start_time": "2024-07-09T19:19:40.667Z"
   },
   {
    "duration": 4,
    "start_time": "2024-07-09T19:19:41.368Z"
   },
   {
    "duration": 721,
    "start_time": "2024-07-09T19:19:42.891Z"
   },
   {
    "duration": 19,
    "start_time": "2024-07-09T19:19:44.380Z"
   },
   {
    "duration": 7,
    "start_time": "2024-07-09T19:19:45.496Z"
   },
   {
    "duration": 22,
    "start_time": "2024-07-09T19:19:47.529Z"
   },
   {
    "duration": 6,
    "start_time": "2024-07-09T19:19:47.941Z"
   },
   {
    "duration": 41652,
    "start_time": "2024-07-09T19:19:48.696Z"
   },
   {
    "duration": 105,
    "start_time": "2024-07-09T19:20:30.351Z"
   },
   {
    "duration": 129,
    "start_time": "2024-07-09T19:20:30.459Z"
   },
   {
    "duration": 110,
    "start_time": "2024-07-09T19:20:30.593Z"
   },
   {
    "duration": 101,
    "start_time": "2024-07-09T19:20:30.706Z"
   },
   {
    "duration": 106,
    "start_time": "2024-07-09T19:20:30.809Z"
   },
   {
    "duration": 297,
    "start_time": "2024-07-09T19:20:30.919Z"
   },
   {
    "duration": 302,
    "start_time": "2024-07-09T19:20:31.219Z"
   },
   {
    "duration": 328,
    "start_time": "2024-07-09T19:20:31.524Z"
   },
   {
    "duration": 6,
    "start_time": "2024-07-09T19:20:31.856Z"
   },
   {
    "duration": 33,
    "start_time": "2024-07-09T19:21:53.758Z"
   },
   {
    "duration": 23711,
    "start_time": "2024-07-09T19:21:57.174Z"
   },
   {
    "duration": 13089,
    "start_time": "2024-07-09T19:22:42.595Z"
   },
   {
    "duration": 6708,
    "start_time": "2024-07-09T19:28:21.630Z"
   },
   {
    "duration": 5391,
    "start_time": "2024-07-09T19:28:51.070Z"
   },
   {
    "duration": 5176,
    "start_time": "2024-07-09T19:29:32.984Z"
   },
   {
    "duration": 1913,
    "start_time": "2024-07-09T19:30:17.898Z"
   },
   {
    "duration": 3590,
    "start_time": "2024-07-09T19:30:22.969Z"
   },
   {
    "duration": 1867,
    "start_time": "2024-07-09T19:30:48.791Z"
   },
   {
    "duration": 3039,
    "start_time": "2024-07-09T19:31:13.545Z"
   },
   {
    "duration": 104,
    "start_time": "2024-07-09T22:19:01.562Z"
   },
   {
    "duration": 114,
    "start_time": "2024-07-09T22:19:12.873Z"
   },
   {
    "duration": 6659,
    "start_time": "2024-07-16T13:48:59.298Z"
   },
   {
    "duration": 946,
    "start_time": "2024-07-16T13:49:05.963Z"
   },
   {
    "duration": 29,
    "start_time": "2024-07-16T13:49:06.913Z"
   },
   {
    "duration": 8,
    "start_time": "2024-07-16T13:49:09.373Z"
   },
   {
    "duration": 32,
    "start_time": "2024-07-16T13:49:11.155Z"
   },
   {
    "duration": 7,
    "start_time": "2024-07-16T13:49:11.638Z"
   },
   {
    "duration": 4,
    "start_time": "2024-07-16T13:50:05.739Z"
   },
   {
    "duration": 12,
    "start_time": "2024-07-16T13:50:05.747Z"
   },
   {
    "duration": 1013,
    "start_time": "2024-07-16T13:50:05.766Z"
   },
   {
    "duration": 32,
    "start_time": "2024-07-16T13:50:06.782Z"
   },
   {
    "duration": 7,
    "start_time": "2024-07-16T13:50:06.818Z"
   },
   {
    "duration": 22,
    "start_time": "2024-07-16T13:50:06.830Z"
   },
   {
    "duration": 51,
    "start_time": "2024-07-16T13:50:06.860Z"
   },
   {
    "duration": 46215,
    "start_time": "2024-07-16T13:50:06.914Z"
   },
   {
    "duration": 115,
    "start_time": "2024-07-16T13:50:53.132Z"
   },
   {
    "duration": 156,
    "start_time": "2024-07-16T13:50:53.251Z"
   },
   {
    "duration": 121,
    "start_time": "2024-07-16T13:50:53.411Z"
   },
   {
    "duration": 95,
    "start_time": "2024-07-16T13:50:53.535Z"
   },
   {
    "duration": 108,
    "start_time": "2024-07-16T13:50:53.634Z"
   },
   {
    "duration": 314,
    "start_time": "2024-07-16T13:50:53.748Z"
   },
   {
    "duration": 299,
    "start_time": "2024-07-16T13:50:54.066Z"
   },
   {
    "duration": 410,
    "start_time": "2024-07-16T13:50:54.368Z"
   },
   {
    "duration": 48,
    "start_time": "2024-07-16T13:50:54.780Z"
   },
   {
    "duration": 2104,
    "start_time": "2024-07-16T13:50:54.832Z"
   },
   {
    "duration": 5,
    "start_time": "2024-07-16T14:09:35.852Z"
   },
   {
    "duration": 3,
    "start_time": "2024-07-16T14:09:35.860Z"
   },
   {
    "duration": 357,
    "start_time": "2024-07-16T14:09:39.997Z"
   },
   {
    "duration": 39,
    "start_time": "2024-07-16T14:09:40.358Z"
   },
   {
    "duration": 2028,
    "start_time": "2024-07-16T14:09:40.400Z"
   },
   {
    "duration": 1122360,
    "start_time": "2024-07-16T14:29:21.830Z"
   },
   {
    "duration": 6,
    "start_time": "2024-07-17T11:24:06.250Z"
   },
   {
    "duration": 691,
    "start_time": "2024-07-17T11:24:08.137Z"
   },
   {
    "duration": 19,
    "start_time": "2024-07-17T11:24:09.783Z"
   },
   {
    "duration": 7,
    "start_time": "2024-07-17T11:24:12.495Z"
   },
   {
    "duration": 22,
    "start_time": "2024-07-17T11:24:14.019Z"
   },
   {
    "duration": 5,
    "start_time": "2024-07-17T11:24:17.578Z"
   },
   {
    "duration": 42642,
    "start_time": "2024-07-17T11:24:19.853Z"
   },
   {
    "duration": 118,
    "start_time": "2024-07-17T11:25:02.498Z"
   },
   {
    "duration": 108,
    "start_time": "2024-07-17T11:25:09.781Z"
   },
   {
    "duration": 93,
    "start_time": "2024-07-17T11:25:12.487Z"
   },
   {
    "duration": 95,
    "start_time": "2024-07-17T11:25:14.696Z"
   },
   {
    "duration": 115,
    "start_time": "2024-07-17T11:25:17.037Z"
   },
   {
    "duration": 283,
    "start_time": "2024-07-17T11:25:19.003Z"
   },
   {
    "duration": 269,
    "start_time": "2024-07-17T11:25:21.029Z"
   },
   {
    "duration": 324,
    "start_time": "2024-07-17T11:25:23.402Z"
   },
   {
    "duration": 53,
    "start_time": "2024-07-17T11:25:30.573Z"
   },
   {
    "duration": 1908,
    "start_time": "2024-07-17T11:25:35.823Z"
   },
   {
    "duration": 57,
    "start_time": "2024-07-17T12:02:33.768Z"
   },
   {
    "duration": 1865,
    "start_time": "2024-07-17T12:09:15.938Z"
   },
   {
    "duration": 1720,
    "start_time": "2024-07-17T12:55:59.790Z"
   },
   {
    "duration": 800,
    "start_time": "2024-07-17T12:56:01.910Z"
   },
   {
    "duration": 25,
    "start_time": "2024-07-17T12:56:02.714Z"
   },
   {
    "duration": 6,
    "start_time": "2024-07-17T12:56:02.843Z"
   },
   {
    "duration": 31,
    "start_time": "2024-07-17T12:56:04.654Z"
   },
   {
    "duration": 7,
    "start_time": "2024-07-17T12:56:05.069Z"
   },
   {
    "duration": 41370,
    "start_time": "2024-07-17T12:56:05.391Z"
   },
   {
    "duration": 105,
    "start_time": "2024-07-17T12:56:46.764Z"
   },
   {
    "duration": 111,
    "start_time": "2024-07-17T12:59:29.415Z"
   },
   {
    "duration": 104,
    "start_time": "2024-07-17T12:59:30.255Z"
   },
   {
    "duration": 103,
    "start_time": "2024-07-17T12:59:32.579Z"
   },
   {
    "duration": 89,
    "start_time": "2024-07-17T12:59:32.980Z"
   },
   {
    "duration": 289,
    "start_time": "2024-07-17T12:59:35.255Z"
   },
   {
    "duration": 311,
    "start_time": "2024-07-17T12:59:35.910Z"
   },
   {
    "duration": 338,
    "start_time": "2024-07-17T12:59:36.695Z"
   },
   {
    "duration": 35,
    "start_time": "2024-07-17T12:59:39.050Z"
   },
   {
    "duration": 1845,
    "start_time": "2024-07-17T12:59:39.864Z"
   },
   {
    "duration": 313,
    "start_time": "2024-07-17T13:16:07.490Z"
   },
   {
    "duration": 1704,
    "start_time": "2024-07-17T13:16:10.816Z"
   },
   {
    "duration": 817,
    "start_time": "2024-07-17T13:16:12.524Z"
   },
   {
    "duration": 25,
    "start_time": "2024-07-17T13:16:14.976Z"
   },
   {
    "duration": 5,
    "start_time": "2024-07-17T13:16:16.281Z"
   },
   {
    "duration": 31,
    "start_time": "2024-07-17T13:16:17.237Z"
   },
   {
    "duration": 5,
    "start_time": "2024-07-17T13:16:20.737Z"
   },
   {
    "duration": 41963,
    "start_time": "2024-07-17T13:16:21.789Z"
   },
   {
    "duration": 135,
    "start_time": "2024-07-17T13:17:03.755Z"
   },
   {
    "duration": 111,
    "start_time": "2024-07-17T13:17:57.733Z"
   },
   {
    "duration": 101,
    "start_time": "2024-07-17T13:17:58.780Z"
   },
   {
    "duration": 88,
    "start_time": "2024-07-17T13:18:01.211Z"
   },
   {
    "duration": 93,
    "start_time": "2024-07-17T13:18:01.656Z"
   },
   {
    "duration": 302,
    "start_time": "2024-07-17T13:18:03.767Z"
   },
   {
    "duration": 317,
    "start_time": "2024-07-17T13:18:04.584Z"
   },
   {
    "duration": 353,
    "start_time": "2024-07-17T13:18:05.348Z"
   },
   {
    "duration": 37,
    "start_time": "2024-07-17T13:18:08.454Z"
   },
   {
    "duration": 2244,
    "start_time": "2024-07-17T13:18:42.290Z"
   },
   {
    "duration": 3421,
    "start_time": "2024-07-17T13:19:22.156Z"
   },
   {
    "duration": 104,
    "start_time": "2024-07-17T15:58:56.712Z"
   },
   {
    "duration": 1030,
    "start_time": "2024-07-17T15:59:38.669Z"
   },
   {
    "duration": 29,
    "start_time": "2024-07-17T16:01:21.344Z"
   },
   {
    "duration": 1970,
    "start_time": "2024-07-17T16:01:21.968Z"
   },
   {
    "duration": 2990,
    "start_time": "2024-07-17T16:02:26.123Z"
   },
   {
    "duration": 35,
    "start_time": "2024-07-17T16:03:31.067Z"
   },
   {
    "duration": 1868,
    "start_time": "2024-07-17T16:03:32.515Z"
   },
   {
    "duration": 3280,
    "start_time": "2024-07-17T16:03:34.386Z"
   },
   {
    "duration": 25,
    "start_time": "2024-07-17T16:09:57.384Z"
   },
   {
    "duration": 4,
    "start_time": "2024-07-17T16:10:00.796Z"
   },
   {
    "duration": 35,
    "start_time": "2024-07-17T16:10:01.699Z"
   },
   {
    "duration": 25,
    "start_time": "2024-07-17T18:06:25.728Z"
   },
   {
    "duration": 31,
    "start_time": "2024-07-17T18:07:45.192Z"
   },
   {
    "duration": 25,
    "start_time": "2024-07-17T18:08:20.106Z"
   },
   {
    "duration": 4,
    "start_time": "2024-07-17T18:08:25.592Z"
   },
   {
    "duration": 4,
    "start_time": "2024-07-17T18:08:52.458Z"
   },
   {
    "duration": 31,
    "start_time": "2024-07-17T18:20:22.314Z"
   },
   {
    "duration": 30,
    "start_time": "2024-07-17T18:20:23.298Z"
   },
   {
    "duration": 11,
    "start_time": "2024-07-17T18:20:29.905Z"
   },
   {
    "duration": 5,
    "start_time": "2024-07-17T18:20:35.537Z"
   },
   {
    "duration": 733,
    "start_time": "2024-07-17T18:20:43.316Z"
   },
   {
    "duration": 27,
    "start_time": "2024-07-17T18:26:29.872Z"
   },
   {
    "duration": 1063,
    "start_time": "2024-07-17T18:26:47.121Z"
   },
   {
    "duration": 10,
    "start_time": "2024-07-17T18:27:31.534Z"
   },
   {
    "duration": 26,
    "start_time": "2024-07-17T18:27:41.508Z"
   },
   {
    "duration": 796,
    "start_time": "2024-07-17T18:27:57.687Z"
   },
   {
    "duration": 475,
    "start_time": "2024-07-17T18:34:23.475Z"
   },
   {
    "duration": 8,
    "start_time": "2024-07-17T18:37:50.082Z"
   },
   {
    "duration": 438,
    "start_time": "2024-07-17T18:38:04.146Z"
   },
   {
    "duration": 4,
    "start_time": "2024-07-17T19:27:32.870Z"
   },
   {
    "duration": 31,
    "start_time": "2024-07-17T19:27:35.198Z"
   },
   {
    "duration": 29,
    "start_time": "2024-07-17T19:27:39.678Z"
   },
   {
    "duration": 5,
    "start_time": "2024-07-17T19:27:42.232Z"
   },
   {
    "duration": 4,
    "start_time": "2024-07-17T19:27:49.182Z"
   },
   {
    "duration": 697,
    "start_time": "2024-07-17T19:27:52.317Z"
   },
   {
    "duration": 1032,
    "start_time": "2024-07-17T19:27:54.998Z"
   },
   {
    "duration": 757,
    "start_time": "2024-07-17T19:27:59.409Z"
   },
   {
    "duration": 414,
    "start_time": "2024-07-17T19:28:09.785Z"
   },
   {
    "duration": 3,
    "start_time": "2024-07-17T19:28:55.262Z"
   },
   {
    "duration": 30,
    "start_time": "2024-07-17T19:28:56.625Z"
   },
   {
    "duration": 424,
    "start_time": "2024-07-17T19:29:25.945Z"
   },
   {
    "duration": 420,
    "start_time": "2024-07-17T19:29:44.713Z"
   },
   {
    "duration": 24,
    "start_time": "2024-07-17T19:30:40.953Z"
   },
   {
    "duration": 29,
    "start_time": "2024-07-17T19:30:48.230Z"
   },
   {
    "duration": 4,
    "start_time": "2024-07-17T19:30:49.253Z"
   },
   {
    "duration": 5,
    "start_time": "2024-07-17T19:30:50.088Z"
   },
   {
    "duration": 676,
    "start_time": "2024-07-17T19:30:52.328Z"
   },
   {
    "duration": 986,
    "start_time": "2024-07-17T19:30:53.338Z"
   },
   {
    "duration": 808,
    "start_time": "2024-07-17T19:30:54.329Z"
   },
   {
    "duration": 4,
    "start_time": "2024-07-17T19:30:56.116Z"
   },
   {
    "duration": 30,
    "start_time": "2024-07-17T19:30:56.971Z"
   },
   {
    "duration": 437,
    "start_time": "2024-07-17T19:30:58.699Z"
   },
   {
    "duration": 5,
    "start_time": "2024-07-17T19:39:18.315Z"
   },
   {
    "duration": 4809,
    "start_time": "2024-07-17T20:03:00.128Z"
   },
   {
    "duration": 69,
    "start_time": "2024-07-17T20:08:01.373Z"
   },
   {
    "duration": 16,
    "start_time": "2024-07-17T20:25:52.918Z"
   },
   {
    "duration": 12,
    "start_time": "2024-07-17T20:26:03.686Z"
   },
   {
    "duration": 10,
    "start_time": "2024-07-17T21:02:30.503Z"
   },
   {
    "duration": 8,
    "start_time": "2024-07-17T21:03:22.845Z"
   },
   {
    "duration": 17,
    "start_time": "2024-07-18T08:11:15.193Z"
   },
   {
    "duration": 0,
    "start_time": "2024-07-18T08:11:15.280Z"
   },
   {
    "duration": 0,
    "start_time": "2024-07-18T08:11:15.283Z"
   },
   {
    "duration": 298,
    "start_time": "2024-07-18T10:47:51.311Z"
   },
   {
    "duration": 35,
    "start_time": "2024-07-18T10:47:54.921Z"
   },
   {
    "duration": 260,
    "start_time": "2024-07-18T10:48:08.637Z"
   },
   {
    "duration": 5,
    "start_time": "2024-07-18T10:48:14.960Z"
   },
   {
    "duration": 705,
    "start_time": "2024-07-18T10:48:15.362Z"
   },
   {
    "duration": 19,
    "start_time": "2024-07-18T10:48:16.070Z"
   },
   {
    "duration": 6,
    "start_time": "2024-07-18T10:48:17.454Z"
   },
   {
    "duration": 20,
    "start_time": "2024-07-18T10:48:19.087Z"
   },
   {
    "duration": 6,
    "start_time": "2024-07-18T10:48:19.828Z"
   },
   {
    "duration": 41972,
    "start_time": "2024-07-18T10:48:21.821Z"
   },
   {
    "duration": 123,
    "start_time": "2024-07-18T10:49:03.796Z"
   },
   {
    "duration": 116,
    "start_time": "2024-07-18T10:49:14.210Z"
   },
   {
    "duration": 102,
    "start_time": "2024-07-18T10:49:15.561Z"
   },
   {
    "duration": 91,
    "start_time": "2024-07-18T10:49:17.380Z"
   },
   {
    "duration": 89,
    "start_time": "2024-07-18T10:49:17.970Z"
   },
   {
    "duration": 299,
    "start_time": "2024-07-18T10:49:21.491Z"
   },
   {
    "duration": 265,
    "start_time": "2024-07-18T10:49:22.322Z"
   },
   {
    "duration": 305,
    "start_time": "2024-07-18T10:49:23.109Z"
   },
   {
    "duration": 255,
    "start_time": "2024-07-18T10:49:24.113Z"
   },
   {
    "duration": 32,
    "start_time": "2024-07-18T10:49:28.149Z"
   },
   {
    "duration": 1849,
    "start_time": "2024-07-18T10:49:51.539Z"
   },
   {
    "duration": 3217,
    "start_time": "2024-07-18T10:49:59.133Z"
   },
   {
    "duration": 4,
    "start_time": "2024-07-18T10:51:30.204Z"
   },
   {
    "duration": 33,
    "start_time": "2024-07-18T10:52:33.124Z"
   },
   {
    "duration": 4,
    "start_time": "2024-07-18T10:55:11.485Z"
   },
   {
    "duration": 34,
    "start_time": "2024-07-18T10:55:13.061Z"
   },
   {
    "duration": 256,
    "start_time": "2024-07-18T10:57:20.328Z"
   },
   {
    "duration": 4,
    "start_time": "2024-07-18T10:59:47.759Z"
   },
   {
    "duration": 28,
    "start_time": "2024-07-18T10:59:48.402Z"
   },
   {
    "duration": 32,
    "start_time": "2024-07-18T11:00:34.668Z"
   },
   {
    "duration": 61,
    "start_time": "2024-07-18T11:00:56.123Z"
   },
   {
    "duration": 48,
    "start_time": "2024-07-18T11:01:42.061Z"
   },
   {
    "duration": 28,
    "start_time": "2024-07-18T11:01:56.597Z"
   },
   {
    "duration": 6,
    "start_time": "2024-07-18T11:02:01.209Z"
   },
   {
    "duration": 5,
    "start_time": "2024-07-18T11:02:06.381Z"
   },
   {
    "duration": 676,
    "start_time": "2024-07-18T11:02:59.799Z"
   },
   {
    "duration": 985,
    "start_time": "2024-07-18T11:04:12.816Z"
   },
   {
    "duration": 783,
    "start_time": "2024-07-18T11:04:14.256Z"
   },
   {
    "duration": 4,
    "start_time": "2024-07-18T11:04:18.028Z"
   },
   {
    "duration": 220,
    "start_time": "2024-07-18T11:04:57.686Z"
   },
   {
    "duration": 31,
    "start_time": "2024-07-18T11:05:01.303Z"
   },
   {
    "duration": 218,
    "start_time": "2024-07-18T11:05:04.088Z"
   },
   {
    "duration": 29,
    "start_time": "2024-07-18T11:25:22.441Z"
   },
   {
    "duration": 321,
    "start_time": "2024-07-18T11:25:43.513Z"
   },
   {
    "duration": 4,
    "start_time": "2024-07-18T11:26:01.885Z"
   },
   {
    "duration": 1854,
    "start_time": "2024-07-18T11:26:01.893Z"
   },
   {
    "duration": 779,
    "start_time": "2024-07-18T11:26:03.750Z"
   },
   {
    "duration": 25,
    "start_time": "2024-07-18T11:26:04.533Z"
   },
   {
    "duration": 6,
    "start_time": "2024-07-18T11:26:04.562Z"
   },
   {
    "duration": 63,
    "start_time": "2024-07-18T11:26:04.571Z"
   },
   {
    "duration": 7,
    "start_time": "2024-07-18T11:26:04.637Z"
   },
   {
    "duration": 41563,
    "start_time": "2024-07-18T11:26:04.648Z"
   },
   {
    "duration": 112,
    "start_time": "2024-07-18T11:26:46.213Z"
   },
   {
    "duration": 140,
    "start_time": "2024-07-18T11:26:46.331Z"
   },
   {
    "duration": 105,
    "start_time": "2024-07-18T11:26:46.474Z"
   },
   {
    "duration": 97,
    "start_time": "2024-07-18T11:26:46.582Z"
   },
   {
    "duration": 107,
    "start_time": "2024-07-18T11:26:46.682Z"
   },
   {
    "duration": 293,
    "start_time": "2024-07-18T11:26:46.792Z"
   },
   {
    "duration": 315,
    "start_time": "2024-07-18T11:26:47.088Z"
   },
   {
    "duration": 324,
    "start_time": "2024-07-18T11:26:47.408Z"
   },
   {
    "duration": 293,
    "start_time": "2024-07-18T11:26:47.735Z"
   },
   {
    "duration": 32,
    "start_time": "2024-07-18T11:26:48.031Z"
   },
   {
    "duration": 1961,
    "start_time": "2024-07-18T11:26:48.065Z"
   },
   {
    "duration": 3073,
    "start_time": "2024-07-18T11:26:50.030Z"
   },
   {
    "duration": 5,
    "start_time": "2024-07-18T11:26:53.109Z"
   },
   {
    "duration": 29,
    "start_time": "2024-07-18T11:26:53.118Z"
   },
   {
    "duration": 81,
    "start_time": "2024-07-18T11:26:53.150Z"
   },
   {
    "duration": 27,
    "start_time": "2024-07-18T11:26:53.234Z"
   },
   {
    "duration": 5,
    "start_time": "2024-07-18T11:26:53.264Z"
   },
   {
    "duration": 5,
    "start_time": "2024-07-18T11:26:53.272Z"
   },
   {
    "duration": 719,
    "start_time": "2024-07-18T11:26:53.280Z"
   },
   {
    "duration": 1002,
    "start_time": "2024-07-18T11:26:54.010Z"
   },
   {
    "duration": 781,
    "start_time": "2024-07-18T11:26:55.017Z"
   },
   {
    "duration": 7,
    "start_time": "2024-07-18T11:26:55.801Z"
   },
   {
    "duration": 31,
    "start_time": "2024-07-18T11:26:55.811Z"
   },
   {
    "duration": 238,
    "start_time": "2024-07-18T11:26:55.844Z"
   },
   {
    "duration": 17424,
    "start_time": "2024-07-18T11:26:56.085Z"
   },
   {
    "duration": 3,
    "start_time": "2024-07-18T11:35:21.851Z"
   },
   {
    "duration": 3,
    "start_time": "2024-07-18T11:36:33.298Z"
   },
   {
    "duration": 18316,
    "start_time": "2024-07-18T11:36:34.098Z"
   },
   {
    "duration": 17742,
    "start_time": "2024-07-18T11:59:08.071Z"
   },
   {
    "duration": 18600,
    "start_time": "2024-07-18T12:02:18.841Z"
   },
   {
    "duration": 144,
    "start_time": "2024-07-18T12:05:10.315Z"
   },
   {
    "duration": 330292,
    "start_time": "2024-07-18T12:53:53.654Z"
   },
   {
    "duration": 29567,
    "start_time": "2024-07-18T12:59:52.090Z"
   },
   {
    "duration": 319923,
    "start_time": "2024-07-18T13:00:32.038Z"
   },
   {
    "duration": 323491,
    "start_time": "2024-07-18T13:12:08.474Z"
   },
   {
    "duration": 664581,
    "start_time": "2024-07-18T13:34:11.503Z"
   },
   {
    "duration": 21308,
    "start_time": "2024-07-18T13:45:38.559Z"
   },
   {
    "duration": 172,
    "start_time": "2024-07-18T13:52:44.294Z"
   },
   {
    "duration": 450,
    "start_time": "2024-07-18T13:52:48.942Z"
   },
   {
    "duration": 283,
    "start_time": "2024-07-18T13:52:53.238Z"
   },
   {
    "duration": 1522,
    "start_time": "2024-07-18T13:53:11.294Z"
   },
   {
    "duration": 816,
    "start_time": "2024-07-18T13:53:15.438Z"
   },
   {
    "duration": 29,
    "start_time": "2024-07-18T13:53:16.259Z"
   },
   {
    "duration": 19,
    "start_time": "2024-07-18T13:53:23.638Z"
   },
   {
    "duration": 7,
    "start_time": "2024-07-18T13:53:24.848Z"
   },
   {
    "duration": 34,
    "start_time": "2024-07-18T13:53:25.635Z"
   },
   {
    "duration": 6,
    "start_time": "2024-07-18T13:53:27.935Z"
   },
   {
    "duration": 41591,
    "start_time": "2024-07-18T13:53:32.082Z"
   },
   {
    "duration": 106,
    "start_time": "2024-07-18T13:54:13.676Z"
   },
   {
    "duration": 122,
    "start_time": "2024-07-18T13:54:22.851Z"
   },
   {
    "duration": 104,
    "start_time": "2024-07-18T13:54:24.690Z"
   },
   {
    "duration": 90,
    "start_time": "2024-07-18T13:54:26.057Z"
   },
   {
    "duration": 92,
    "start_time": "2024-07-18T13:54:29.714Z"
   },
   {
    "duration": 282,
    "start_time": "2024-07-18T13:54:31.347Z"
   },
   {
    "duration": 295,
    "start_time": "2024-07-18T13:54:32.802Z"
   },
   {
    "duration": 341,
    "start_time": "2024-07-18T13:54:33.962Z"
   },
   {
    "duration": 279,
    "start_time": "2024-07-18T13:54:34.623Z"
   },
   {
    "duration": 31,
    "start_time": "2024-07-18T13:54:38.018Z"
   },
   {
    "duration": 1943,
    "start_time": "2024-07-18T13:54:39.091Z"
   },
   {
    "duration": 3071,
    "start_time": "2024-07-18T13:54:45.884Z"
   },
   {
    "duration": 4,
    "start_time": "2024-07-18T13:54:55.365Z"
   },
   {
    "duration": 27,
    "start_time": "2024-07-18T13:54:56.078Z"
   },
   {
    "duration": 51,
    "start_time": "2024-07-18T13:54:57.229Z"
   },
   {
    "duration": 30,
    "start_time": "2024-07-18T13:54:58.993Z"
   },
   {
    "duration": 4,
    "start_time": "2024-07-18T13:55:00.108Z"
   },
   {
    "duration": 5,
    "start_time": "2024-07-18T13:55:02.106Z"
   },
   {
    "duration": 738,
    "start_time": "2024-07-18T13:55:03.093Z"
   },
   {
    "duration": 976,
    "start_time": "2024-07-18T13:55:07.393Z"
   },
   {
    "duration": 772,
    "start_time": "2024-07-18T13:55:08.372Z"
   },
   {
    "duration": 3,
    "start_time": "2024-07-18T13:55:09.147Z"
   },
   {
    "duration": 30,
    "start_time": "2024-07-18T13:55:10.001Z"
   },
   {
    "duration": 213,
    "start_time": "2024-07-18T13:55:12.138Z"
   },
   {
    "duration": 3,
    "start_time": "2024-07-18T13:55:13.466Z"
   },
   {
    "duration": 17327,
    "start_time": "2024-07-18T13:55:16.082Z"
   },
   {
    "duration": 326801,
    "start_time": "2024-07-18T13:55:33.414Z"
   },
   {
    "duration": 406055,
    "start_time": "2024-07-18T14:04:52.933Z"
   },
   {
    "duration": 1435784,
    "start_time": "2024-07-18T14:12:20.780Z"
   },
   {
    "duration": 26,
    "start_time": "2024-07-18T14:53:32.442Z"
   },
   {
    "duration": 176,
    "start_time": "2024-07-18T14:54:07.448Z"
   },
   {
    "duration": 7,
    "start_time": "2024-07-18T14:54:36.639Z"
   },
   {
    "duration": 30,
    "start_time": "2024-07-18T14:54:48.071Z"
   },
   {
    "duration": 27,
    "start_time": "2024-07-18T14:55:27.814Z"
   },
   {
    "duration": 902876,
    "start_time": "2024-07-18T15:01:29.500Z"
   },
   {
    "duration": 970,
    "start_time": "2024-07-18T15:33:08.830Z"
   },
   {
    "duration": 4,
    "start_time": "2024-07-18T15:34:58.604Z"
   },
   {
    "duration": 9,
    "start_time": "2024-07-18T15:34:58.623Z"
   },
   {
    "duration": 816,
    "start_time": "2024-07-18T15:34:58.635Z"
   },
   {
    "duration": 19,
    "start_time": "2024-07-18T15:34:59.455Z"
   },
   {
    "duration": 7,
    "start_time": "2024-07-18T15:34:59.477Z"
   },
   {
    "duration": 22,
    "start_time": "2024-07-18T15:34:59.510Z"
   },
   {
    "duration": 6,
    "start_time": "2024-07-18T15:34:59.535Z"
   },
   {
    "duration": 44516,
    "start_time": "2024-07-18T15:34:59.544Z"
   },
   {
    "duration": 105,
    "start_time": "2024-07-18T15:35:44.064Z"
   },
   {
    "duration": 134,
    "start_time": "2024-07-18T15:35:44.174Z"
   },
   {
    "duration": 145,
    "start_time": "2024-07-18T15:35:44.311Z"
   },
   {
    "duration": 105,
    "start_time": "2024-07-18T15:35:44.459Z"
   },
   {
    "duration": 114,
    "start_time": "2024-07-18T15:35:44.566Z"
   },
   {
    "duration": 319,
    "start_time": "2024-07-18T15:35:44.684Z"
   },
   {
    "duration": 316,
    "start_time": "2024-07-18T15:35:45.014Z"
   },
   {
    "duration": 318,
    "start_time": "2024-07-18T15:35:45.335Z"
   },
   {
    "duration": 313,
    "start_time": "2024-07-18T15:35:45.657Z"
   },
   {
    "duration": 44,
    "start_time": "2024-07-18T15:35:45.975Z"
   },
   {
    "duration": 1903,
    "start_time": "2024-07-18T15:35:46.023Z"
   },
   {
    "duration": 3126,
    "start_time": "2024-07-18T15:35:47.930Z"
   },
   {
    "duration": 4,
    "start_time": "2024-07-18T15:35:51.060Z"
   },
   {
    "duration": 52,
    "start_time": "2024-07-18T15:35:51.068Z"
   },
   {
    "duration": 54,
    "start_time": "2024-07-18T15:35:51.124Z"
   },
   {
    "duration": 49,
    "start_time": "2024-07-18T15:35:51.182Z"
   },
   {
    "duration": 6,
    "start_time": "2024-07-18T15:35:51.234Z"
   },
   {
    "duration": 5,
    "start_time": "2024-07-18T15:35:51.243Z"
   },
   {
    "duration": 743,
    "start_time": "2024-07-18T15:35:51.251Z"
   },
   {
    "duration": 1193,
    "start_time": "2024-07-18T15:35:52.008Z"
   },
   {
    "duration": 4,
    "start_time": "2024-07-18T15:35:53.205Z"
   },
   {
    "duration": 34,
    "start_time": "2024-07-18T15:35:53.212Z"
   },
   {
    "duration": 284,
    "start_time": "2024-07-18T15:35:53.249Z"
   },
   {
    "duration": 4,
    "start_time": "2024-07-18T15:35:53.535Z"
   },
   {
    "duration": 195,
    "start_time": "2024-07-18T15:36:13.605Z"
   },
   {
    "duration": 2429,
    "start_time": "2024-07-18T15:36:23.221Z"
   },
   {
    "duration": 972,
    "start_time": "2024-07-18T15:36:25.656Z"
   },
   {
    "duration": 29,
    "start_time": "2024-07-18T15:36:26.632Z"
   },
   {
    "duration": 7,
    "start_time": "2024-07-18T15:36:26.666Z"
   },
   {
    "duration": 36,
    "start_time": "2024-07-18T15:36:29.454Z"
   },
   {
    "duration": 9,
    "start_time": "2024-07-18T15:36:36.461Z"
   },
   {
    "duration": 44694,
    "start_time": "2024-07-18T15:36:39.484Z"
   },
   {
    "duration": 118,
    "start_time": "2024-07-18T15:38:44.959Z"
   },
   {
    "duration": 116,
    "start_time": "2024-07-18T15:38:47.097Z"
   },
   {
    "duration": 125,
    "start_time": "2024-07-18T15:38:48.113Z"
   },
   {
    "duration": 107,
    "start_time": "2024-07-18T15:38:49.879Z"
   },
   {
    "duration": 106,
    "start_time": "2024-07-18T15:38:50.547Z"
   },
   {
    "duration": 359,
    "start_time": "2024-07-18T15:38:52.567Z"
   },
   {
    "duration": 357,
    "start_time": "2024-07-18T15:38:53.679Z"
   },
   {
    "duration": 400,
    "start_time": "2024-07-18T15:38:54.817Z"
   },
   {
    "duration": 302,
    "start_time": "2024-07-18T15:38:56.055Z"
   },
   {
    "duration": 34,
    "start_time": "2024-07-18T15:38:58.982Z"
   },
   {
    "duration": 2112,
    "start_time": "2024-07-18T15:38:59.679Z"
   },
   {
    "duration": 3250,
    "start_time": "2024-07-18T15:39:03.929Z"
   },
   {
    "duration": 4,
    "start_time": "2024-07-18T15:39:11.739Z"
   },
   {
    "duration": 31,
    "start_time": "2024-07-18T15:39:13.714Z"
   },
   {
    "duration": 53,
    "start_time": "2024-07-18T15:39:15.553Z"
   },
   {
    "duration": 28,
    "start_time": "2024-07-18T15:39:17.842Z"
   },
   {
    "duration": 4,
    "start_time": "2024-07-18T15:39:20.158Z"
   },
   {
    "duration": 5,
    "start_time": "2024-07-18T15:39:21.319Z"
   },
   {
    "duration": 799,
    "start_time": "2024-07-18T15:39:25.510Z"
   },
   {
    "duration": 1553,
    "start_time": "2024-07-18T15:39:27.983Z"
   },
   {
    "duration": 4,
    "start_time": "2024-07-18T15:39:32.503Z"
   },
   {
    "duration": 40,
    "start_time": "2024-07-18T15:39:35.686Z"
   },
   {
    "duration": 216,
    "start_time": "2024-07-18T15:39:49.998Z"
   },
   {
    "duration": 95,
    "start_time": "2024-07-18T15:39:52.730Z"
   },
   {
    "duration": 22426,
    "start_time": "2024-07-18T15:39:54.515Z"
   },
   {
    "duration": 430347,
    "start_time": "2024-07-18T15:42:02.689Z"
   },
   {
    "duration": 908956,
    "start_time": "2024-07-19T11:48:55.356Z"
   },
   {
    "duration": 628917,
    "start_time": "2024-07-19T12:06:03.173Z"
   },
   {
    "duration": 1465,
    "start_time": "2024-07-19T12:46:11.862Z"
   },
   {
    "duration": 984,
    "start_time": "2024-07-19T12:46:44.565Z"
   },
   {
    "duration": 772,
    "start_time": "2024-07-19T12:46:45.553Z"
   },
   {
    "duration": 23,
    "start_time": "2024-07-19T12:46:46.328Z"
   },
   {
    "duration": 6,
    "start_time": "2024-07-19T12:46:47.432Z"
   },
   {
    "duration": 31,
    "start_time": "2024-07-19T12:46:50.572Z"
   },
   {
    "duration": 6,
    "start_time": "2024-07-19T12:46:53.601Z"
   },
   {
    "duration": 41137,
    "start_time": "2024-07-19T12:46:54.236Z"
   },
   {
    "duration": 106,
    "start_time": "2024-07-19T12:47:35.376Z"
   },
   {
    "duration": 110,
    "start_time": "2024-07-19T14:53:58.085Z"
   },
   {
    "duration": 105,
    "start_time": "2024-07-19T14:53:58.899Z"
   },
   {
    "duration": 88,
    "start_time": "2024-07-19T14:54:01.244Z"
   },
   {
    "duration": 89,
    "start_time": "2024-07-19T14:54:01.820Z"
   },
   {
    "duration": 285,
    "start_time": "2024-07-19T14:54:03.731Z"
   },
   {
    "duration": 290,
    "start_time": "2024-07-19T14:54:04.130Z"
   },
   {
    "duration": 370,
    "start_time": "2024-07-19T14:54:05.011Z"
   },
   {
    "duration": 273,
    "start_time": "2024-07-19T14:54:05.539Z"
   },
   {
    "duration": 33,
    "start_time": "2024-07-19T14:54:08.028Z"
   },
   {
    "duration": 1871,
    "start_time": "2024-07-19T14:54:08.644Z"
   },
   {
    "duration": 2975,
    "start_time": "2024-07-19T14:54:10.519Z"
   },
   {
    "duration": 3,
    "start_time": "2024-07-19T14:54:17.103Z"
   },
   {
    "duration": 28,
    "start_time": "2024-07-19T14:54:17.726Z"
   },
   {
    "duration": 46,
    "start_time": "2024-07-19T14:54:19.282Z"
   },
   {
    "duration": 28,
    "start_time": "2024-07-19T14:54:20.267Z"
   },
   {
    "duration": 5,
    "start_time": "2024-07-19T14:54:21.451Z"
   },
   {
    "duration": 5,
    "start_time": "2024-07-19T14:54:22.379Z"
   },
   {
    "duration": 103,
    "start_time": "2024-07-19T14:54:34.462Z"
   },
   {
    "duration": 3,
    "start_time": "2024-07-19T14:54:37.106Z"
   },
   {
    "duration": 21,
    "start_time": "2024-07-19T14:54:37.742Z"
   },
   {
    "duration": 210,
    "start_time": "2024-07-19T14:54:38.634Z"
   },
   {
    "duration": 153,
    "start_time": "2024-07-19T14:54:47.323Z"
   },
   {
    "duration": 179,
    "start_time": "2024-07-19T14:54:49.422Z"
   },
   {
    "duration": 5,
    "start_time": "2024-07-19T14:55:08.467Z"
   },
   {
    "duration": 685,
    "start_time": "2024-07-19T14:55:09.082Z"
   },
   {
    "duration": 18,
    "start_time": "2024-07-19T14:55:11.054Z"
   },
   {
    "duration": 5,
    "start_time": "2024-07-19T14:55:11.458Z"
   },
   {
    "duration": 18,
    "start_time": "2024-07-19T14:55:11.843Z"
   },
   {
    "duration": 6,
    "start_time": "2024-07-19T14:55:12.122Z"
   },
   {
    "duration": 41209,
    "start_time": "2024-07-19T14:55:12.357Z"
   },
   {
    "duration": 100,
    "start_time": "2024-07-19T14:55:53.569Z"
   },
   {
    "duration": 132,
    "start_time": "2024-07-19T14:55:53.672Z"
   },
   {
    "duration": 101,
    "start_time": "2024-07-19T14:55:53.811Z"
   },
   {
    "duration": 102,
    "start_time": "2024-07-19T14:55:53.915Z"
   },
   {
    "duration": 104,
    "start_time": "2024-07-19T14:55:54.020Z"
   },
   {
    "duration": 268,
    "start_time": "2024-07-19T14:55:54.128Z"
   },
   {
    "duration": 283,
    "start_time": "2024-07-19T14:55:54.399Z"
   },
   {
    "duration": 329,
    "start_time": "2024-07-19T14:55:54.685Z"
   },
   {
    "duration": 281,
    "start_time": "2024-07-19T14:55:55.020Z"
   },
   {
    "duration": 35,
    "start_time": "2024-07-19T14:55:55.304Z"
   },
   {
    "duration": 1947,
    "start_time": "2024-07-19T14:55:55.343Z"
   },
   {
    "duration": 3015,
    "start_time": "2024-07-19T14:55:57.294Z"
   },
   {
    "duration": 4,
    "start_time": "2024-07-19T14:56:00.312Z"
   },
   {
    "duration": 28,
    "start_time": "2024-07-19T14:56:00.319Z"
   },
   {
    "duration": 87,
    "start_time": "2024-07-19T14:56:00.350Z"
   },
   {
    "duration": 28,
    "start_time": "2024-07-19T14:56:00.440Z"
   },
   {
    "duration": 4,
    "start_time": "2024-07-19T14:56:00.471Z"
   },
   {
    "duration": 30,
    "start_time": "2024-07-19T14:56:00.478Z"
   },
   {
    "duration": 715,
    "start_time": "2024-07-19T14:56:00.511Z"
   },
   {
    "duration": 987,
    "start_time": "2024-07-19T14:56:01.229Z"
   },
   {
    "duration": 3,
    "start_time": "2024-07-19T14:56:02.219Z"
   },
   {
    "duration": 34,
    "start_time": "2024-07-19T14:56:02.226Z"
   },
   {
    "duration": 241,
    "start_time": "2024-07-19T14:56:02.263Z"
   },
   {
    "duration": 4,
    "start_time": "2024-07-19T14:56:02.509Z"
   },
   {
    "duration": 173,
    "start_time": "2024-07-19T14:56:37.766Z"
   },
   {
    "duration": 4,
    "start_time": "2024-07-19T14:57:13.753Z"
   },
   {
    "duration": 1935,
    "start_time": "2024-07-19T14:57:13.760Z"
   },
   {
    "duration": 795,
    "start_time": "2024-07-19T14:57:15.698Z"
   },
   {
    "duration": 26,
    "start_time": "2024-07-19T14:57:16.496Z"
   },
   {
    "duration": 6,
    "start_time": "2024-07-19T14:57:16.527Z"
   },
   {
    "duration": 33,
    "start_time": "2024-07-19T14:57:16.536Z"
   },
   {
    "duration": 39,
    "start_time": "2024-07-19T14:57:16.571Z"
   },
   {
    "duration": 41023,
    "start_time": "2024-07-19T14:57:16.613Z"
   },
   {
    "duration": 104,
    "start_time": "2024-07-19T14:57:57.639Z"
   },
   {
    "duration": 131,
    "start_time": "2024-07-19T14:57:57.746Z"
   },
   {
    "duration": 115,
    "start_time": "2024-07-19T14:57:57.880Z"
   },
   {
    "duration": 86,
    "start_time": "2024-07-19T14:57:57.998Z"
   },
   {
    "duration": 102,
    "start_time": "2024-07-19T14:57:58.092Z"
   },
   {
    "duration": 301,
    "start_time": "2024-07-19T14:57:58.197Z"
   },
   {
    "duration": 310,
    "start_time": "2024-07-19T14:57:58.500Z"
   },
   {
    "duration": 341,
    "start_time": "2024-07-19T14:57:58.813Z"
   },
   {
    "duration": 316,
    "start_time": "2024-07-19T14:57:59.157Z"
   },
   {
    "duration": 45,
    "start_time": "2024-07-19T14:57:59.476Z"
   },
   {
    "duration": 1928,
    "start_time": "2024-07-19T14:57:59.524Z"
   },
   {
    "duration": 3033,
    "start_time": "2024-07-19T14:58:01.455Z"
   },
   {
    "duration": 4,
    "start_time": "2024-07-19T14:58:04.491Z"
   },
   {
    "duration": 31,
    "start_time": "2024-07-19T14:58:04.510Z"
   },
   {
    "duration": 74,
    "start_time": "2024-07-19T14:58:04.544Z"
   },
   {
    "duration": 29,
    "start_time": "2024-07-19T14:58:04.623Z"
   },
   {
    "duration": 5,
    "start_time": "2024-07-19T14:58:04.655Z"
   },
   {
    "duration": 5,
    "start_time": "2024-07-19T14:58:04.664Z"
   },
   {
    "duration": 749,
    "start_time": "2024-07-19T14:58:04.672Z"
   },
   {
    "duration": 999,
    "start_time": "2024-07-19T14:58:05.423Z"
   },
   {
    "duration": 3,
    "start_time": "2024-07-19T14:58:06.425Z"
   },
   {
    "duration": 35,
    "start_time": "2024-07-19T14:58:06.432Z"
   },
   {
    "duration": 245,
    "start_time": "2024-07-19T14:58:06.470Z"
   },
   {
    "duration": 108,
    "start_time": "2024-07-19T14:58:06.717Z"
   },
   {
    "duration": 309,
    "start_time": "2024-07-19T16:42:00.551Z"
   },
   {
    "duration": 3,
    "start_time": "2024-07-19T16:42:05.795Z"
   },
   {
    "duration": 1983,
    "start_time": "2024-07-19T16:42:05.802Z"
   },
   {
    "duration": 796,
    "start_time": "2024-07-19T16:42:07.787Z"
   },
   {
    "duration": 34,
    "start_time": "2024-07-19T16:42:08.587Z"
   },
   {
    "duration": 6,
    "start_time": "2024-07-19T16:42:08.624Z"
   },
   {
    "duration": 32,
    "start_time": "2024-07-19T16:42:08.634Z"
   },
   {
    "duration": 7,
    "start_time": "2024-07-19T16:42:08.669Z"
   },
   {
    "duration": 40902,
    "start_time": "2024-07-19T16:42:08.710Z"
   },
   {
    "duration": 104,
    "start_time": "2024-07-19T16:42:49.619Z"
   },
   {
    "duration": 127,
    "start_time": "2024-07-19T16:42:49.726Z"
   },
   {
    "duration": 106,
    "start_time": "2024-07-19T16:42:49.856Z"
   },
   {
    "duration": 95,
    "start_time": "2024-07-19T16:42:49.965Z"
   },
   {
    "duration": 106,
    "start_time": "2024-07-19T16:42:50.063Z"
   },
   {
    "duration": 295,
    "start_time": "2024-07-19T16:42:50.171Z"
   },
   {
    "duration": 300,
    "start_time": "2024-07-19T16:42:50.468Z"
   },
   {
    "duration": 344,
    "start_time": "2024-07-19T16:42:50.771Z"
   },
   {
    "duration": 293,
    "start_time": "2024-07-19T16:42:51.117Z"
   },
   {
    "duration": 31,
    "start_time": "2024-07-19T16:42:51.413Z"
   },
   {
    "duration": 1918,
    "start_time": "2024-07-19T16:42:51.447Z"
   },
   {
    "duration": 3043,
    "start_time": "2024-07-19T16:42:53.369Z"
   },
   {
    "duration": 4,
    "start_time": "2024-07-19T16:42:56.415Z"
   },
   {
    "duration": 28,
    "start_time": "2024-07-19T16:42:56.422Z"
   },
   {
    "duration": 86,
    "start_time": "2024-07-19T16:42:56.453Z"
   },
   {
    "duration": 28,
    "start_time": "2024-07-19T16:42:56.545Z"
   },
   {
    "duration": 6,
    "start_time": "2024-07-19T16:42:56.575Z"
   },
   {
    "duration": 25,
    "start_time": "2024-07-19T16:42:56.584Z"
   },
   {
    "duration": 660,
    "start_time": "2024-07-19T16:42:56.612Z"
   },
   {
    "duration": 985,
    "start_time": "2024-07-19T16:42:57.275Z"
   },
   {
    "duration": 5,
    "start_time": "2024-07-19T16:42:58.262Z"
   },
   {
    "duration": 54,
    "start_time": "2024-07-19T16:42:58.271Z"
   },
   {
    "duration": 213,
    "start_time": "2024-07-19T16:42:58.327Z"
   },
   {
    "duration": 105,
    "start_time": "2024-07-19T16:42:58.543Z"
   },
   {
    "duration": 325,
    "start_time": "2024-07-19T16:53:14.846Z"
   },
   {
    "duration": 26,
    "start_time": "2024-07-19T16:53:33.541Z"
   },
   {
    "duration": 27,
    "start_time": "2024-07-19T16:53:43.926Z"
   },
   {
    "duration": 21,
    "start_time": "2024-07-19T16:53:46.397Z"
   },
   {
    "duration": 20,
    "start_time": "2024-07-19T16:53:54.981Z"
   },
   {
    "duration": 1986,
    "start_time": "2024-07-19T16:53:58.533Z"
   },
   {
    "duration": 793,
    "start_time": "2024-07-19T16:54:00.522Z"
   },
   {
    "duration": 25,
    "start_time": "2024-07-19T16:54:01.318Z"
   },
   {
    "duration": 6,
    "start_time": "2024-07-19T16:54:01.469Z"
   },
   {
    "duration": 33,
    "start_time": "2024-07-19T16:54:02.533Z"
   },
   {
    "duration": 11,
    "start_time": "2024-07-19T16:54:03.117Z"
   },
   {
    "duration": 39786,
    "start_time": "2024-07-19T16:54:05.257Z"
   },
   {
    "duration": 113,
    "start_time": "2024-07-19T16:54:45.047Z"
   },
   {
    "duration": 109,
    "start_time": "2024-07-19T16:54:53.924Z"
   },
   {
    "duration": 96,
    "start_time": "2024-07-19T16:54:54.590Z"
   },
   {
    "duration": 103,
    "start_time": "2024-07-19T16:54:56.308Z"
   },
   {
    "duration": 92,
    "start_time": "2024-07-19T16:54:57.016Z"
   },
   {
    "duration": 284,
    "start_time": "2024-07-19T16:54:58.892Z"
   },
   {
    "duration": 310,
    "start_time": "2024-07-19T16:54:59.270Z"
   },
   {
    "duration": 337,
    "start_time": "2024-07-19T16:54:59.770Z"
   },
   {
    "duration": 285,
    "start_time": "2024-07-19T16:55:00.556Z"
   },
   {
    "duration": 31,
    "start_time": "2024-07-19T16:55:02.993Z"
   },
   {
    "duration": 1931,
    "start_time": "2024-07-19T16:55:03.644Z"
   },
   {
    "duration": 3015,
    "start_time": "2024-07-19T16:55:05.580Z"
   },
   {
    "duration": 5,
    "start_time": "2024-07-19T16:55:13.116Z"
   },
   {
    "duration": 29,
    "start_time": "2024-07-19T16:55:14.105Z"
   },
   {
    "duration": 53,
    "start_time": "2024-07-19T16:55:14.872Z"
   },
   {
    "duration": 27,
    "start_time": "2024-07-19T16:55:16.091Z"
   },
   {
    "duration": 4,
    "start_time": "2024-07-19T16:55:18.484Z"
   },
   {
    "duration": 4,
    "start_time": "2024-07-19T16:55:19.188Z"
   },
   {
    "duration": 650,
    "start_time": "2024-07-19T16:55:21.059Z"
   },
   {
    "duration": 7,
    "start_time": "2024-07-19T16:55:23.079Z"
   },
   {
    "duration": 5,
    "start_time": "2024-07-19T17:17:25.623Z"
   },
   {
    "duration": 1745,
    "start_time": "2024-07-19T17:17:25.632Z"
   },
   {
    "duration": 724,
    "start_time": "2024-07-19T17:17:27.380Z"
   },
   {
    "duration": 23,
    "start_time": "2024-07-19T17:17:28.110Z"
   },
   {
    "duration": 6,
    "start_time": "2024-07-19T17:17:28.137Z"
   },
   {
    "duration": 64,
    "start_time": "2024-07-19T17:17:28.146Z"
   },
   {
    "duration": 6,
    "start_time": "2024-07-19T17:17:28.212Z"
   },
   {
    "duration": 40584,
    "start_time": "2024-07-19T17:17:28.221Z"
   },
   {
    "duration": 108,
    "start_time": "2024-07-19T17:18:08.807Z"
   },
   {
    "duration": 122,
    "start_time": "2024-07-19T17:18:08.921Z"
   },
   {
    "duration": 116,
    "start_time": "2024-07-19T17:18:09.046Z"
   },
   {
    "duration": 93,
    "start_time": "2024-07-19T17:18:09.165Z"
   },
   {
    "duration": 97,
    "start_time": "2024-07-19T17:18:09.261Z"
   },
   {
    "duration": 281,
    "start_time": "2024-07-19T17:18:09.361Z"
   },
   {
    "duration": 279,
    "start_time": "2024-07-19T17:18:09.645Z"
   },
   {
    "duration": 304,
    "start_time": "2024-07-19T17:18:09.927Z"
   },
   {
    "duration": 291,
    "start_time": "2024-07-19T17:18:10.234Z"
   },
   {
    "duration": 31,
    "start_time": "2024-07-19T17:18:10.527Z"
   },
   {
    "duration": 1824,
    "start_time": "2024-07-19T17:18:10.561Z"
   },
   {
    "duration": 3116,
    "start_time": "2024-07-19T17:18:12.388Z"
   },
   {
    "duration": 4,
    "start_time": "2024-07-19T17:18:15.510Z"
   },
   {
    "duration": 29,
    "start_time": "2024-07-19T17:18:15.518Z"
   },
   {
    "duration": 81,
    "start_time": "2024-07-19T17:18:15.550Z"
   },
   {
    "duration": 28,
    "start_time": "2024-07-19T17:18:15.636Z"
   },
   {
    "duration": 4,
    "start_time": "2024-07-19T17:18:15.666Z"
   },
   {
    "duration": 37,
    "start_time": "2024-07-19T17:18:15.674Z"
   },
   {
    "duration": 649,
    "start_time": "2024-07-19T17:18:15.716Z"
   },
   {
    "duration": 966,
    "start_time": "2024-07-19T17:18:16.372Z"
   },
   {
    "duration": 4,
    "start_time": "2024-07-19T17:18:17.341Z"
   },
   {
    "duration": 37,
    "start_time": "2024-07-19T17:18:17.349Z"
   },
   {
    "duration": 218,
    "start_time": "2024-07-19T17:18:17.410Z"
   },
   {
    "duration": 138,
    "start_time": "2024-07-19T17:18:17.631Z"
   },
   {
    "duration": 19553,
    "start_time": "2024-07-19T17:18:17.771Z"
   },
   {
    "duration": 373139,
    "start_time": "2024-07-19T17:18:37.327Z"
   },
   {
    "duration": 5,
    "start_time": "2024-07-19T17:57:54.313Z"
   },
   {
    "duration": 1912,
    "start_time": "2024-07-19T17:57:54.322Z"
   },
   {
    "duration": 841,
    "start_time": "2024-07-19T17:57:56.237Z"
   },
   {
    "duration": 32,
    "start_time": "2024-07-19T17:57:57.081Z"
   },
   {
    "duration": 6,
    "start_time": "2024-07-19T17:57:57.116Z"
   },
   {
    "duration": 32,
    "start_time": "2024-07-19T17:57:57.126Z"
   },
   {
    "duration": 6,
    "start_time": "2024-07-19T17:57:57.161Z"
   },
   {
    "duration": 40561,
    "start_time": "2024-07-19T17:57:57.170Z"
   },
   {
    "duration": 108,
    "start_time": "2024-07-19T17:58:37.734Z"
   },
   {
    "duration": 129,
    "start_time": "2024-07-19T17:58:37.849Z"
   },
   {
    "duration": 116,
    "start_time": "2024-07-19T17:58:37.982Z"
   },
   {
    "duration": 88,
    "start_time": "2024-07-19T17:58:38.101Z"
   },
   {
    "duration": 99,
    "start_time": "2024-07-19T17:58:38.191Z"
   },
   {
    "duration": 307,
    "start_time": "2024-07-19T17:58:38.293Z"
   },
   {
    "duration": 300,
    "start_time": "2024-07-19T17:58:38.610Z"
   },
   {
    "duration": 350,
    "start_time": "2024-07-19T17:58:38.912Z"
   },
   {
    "duration": 285,
    "start_time": "2024-07-19T17:58:39.264Z"
   },
   {
    "duration": 31,
    "start_time": "2024-07-19T17:58:39.551Z"
   },
   {
    "duration": 1812,
    "start_time": "2024-07-19T17:58:39.585Z"
   },
   {
    "duration": 3071,
    "start_time": "2024-07-19T17:58:41.408Z"
   },
   {
    "duration": 4,
    "start_time": "2024-07-19T17:58:44.483Z"
   },
   {
    "duration": 45,
    "start_time": "2024-07-19T17:58:44.491Z"
   },
   {
    "duration": 75,
    "start_time": "2024-07-19T17:58:44.539Z"
   },
   {
    "duration": 30,
    "start_time": "2024-07-19T17:58:44.617Z"
   },
   {
    "duration": 6,
    "start_time": "2024-07-19T17:58:44.650Z"
   },
   {
    "duration": 5,
    "start_time": "2024-07-19T17:58:44.660Z"
   },
   {
    "duration": 684,
    "start_time": "2024-07-19T17:58:44.709Z"
   },
   {
    "duration": 977,
    "start_time": "2024-07-19T17:58:45.400Z"
   },
   {
    "duration": 4,
    "start_time": "2024-07-19T17:58:46.380Z"
   },
   {
    "duration": 50,
    "start_time": "2024-07-19T17:58:46.387Z"
   },
   {
    "duration": 223,
    "start_time": "2024-07-19T17:58:46.440Z"
   },
   {
    "duration": 169,
    "start_time": "2024-07-19T17:58:46.665Z"
   },
   {
    "duration": 20180,
    "start_time": "2024-07-19T17:58:46.836Z"
   },
   {
    "duration": 377326,
    "start_time": "2024-07-19T17:59:07.020Z"
   },
   {
    "duration": 4,
    "start_time": "2024-07-19T18:27:20.071Z"
   },
   {
    "duration": 1954,
    "start_time": "2024-07-19T18:27:20.080Z"
   },
   {
    "duration": 772,
    "start_time": "2024-07-19T18:27:22.037Z"
   },
   {
    "duration": 22,
    "start_time": "2024-07-19T18:27:22.812Z"
   },
   {
    "duration": 6,
    "start_time": "2024-07-19T18:27:22.840Z"
   },
   {
    "duration": 68,
    "start_time": "2024-07-19T18:27:22.849Z"
   },
   {
    "duration": 6,
    "start_time": "2024-07-19T18:27:22.920Z"
   },
   {
    "duration": 41354,
    "start_time": "2024-07-19T18:27:22.931Z"
   },
   {
    "duration": 104,
    "start_time": "2024-07-19T18:28:04.288Z"
   },
   {
    "duration": 126,
    "start_time": "2024-07-19T18:28:04.394Z"
   },
   {
    "duration": 126,
    "start_time": "2024-07-19T18:28:04.523Z"
   },
   {
    "duration": 92,
    "start_time": "2024-07-19T18:28:04.652Z"
   },
   {
    "duration": 104,
    "start_time": "2024-07-19T18:28:04.747Z"
   },
   {
    "duration": 305,
    "start_time": "2024-07-19T18:28:04.859Z"
   },
   {
    "duration": 309,
    "start_time": "2024-07-19T18:28:05.167Z"
   },
   {
    "duration": 344,
    "start_time": "2024-07-19T18:28:05.479Z"
   },
   {
    "duration": 293,
    "start_time": "2024-07-19T18:28:05.826Z"
   },
   {
    "duration": 33,
    "start_time": "2024-07-19T18:28:06.122Z"
   },
   {
    "duration": 1834,
    "start_time": "2024-07-19T18:28:06.161Z"
   },
   {
    "duration": 3067,
    "start_time": "2024-07-19T18:28:07.998Z"
   },
   {
    "duration": 5,
    "start_time": "2024-07-19T18:28:11.068Z"
   },
   {
    "duration": 53,
    "start_time": "2024-07-19T18:28:11.076Z"
   },
   {
    "duration": 46,
    "start_time": "2024-07-19T18:28:11.132Z"
   },
   {
    "duration": 49,
    "start_time": "2024-07-19T18:28:11.181Z"
   },
   {
    "duration": 5,
    "start_time": "2024-07-19T18:28:11.233Z"
   },
   {
    "duration": 5,
    "start_time": "2024-07-19T18:28:11.241Z"
   },
   {
    "duration": 691,
    "start_time": "2024-07-19T18:28:11.249Z"
   },
   {
    "duration": 976,
    "start_time": "2024-07-19T18:28:11.943Z"
   },
   {
    "duration": 4,
    "start_time": "2024-07-19T18:28:12.921Z"
   },
   {
    "duration": 35,
    "start_time": "2024-07-19T18:28:12.928Z"
   },
   {
    "duration": 228,
    "start_time": "2024-07-19T18:28:12.966Z"
   },
   {
    "duration": 130,
    "start_time": "2024-07-19T18:28:13.196Z"
   },
   {
    "duration": 19980,
    "start_time": "2024-07-19T18:28:13.329Z"
   },
   {
    "duration": 277697,
    "start_time": "2024-07-19T18:28:33.315Z"
   },
   {
    "duration": 23410,
    "start_time": "2024-07-19T18:33:11.015Z"
   },
   {
    "duration": 3,
    "start_time": "2024-07-19T18:33:57.181Z"
   },
   {
    "duration": 25,
    "start_time": "2024-07-19T18:35:59.455Z"
   },
   {
    "duration": 53,
    "start_time": "2024-07-19T18:54:13.058Z"
   },
   {
    "duration": 50,
    "start_time": "2024-07-19T18:54:26.244Z"
   },
   {
    "duration": 4757,
    "start_time": "2024-07-19T19:03:43.916Z"
   },
   {
    "duration": 3517,
    "start_time": "2024-07-19T19:05:57.094Z"
   },
   {
    "duration": 2107,
    "start_time": "2024-07-19T19:06:08.444Z"
   },
   {
    "duration": 1371,
    "start_time": "2024-07-19T19:06:18.264Z"
   },
   {
    "duration": 1358,
    "start_time": "2024-07-19T19:06:51.354Z"
   },
   {
    "duration": 49,
    "start_time": "2024-07-19T19:09:17.078Z"
   },
   {
    "duration": 1361,
    "start_time": "2024-07-19T19:09:17.752Z"
   },
   {
    "duration": 50,
    "start_time": "2024-07-19T19:09:41.598Z"
   },
   {
    "duration": 847,
    "start_time": "2024-07-19T19:10:29.974Z"
   },
   {
    "duration": 3,
    "start_time": "2024-07-19T19:17:21.751Z"
   },
   {
    "duration": 20,
    "start_time": "2024-07-19T19:17:59.458Z"
   },
   {
    "duration": 24,
    "start_time": "2024-07-19T19:18:17.201Z"
   },
   {
    "duration": 6,
    "start_time": "2024-07-19T19:18:21.094Z"
   },
   {
    "duration": 27,
    "start_time": "2024-07-19T19:18:43.808Z"
   },
   {
    "duration": 5,
    "start_time": "2024-07-19T19:18:46.872Z"
   },
   {
    "duration": 4,
    "start_time": "2024-07-19T19:18:55.784Z"
   },
   {
    "duration": 289,
    "start_time": "2024-07-19T19:19:21.002Z"
   },
   {
    "duration": 300,
    "start_time": "2024-07-19T19:19:23.745Z"
   },
   {
    "duration": 3,
    "start_time": "2024-07-19T19:19:25.952Z"
   },
   {
    "duration": 11,
    "start_time": "2024-07-19T19:19:27.424Z"
   },
   {
    "duration": 176,
    "start_time": "2024-07-19T19:19:28.601Z"
   },
   {
    "duration": 3,
    "start_time": "2024-07-19T19:19:34.117Z"
   },
   {
    "duration": 5718,
    "start_time": "2024-07-19T19:19:36.112Z"
   },
   {
    "duration": 3,
    "start_time": "2024-07-19T19:19:53.760Z"
   },
   {
    "duration": 158928,
    "start_time": "2024-07-19T19:19:56.569Z"
   },
   {
    "duration": 5708373,
    "start_time": "2024-07-19T19:26:11.921Z"
   },
   {
    "duration": 6,
    "start_time": "2024-07-19T23:55:45.265Z"
   },
   {
    "duration": 774,
    "start_time": "2024-07-19T23:55:46.922Z"
   },
   {
    "duration": 22,
    "start_time": "2024-07-19T23:55:47.700Z"
   },
   {
    "duration": 8,
    "start_time": "2024-07-19T23:55:47.726Z"
   },
   {
    "duration": 19,
    "start_time": "2024-07-19T23:55:48.137Z"
   },
   {
    "duration": 6,
    "start_time": "2024-07-19T23:55:48.633Z"
   },
   {
    "duration": 41340,
    "start_time": "2024-07-19T23:55:51.187Z"
   },
   {
    "duration": 109,
    "start_time": "2024-07-19T23:56:32.531Z"
   },
   {
    "duration": 108,
    "start_time": "2024-07-19T23:56:34.937Z"
   },
   {
    "duration": 93,
    "start_time": "2024-07-19T23:56:35.780Z"
   },
   {
    "duration": 87,
    "start_time": "2024-07-19T23:56:37.608Z"
   },
   {
    "duration": 92,
    "start_time": "2024-07-19T23:56:38.009Z"
   },
   {
    "duration": 276,
    "start_time": "2024-07-19T23:56:38.733Z"
   },
   {
    "duration": 261,
    "start_time": "2024-07-19T23:56:40.848Z"
   },
   {
    "duration": 297,
    "start_time": "2024-07-19T23:56:41.283Z"
   },
   {
    "duration": 259,
    "start_time": "2024-07-19T23:56:41.673Z"
   },
   {
    "duration": 31,
    "start_time": "2024-07-19T23:56:43.031Z"
   },
   {
    "duration": 2012,
    "start_time": "2024-07-19T23:56:43.745Z"
   },
   {
    "duration": 2971,
    "start_time": "2024-07-19T23:56:45.761Z"
   },
   {
    "duration": 49,
    "start_time": "2024-07-19T23:56:53.265Z"
   },
   {
    "duration": 1377,
    "start_time": "2024-07-19T23:56:55.993Z"
   },
   {
    "duration": 48,
    "start_time": "2024-07-19T23:57:00.225Z"
   },
   {
    "duration": 841,
    "start_time": "2024-07-19T23:57:00.992Z"
   },
   {
    "duration": 5,
    "start_time": "2024-07-19T23:57:05.028Z"
   },
   {
    "duration": 24,
    "start_time": "2024-07-19T23:57:06.113Z"
   },
   {
    "duration": 5,
    "start_time": "2024-07-19T23:57:07.024Z"
   },
   {
    "duration": 29,
    "start_time": "2024-07-19T23:57:08.737Z"
   },
   {
    "duration": 4,
    "start_time": "2024-07-19T23:57:11.557Z"
   },
   {
    "duration": 4,
    "start_time": "2024-07-19T23:57:12.548Z"
   },
   {
    "duration": 277,
    "start_time": "2024-07-19T23:57:13.952Z"
   },
   {
    "duration": 308,
    "start_time": "2024-07-19T23:57:14.937Z"
   },
   {
    "duration": 4,
    "start_time": "2024-07-19T23:57:17.372Z"
   },
   {
    "duration": 10,
    "start_time": "2024-07-19T23:57:17.864Z"
   },
   {
    "duration": 172,
    "start_time": "2024-07-19T23:57:18.432Z"
   },
   {
    "duration": 4,
    "start_time": "2024-07-19T23:57:20.816Z"
   },
   {
    "duration": 5696,
    "start_time": "2024-07-19T23:57:21.816Z"
   },
   {
    "duration": 876,
    "start_time": "2024-07-20T00:11:22.150Z"
   },
   {
    "duration": 6,
    "start_time": "2024-07-20T00:11:31.376Z"
   },
   {
    "duration": 665,
    "start_time": "2024-07-20T00:11:31.903Z"
   },
   {
    "duration": 19,
    "start_time": "2024-07-20T00:11:33.097Z"
   },
   {
    "duration": 7,
    "start_time": "2024-07-20T00:11:36.472Z"
   },
   {
    "duration": 21,
    "start_time": "2024-07-20T00:11:37.095Z"
   },
   {
    "duration": 6,
    "start_time": "2024-07-20T00:11:39.264Z"
   },
   {
    "duration": 41243,
    "start_time": "2024-07-20T00:11:39.987Z"
   },
   {
    "duration": 104,
    "start_time": "2024-07-20T00:12:21.234Z"
   },
   {
    "duration": 126,
    "start_time": "2024-07-20T00:12:21.341Z"
   },
   {
    "duration": 95,
    "start_time": "2024-07-20T00:12:35.951Z"
   },
   {
    "duration": 86,
    "start_time": "2024-07-20T00:12:36.647Z"
   },
   {
    "duration": 91,
    "start_time": "2024-07-20T00:12:38.147Z"
   },
   {
    "duration": 255,
    "start_time": "2024-07-20T00:12:38.791Z"
   },
   {
    "duration": 264,
    "start_time": "2024-07-20T00:12:39.231Z"
   },
   {
    "duration": 283,
    "start_time": "2024-07-20T00:12:40.487Z"
   },
   {
    "duration": 255,
    "start_time": "2024-07-20T00:12:41.086Z"
   },
   {
    "duration": 30,
    "start_time": "2024-07-20T00:12:43.450Z"
   },
   {
    "duration": 1967,
    "start_time": "2024-07-20T00:12:44.115Z"
   },
   {
    "duration": 2994,
    "start_time": "2024-07-20T00:12:46.085Z"
   },
   {
    "duration": 59,
    "start_time": "2024-07-20T00:12:49.082Z"
   },
   {
    "duration": 1370,
    "start_time": "2024-07-20T00:12:50.910Z"
   },
   {
    "duration": 49,
    "start_time": "2024-07-20T00:12:55.920Z"
   },
   {
    "duration": 869,
    "start_time": "2024-07-20T00:12:56.951Z"
   },
   {
    "duration": 4,
    "start_time": "2024-07-20T00:13:01.450Z"
   },
   {
    "duration": 19,
    "start_time": "2024-07-20T00:13:04.026Z"
   },
   {
    "duration": 9,
    "start_time": "2024-07-20T00:13:04.540Z"
   },
   {
    "duration": 24,
    "start_time": "2024-07-20T00:13:05.798Z"
   },
   {
    "duration": 4,
    "start_time": "2024-07-20T00:13:09.258Z"
   },
   {
    "duration": 5,
    "start_time": "2024-07-20T00:13:09.916Z"
   },
   {
    "duration": 275,
    "start_time": "2024-07-20T00:13:11.443Z"
   },
   {
    "duration": 28,
    "start_time": "2024-07-20T00:13:14.520Z"
   },
   {
    "duration": 301,
    "start_time": "2024-07-20T00:13:41.026Z"
   },
   {
    "duration": 223,
    "start_time": "2024-07-20T00:13:42.139Z"
   },
   {
    "duration": 3,
    "start_time": "2024-07-20T00:13:44.725Z"
   },
   {
    "duration": 8,
    "start_time": "2024-07-20T00:13:46.338Z"
   },
   {
    "duration": 138,
    "start_time": "2024-07-20T00:13:47.162Z"
   },
   {
    "duration": 4,
    "start_time": "2024-07-20T00:13:49.937Z"
   },
   {
    "duration": 5158,
    "start_time": "2024-07-20T00:13:52.866Z"
   },
   {
    "duration": 5073,
    "start_time": "2024-07-20T00:17:04.741Z"
   },
   {
    "duration": 2786,
    "start_time": "2024-07-20T00:19:57.614Z"
   },
   {
    "duration": 11,
    "start_time": "2024-07-20T00:21:33.218Z"
   },
   {
    "duration": 2757,
    "start_time": "2024-07-20T00:21:52.448Z"
   },
   {
    "duration": 23,
    "start_time": "2024-07-20T00:24:59.475Z"
   },
   {
    "duration": 625494,
    "start_time": "2024-07-20T00:25:53.415Z"
   },
   {
    "duration": 4,
    "start_time": "2024-07-20T11:20:53.781Z"
   },
   {
    "duration": 6,
    "start_time": "2024-07-20T11:20:53.788Z"
   },
   {
    "duration": 669,
    "start_time": "2024-07-20T11:20:53.797Z"
   },
   {
    "duration": 18,
    "start_time": "2024-07-20T11:20:54.470Z"
   },
   {
    "duration": 20,
    "start_time": "2024-07-20T11:20:54.491Z"
   },
   {
    "duration": 31,
    "start_time": "2024-07-20T11:20:54.514Z"
   },
   {
    "duration": 6,
    "start_time": "2024-07-20T11:20:54.549Z"
   },
   {
    "duration": 40517,
    "start_time": "2024-07-20T11:20:54.558Z"
   },
   {
    "duration": 112,
    "start_time": "2024-07-20T11:21:35.080Z"
   },
   {
    "duration": 143,
    "start_time": "2024-07-20T11:21:35.195Z"
   },
   {
    "duration": 107,
    "start_time": "2024-07-20T11:21:35.342Z"
   },
   {
    "duration": 102,
    "start_time": "2024-07-20T11:21:35.451Z"
   },
   {
    "duration": 106,
    "start_time": "2024-07-20T11:21:35.556Z"
   },
   {
    "duration": 259,
    "start_time": "2024-07-20T11:21:35.667Z"
   },
   {
    "duration": 264,
    "start_time": "2024-07-20T11:21:35.929Z"
   },
   {
    "duration": 294,
    "start_time": "2024-07-20T11:21:36.196Z"
   },
   {
    "duration": 266,
    "start_time": "2024-07-20T11:21:36.493Z"
   },
   {
    "duration": 31,
    "start_time": "2024-07-20T11:21:36.761Z"
   },
   {
    "duration": 1990,
    "start_time": "2024-07-20T11:21:36.795Z"
   },
   {
    "duration": 2976,
    "start_time": "2024-07-20T11:21:38.788Z"
   },
   {
    "duration": 61,
    "start_time": "2024-07-20T11:21:41.767Z"
   },
   {
    "duration": 1382,
    "start_time": "2024-07-20T11:21:41.830Z"
   },
   {
    "duration": 47,
    "start_time": "2024-07-20T11:21:43.216Z"
   },
   {
    "duration": 885,
    "start_time": "2024-07-20T11:21:43.271Z"
   },
   {
    "duration": 4,
    "start_time": "2024-07-20T11:21:44.159Z"
   },
   {
    "duration": 42,
    "start_time": "2024-07-20T11:21:44.166Z"
   },
   {
    "duration": 7,
    "start_time": "2024-07-20T11:21:44.211Z"
   },
   {
    "duration": 24,
    "start_time": "2024-07-20T11:21:44.222Z"
   },
   {
    "duration": 5,
    "start_time": "2024-07-20T11:21:44.250Z"
   },
   {
    "duration": 51,
    "start_time": "2024-07-20T11:21:44.258Z"
   },
   {
    "duration": 292,
    "start_time": "2024-07-20T11:21:44.312Z"
   },
   {
    "duration": 327,
    "start_time": "2024-07-20T11:21:44.613Z"
   },
   {
    "duration": 241,
    "start_time": "2024-07-20T11:21:44.943Z"
   },
   {
    "duration": 4,
    "start_time": "2024-07-20T11:21:45.187Z"
   },
   {
    "duration": 22,
    "start_time": "2024-07-20T11:21:45.194Z"
   },
   {
    "duration": 155,
    "start_time": "2024-07-20T11:21:45.223Z"
   },
   {
    "duration": 37,
    "start_time": "2024-07-20T11:21:45.381Z"
   },
   {
    "duration": 0,
    "start_time": "2024-07-20T11:21:45.422Z"
   },
   {
    "duration": 0,
    "start_time": "2024-07-20T11:21:45.423Z"
   },
   {
    "duration": 0,
    "start_time": "2024-07-20T11:21:45.425Z"
   },
   {
    "duration": 3,
    "start_time": "2024-07-20T11:22:37.752Z"
   },
   {
    "duration": 5172,
    "start_time": "2024-07-20T11:22:41.945Z"
   },
   {
    "duration": 74870,
    "start_time": "2024-07-20T11:22:51.192Z"
   },
   {
    "duration": 78,
    "start_time": "2024-07-20T11:31:30.678Z"
   },
   {
    "duration": 6,
    "start_time": "2024-07-20T11:31:40.627Z"
   },
   {
    "duration": 20,
    "start_time": "2024-07-20T11:31:41.367Z"
   },
   {
    "duration": 6,
    "start_time": "2024-07-20T11:31:42.037Z"
   },
   {
    "duration": 24,
    "start_time": "2024-07-20T11:31:43.090Z"
   },
   {
    "duration": 5,
    "start_time": "2024-07-20T11:31:45.634Z"
   },
   {
    "duration": 3,
    "start_time": "2024-07-20T11:31:46.223Z"
   },
   {
    "duration": 263,
    "start_time": "2024-07-20T11:31:47.564Z"
   },
   {
    "duration": 306,
    "start_time": "2024-07-20T11:32:17.083Z"
   },
   {
    "duration": 225,
    "start_time": "2024-07-20T11:32:18.306Z"
   },
   {
    "duration": 4,
    "start_time": "2024-07-20T11:32:23.497Z"
   },
   {
    "duration": 8,
    "start_time": "2024-07-20T11:32:24.971Z"
   },
   {
    "duration": 138,
    "start_time": "2024-07-20T11:32:30.417Z"
   },
   {
    "duration": 4,
    "start_time": "2024-07-20T11:33:15.585Z"
   },
   {
    "duration": 10,
    "start_time": "2024-07-20T11:33:16.138Z"
   },
   {
    "duration": 175,
    "start_time": "2024-07-20T11:33:16.874Z"
   },
   {
    "duration": 3,
    "start_time": "2024-07-20T11:33:19.085Z"
   },
   {
    "duration": 4948,
    "start_time": "2024-07-20T11:33:36.765Z"
   },
   {
    "duration": 120655,
    "start_time": "2024-07-20T11:33:56.877Z"
   },
   {
    "duration": 269,
    "start_time": "2024-07-20T11:39:10.586Z"
   },
   {
    "duration": 299,
    "start_time": "2024-07-20T11:39:25.261Z"
   },
   {
    "duration": 223,
    "start_time": "2024-07-20T11:39:25.814Z"
   },
   {
    "duration": 3,
    "start_time": "2024-07-20T11:41:19.075Z"
   },
   {
    "duration": 10,
    "start_time": "2024-07-20T11:41:20.214Z"
   },
   {
    "duration": 173,
    "start_time": "2024-07-20T11:41:20.925Z"
   },
   {
    "duration": 3,
    "start_time": "2024-07-20T11:41:21.940Z"
   },
   {
    "duration": 4912,
    "start_time": "2024-07-20T11:41:29.597Z"
   },
   {
    "duration": 1392,
    "start_time": "2024-07-20T11:52:36.854Z"
   },
   {
    "duration": 3,
    "start_time": "2024-07-20T11:52:45.178Z"
   },
   {
    "duration": 929,
    "start_time": "2024-07-20T11:52:45.185Z"
   },
   {
    "duration": 726,
    "start_time": "2024-07-20T11:52:46.116Z"
   },
   {
    "duration": 23,
    "start_time": "2024-07-20T11:52:46.846Z"
   },
   {
    "duration": 6,
    "start_time": "2024-07-20T11:52:46.872Z"
   },
   {
    "duration": 58,
    "start_time": "2024-07-20T11:52:46.881Z"
   },
   {
    "duration": 7,
    "start_time": "2024-07-20T11:52:46.941Z"
   },
   {
    "duration": 40941,
    "start_time": "2024-07-20T11:52:46.951Z"
   },
   {
    "duration": 117,
    "start_time": "2024-07-20T11:53:27.895Z"
   },
   {
    "duration": 121,
    "start_time": "2024-07-20T11:53:28.018Z"
   },
   {
    "duration": 106,
    "start_time": "2024-07-20T11:53:28.142Z"
   },
   {
    "duration": 100,
    "start_time": "2024-07-20T11:53:28.251Z"
   },
   {
    "duration": 99,
    "start_time": "2024-07-20T11:53:28.354Z"
   },
   {
    "duration": 293,
    "start_time": "2024-07-20T11:53:28.456Z"
   },
   {
    "duration": 309,
    "start_time": "2024-07-20T11:53:28.752Z"
   },
   {
    "duration": 359,
    "start_time": "2024-07-20T11:53:29.064Z"
   },
   {
    "duration": 316,
    "start_time": "2024-07-20T11:53:29.426Z"
   },
   {
    "duration": 32,
    "start_time": "2024-07-20T11:53:29.745Z"
   },
   {
    "duration": 1899,
    "start_time": "2024-07-20T11:53:29.780Z"
   },
   {
    "duration": 2975,
    "start_time": "2024-07-20T11:53:31.682Z"
   },
   {
    "duration": 62,
    "start_time": "2024-07-20T11:53:34.661Z"
   },
   {
    "duration": 1437,
    "start_time": "2024-07-20T11:53:34.726Z"
   },
   {
    "duration": 66,
    "start_time": "2024-07-20T11:53:36.166Z"
   },
   {
    "duration": 867,
    "start_time": "2024-07-20T11:53:36.234Z"
   },
   {
    "duration": 5,
    "start_time": "2024-07-20T11:53:37.108Z"
   },
   {
    "duration": 21,
    "start_time": "2024-07-20T11:53:37.116Z"
   },
   {
    "duration": 5,
    "start_time": "2024-07-20T11:53:37.140Z"
   },
   {
    "duration": 66,
    "start_time": "2024-07-20T11:53:37.154Z"
   },
   {
    "duration": 5,
    "start_time": "2024-07-20T11:53:37.223Z"
   },
   {
    "duration": 6,
    "start_time": "2024-07-20T11:53:37.231Z"
   },
   {
    "duration": 342,
    "start_time": "2024-07-20T11:53:37.240Z"
   },
   {
    "duration": 320,
    "start_time": "2024-07-20T11:53:37.585Z"
   },
   {
    "duration": 246,
    "start_time": "2024-07-20T11:53:37.910Z"
   },
   {
    "duration": 3,
    "start_time": "2024-07-20T11:53:38.159Z"
   },
   {
    "duration": 13,
    "start_time": "2024-07-20T11:53:38.165Z"
   },
   {
    "duration": 316,
    "start_time": "2024-07-20T11:53:38.181Z"
   },
   {
    "duration": 61,
    "start_time": "2024-07-20T11:53:38.500Z"
   },
   {
    "duration": 4859,
    "start_time": "2024-07-20T11:53:38.563Z"
   },
   {
    "duration": 121490,
    "start_time": "2024-07-20T11:53:43.425Z"
   },
   {
    "duration": 1579721,
    "start_time": "2024-07-20T11:55:44.919Z"
   },
   {
    "duration": 0,
    "start_time": "2024-07-20T12:22:04.643Z"
   },
   {
    "duration": 0,
    "start_time": "2024-07-20T12:22:04.646Z"
   },
   {
    "duration": 4,
    "start_time": "2024-07-20T12:24:24.177Z"
   },
   {
    "duration": 6,
    "start_time": "2024-07-20T12:24:29.153Z"
   },
   {
    "duration": 661,
    "start_time": "2024-07-20T12:24:30.718Z"
   },
   {
    "duration": 26,
    "start_time": "2024-07-20T12:24:31.382Z"
   },
   {
    "duration": 7,
    "start_time": "2024-07-20T12:24:33.529Z"
   },
   {
    "duration": 20,
    "start_time": "2024-07-20T12:24:34.430Z"
   },
   {
    "duration": 7,
    "start_time": "2024-07-20T12:24:35.072Z"
   },
   {
    "duration": 40816,
    "start_time": "2024-07-20T12:24:36.081Z"
   },
   {
    "duration": 115,
    "start_time": "2024-07-20T12:25:16.900Z"
   },
   {
    "duration": 104,
    "start_time": "2024-07-20T12:25:24.325Z"
   },
   {
    "duration": 93,
    "start_time": "2024-07-20T12:25:26.025Z"
   },
   {
    "duration": 86,
    "start_time": "2024-07-20T12:25:27.396Z"
   },
   {
    "duration": 91,
    "start_time": "2024-07-20T12:25:27.920Z"
   },
   {
    "duration": 280,
    "start_time": "2024-07-20T12:25:29.461Z"
   },
   {
    "duration": 254,
    "start_time": "2024-07-20T12:25:30.285Z"
   },
   {
    "duration": 292,
    "start_time": "2024-07-20T12:25:30.888Z"
   },
   {
    "duration": 257,
    "start_time": "2024-07-20T12:25:33.284Z"
   },
   {
    "duration": 31,
    "start_time": "2024-07-20T12:25:37.028Z"
   },
   {
    "duration": 1785,
    "start_time": "2024-07-20T12:25:41.756Z"
   },
   {
    "duration": 2959,
    "start_time": "2024-07-20T12:25:46.013Z"
   },
   {
    "duration": 51,
    "start_time": "2024-07-20T12:26:01.040Z"
   },
   {
    "duration": 1501,
    "start_time": "2024-07-20T12:26:08.987Z"
   },
   {
    "duration": 49,
    "start_time": "2024-07-20T12:26:13.541Z"
   },
   {
    "duration": 884,
    "start_time": "2024-07-20T12:26:14.596Z"
   },
   {
    "duration": 4,
    "start_time": "2024-07-20T12:26:20.159Z"
   },
   {
    "duration": 22,
    "start_time": "2024-07-20T12:26:21.477Z"
   },
   {
    "duration": 5,
    "start_time": "2024-07-20T12:26:22.796Z"
   },
   {
    "duration": 28,
    "start_time": "2024-07-20T12:26:27.404Z"
   },
   {
    "duration": 5,
    "start_time": "2024-07-20T12:26:44.683Z"
   },
   {
    "duration": 5,
    "start_time": "2024-07-20T12:26:45.830Z"
   },
   {
    "duration": 275,
    "start_time": "2024-07-20T12:26:48.851Z"
   },
   {
    "duration": 295,
    "start_time": "2024-07-20T12:26:50.484Z"
   },
   {
    "duration": 228,
    "start_time": "2024-07-20T12:26:51.684Z"
   },
   {
    "duration": 292,
    "start_time": "2024-07-20T12:27:52.247Z"
   },
   {
    "duration": 232,
    "start_time": "2024-07-20T12:27:52.752Z"
   },
   {
    "duration": 467,
    "start_time": "2024-07-20T12:28:02.702Z"
   },
   {
    "duration": 85,
    "start_time": "2024-07-20T12:28:15.758Z"
   },
   {
    "duration": 3,
    "start_time": "2024-07-20T12:28:17.502Z"
   },
   {
    "duration": 27,
    "start_time": "2024-07-20T12:28:22.909Z"
   },
   {
    "duration": 175,
    "start_time": "2024-07-20T12:29:12.095Z"
   },
   {
    "duration": 12,
    "start_time": "2024-07-20T12:51:13.164Z"
   },
   {
    "duration": 8,
    "start_time": "2024-07-20T12:51:14.389Z"
   },
   {
    "duration": 168,
    "start_time": "2024-07-20T12:51:16.935Z"
   },
   {
    "duration": 26,
    "start_time": "2024-07-20T12:51:22.900Z"
   },
   {
    "duration": 178,
    "start_time": "2024-07-20T12:51:40.171Z"
   },
   {
    "duration": 5072,
    "start_time": "2024-07-22T11:21:58.553Z"
   },
   {
    "duration": 6,
    "start_time": "2024-07-22T12:28:27.532Z"
   },
   {
    "duration": 33,
    "start_time": "2024-07-22T12:31:55.918Z"
   },
   {
    "duration": 97,
    "start_time": "2024-07-22T12:31:57.484Z"
   },
   {
    "duration": 6,
    "start_time": "2024-07-22T12:32:02.940Z"
   },
   {
    "duration": 670,
    "start_time": "2024-07-22T12:32:03.717Z"
   },
   {
    "duration": 19,
    "start_time": "2024-07-22T12:32:04.404Z"
   },
   {
    "duration": 6,
    "start_time": "2024-07-22T12:32:06.548Z"
   },
   {
    "duration": 20,
    "start_time": "2024-07-22T12:32:07.252Z"
   },
   {
    "duration": 6,
    "start_time": "2024-07-22T12:32:08.548Z"
   },
   {
    "duration": 43,
    "start_time": "2024-07-22T12:32:10.268Z"
   },
   {
    "duration": 101,
    "start_time": "2024-07-22T12:32:11.308Z"
   },
   {
    "duration": 106,
    "start_time": "2024-07-22T12:32:15.144Z"
   },
   {
    "duration": 94,
    "start_time": "2024-07-22T12:32:17.068Z"
   },
   {
    "duration": 88,
    "start_time": "2024-07-22T12:32:21.531Z"
   },
   {
    "duration": 89,
    "start_time": "2024-07-22T12:32:22.429Z"
   },
   {
    "duration": 248,
    "start_time": "2024-07-22T12:32:24.548Z"
   },
   {
    "duration": 240,
    "start_time": "2024-07-22T12:32:31.508Z"
   },
   {
    "duration": 236,
    "start_time": "2024-07-22T12:32:32.479Z"
   },
   {
    "duration": 6,
    "start_time": "2024-07-22T12:35:04.796Z"
   },
   {
    "duration": 679,
    "start_time": "2024-07-22T12:35:06.829Z"
   },
   {
    "duration": 18,
    "start_time": "2024-07-22T12:35:07.890Z"
   },
   {
    "duration": 6,
    "start_time": "2024-07-22T12:35:09.174Z"
   },
   {
    "duration": 20,
    "start_time": "2024-07-22T12:35:14.186Z"
   },
   {
    "duration": 8,
    "start_time": "2024-07-22T12:35:15.626Z"
   },
   {
    "duration": 40774,
    "start_time": "2024-07-22T12:35:16.819Z"
   },
   {
    "duration": 113,
    "start_time": "2024-07-22T12:35:57.596Z"
   },
   {
    "duration": 109,
    "start_time": "2024-07-22T12:36:03.444Z"
   },
   {
    "duration": 97,
    "start_time": "2024-07-22T12:36:05.025Z"
   },
   {
    "duration": 88,
    "start_time": "2024-07-22T12:36:07.897Z"
   },
   {
    "duration": 93,
    "start_time": "2024-07-22T12:36:08.469Z"
   },
   {
    "duration": 256,
    "start_time": "2024-07-22T12:36:11.037Z"
   },
   {
    "duration": 252,
    "start_time": "2024-07-22T12:36:12.345Z"
   },
   {
    "duration": 305,
    "start_time": "2024-07-22T12:36:14.841Z"
   },
   {
    "duration": 265,
    "start_time": "2024-07-22T12:36:15.762Z"
   },
   {
    "duration": 31,
    "start_time": "2024-07-22T12:36:20.481Z"
   },
   {
    "duration": 1773,
    "start_time": "2024-07-22T12:36:21.255Z"
   },
   {
    "duration": 3136,
    "start_time": "2024-07-22T12:36:26.253Z"
   },
   {
    "duration": 50,
    "start_time": "2024-07-22T12:36:32.946Z"
   },
   {
    "duration": 1405,
    "start_time": "2024-07-22T12:36:35.137Z"
   },
   {
    "duration": 48,
    "start_time": "2024-07-22T12:36:40.985Z"
   },
   {
    "duration": 876,
    "start_time": "2024-07-22T12:36:43.146Z"
   },
   {
    "duration": 4,
    "start_time": "2024-07-22T12:36:48.057Z"
   },
   {
    "duration": 22,
    "start_time": "2024-07-22T12:36:49.612Z"
   },
   {
    "duration": 6,
    "start_time": "2024-07-22T12:36:51.961Z"
   },
   {
    "duration": 24,
    "start_time": "2024-07-22T12:36:53.545Z"
   },
   {
    "duration": 6,
    "start_time": "2024-07-22T12:36:54.625Z"
   },
   {
    "duration": 4,
    "start_time": "2024-07-22T12:36:55.549Z"
   },
   {
    "duration": 275,
    "start_time": "2024-07-22T12:36:58.464Z"
   },
   {
    "duration": 302,
    "start_time": "2024-07-22T12:36:59.632Z"
   },
   {
    "duration": 224,
    "start_time": "2024-07-22T12:37:00.545Z"
   },
   {
    "duration": 474,
    "start_time": "2024-07-22T12:37:02.457Z"
   },
   {
    "duration": 83,
    "start_time": "2024-07-22T12:37:05.476Z"
   },
   {
    "duration": 10,
    "start_time": "2024-07-22T12:37:06.625Z"
   },
   {
    "duration": 7,
    "start_time": "2024-07-22T12:37:08.402Z"
   },
   {
    "duration": 173,
    "start_time": "2024-07-22T12:37:09.025Z"
   },
   {
    "duration": 178,
    "start_time": "2024-07-22T12:37:09.781Z"
   },
   {
    "duration": 3,
    "start_time": "2024-07-22T12:37:13.841Z"
   },
   {
    "duration": 5028,
    "start_time": "2024-07-22T12:37:16.297Z"
   },
   {
    "duration": 32418,
    "start_time": "2024-07-22T12:37:24.858Z"
   },
   {
    "duration": 7,
    "start_time": "2024-07-22T12:43:35.826Z"
   },
   {
    "duration": 6,
    "start_time": "2024-07-22T12:43:45.125Z"
   },
   {
    "duration": 7,
    "start_time": "2024-07-22T12:43:49.174Z"
   },
   {
    "duration": 663,
    "start_time": "2024-07-22T12:44:38.752Z"
   },
   {
    "duration": 155289,
    "start_time": "2024-07-22T12:44:47.154Z"
   },
   {
    "duration": 23380,
    "start_time": "2024-07-22T12:47:34.851Z"
   },
   {
    "duration": 26709,
    "start_time": "2024-07-22T12:53:46.401Z"
   },
   {
    "duration": 325,
    "start_time": "2024-07-22T13:37:59.104Z"
   },
   {
    "duration": 21,
    "start_time": "2024-07-22T14:38:23.273Z"
   },
   {
    "duration": 1845,
    "start_time": "2024-07-22T14:38:49.615Z"
   },
   {
    "duration": 784,
    "start_time": "2024-07-22T14:38:53.664Z"
   },
   {
    "duration": 22,
    "start_time": "2024-07-22T14:38:54.940Z"
   },
   {
    "duration": 5,
    "start_time": "2024-07-22T14:38:56.561Z"
   },
   {
    "duration": 33,
    "start_time": "2024-07-22T14:38:57.583Z"
   },
   {
    "duration": 6,
    "start_time": "2024-07-22T14:38:58.312Z"
   },
   {
    "duration": 147,
    "start_time": "2024-07-22T14:39:13.087Z"
   },
   {
    "duration": 40894,
    "start_time": "2024-07-22T14:39:28.254Z"
   },
   {
    "duration": 107,
    "start_time": "2024-07-22T14:40:09.151Z"
   },
   {
    "duration": 114,
    "start_time": "2024-07-22T14:40:12.466Z"
   },
   {
    "duration": 103,
    "start_time": "2024-07-22T14:40:14.130Z"
   },
   {
    "duration": 89,
    "start_time": "2024-07-22T14:40:15.130Z"
   },
   {
    "duration": 92,
    "start_time": "2024-07-22T14:40:17.770Z"
   },
   {
    "duration": 286,
    "start_time": "2024-07-22T14:40:19.059Z"
   },
   {
    "duration": 300,
    "start_time": "2024-07-22T14:40:19.866Z"
   },
   {
    "duration": 337,
    "start_time": "2024-07-22T14:40:20.819Z"
   },
   {
    "duration": 282,
    "start_time": "2024-07-22T14:40:21.622Z"
   },
   {
    "duration": 31,
    "start_time": "2024-07-22T14:40:24.228Z"
   },
   {
    "duration": 1919,
    "start_time": "2024-07-22T14:40:24.915Z"
   },
   {
    "duration": 2971,
    "start_time": "2024-07-22T14:40:29.162Z"
   },
   {
    "duration": 51,
    "start_time": "2024-07-22T14:40:35.633Z"
   },
   {
    "duration": 1387,
    "start_time": "2024-07-22T14:40:37.739Z"
   },
   {
    "duration": 50,
    "start_time": "2024-07-22T14:40:40.842Z"
   },
   {
    "duration": 858,
    "start_time": "2024-07-22T14:40:41.578Z"
   },
   {
    "duration": 3,
    "start_time": "2024-07-22T14:40:44.839Z"
   },
   {
    "duration": 20,
    "start_time": "2024-07-22T14:40:45.531Z"
   },
   {
    "duration": 6,
    "start_time": "2024-07-22T14:40:47.506Z"
   },
   {
    "duration": 29,
    "start_time": "2024-07-22T14:40:50.218Z"
   },
   {
    "duration": 4,
    "start_time": "2024-07-22T14:40:51.341Z"
   },
   {
    "duration": 5,
    "start_time": "2024-07-22T14:40:52.929Z"
   },
   {
    "duration": 310,
    "start_time": "2024-07-22T14:40:54.336Z"
   },
   {
    "duration": 314,
    "start_time": "2024-07-22T14:40:56.361Z"
   },
   {
    "duration": 234,
    "start_time": "2024-07-22T14:40:56.825Z"
   },
   {
    "duration": 470,
    "start_time": "2024-07-22T14:40:59.026Z"
   },
   {
    "duration": 94,
    "start_time": "2024-07-22T14:41:01.385Z"
   },
   {
    "duration": 13,
    "start_time": "2024-07-22T14:41:03.434Z"
   },
   {
    "duration": 120,
    "start_time": "2024-07-22T14:41:06.388Z"
   },
   {
    "duration": 177,
    "start_time": "2024-07-22T14:41:06.935Z"
   },
   {
    "duration": 187,
    "start_time": "2024-07-22T14:41:07.481Z"
   },
   {
    "duration": 108,
    "start_time": "2024-07-22T14:41:09.513Z"
   },
   {
    "duration": 5334,
    "start_time": "2024-07-22T14:41:11.980Z"
   },
   {
    "duration": 32295,
    "start_time": "2024-07-22T14:41:21.538Z"
   },
   {
    "duration": 680,
    "start_time": "2024-07-22T14:42:18.432Z"
   },
   {
    "duration": 26,
    "start_time": "2024-07-22T14:42:24.289Z"
   },
   {
    "duration": 2487154,
    "start_time": "2024-07-22T14:42:26.969Z"
   },
   {
    "duration": 39004,
    "start_time": "2024-07-22T17:20:57.397Z"
   },
   {
    "duration": 182,
    "start_time": "2024-07-22T17:22:27.257Z"
   },
   {
    "duration": 3,
    "start_time": "2024-07-22T17:23:42.149Z"
   },
   {
    "duration": 30,
    "start_time": "2024-07-22T17:23:43.322Z"
   },
   {
    "duration": 343,
    "start_time": "2024-07-22T17:25:24.378Z"
   },
   {
    "duration": 1300,
    "start_time": "2024-07-22T17:25:28.530Z"
   },
   {
    "duration": 124,
    "start_time": "2024-07-22T17:25:29.834Z"
   },
   {
    "duration": 591,
    "start_time": "2024-07-22T18:04:59.100Z"
   },
   {
    "duration": 792,
    "start_time": "2024-07-22T18:04:59.965Z"
   },
   {
    "duration": 25,
    "start_time": "2024-07-22T18:05:00.761Z"
   },
   {
    "duration": 8,
    "start_time": "2024-07-22T18:05:02.525Z"
   },
   {
    "duration": 33,
    "start_time": "2024-07-22T18:05:05.502Z"
   },
   {
    "duration": 5,
    "start_time": "2024-07-22T18:05:05.940Z"
   },
   {
    "duration": 148,
    "start_time": "2024-07-22T18:05:08.772Z"
   },
   {
    "duration": 41046,
    "start_time": "2024-07-22T18:05:12.788Z"
   },
   {
    "duration": 110,
    "start_time": "2024-07-22T18:05:53.838Z"
   },
   {
    "duration": 129,
    "start_time": "2024-07-22T18:05:53.950Z"
   },
   {
    "duration": 103,
    "start_time": "2024-07-22T18:06:01.762Z"
   },
   {
    "duration": 87,
    "start_time": "2024-07-22T18:06:02.800Z"
   },
   {
    "duration": 104,
    "start_time": "2024-07-22T18:06:04.499Z"
   },
   {
    "duration": 286,
    "start_time": "2024-07-22T18:06:07.361Z"
   },
   {
    "duration": 289,
    "start_time": "2024-07-22T18:06:08.160Z"
   },
   {
    "duration": 344,
    "start_time": "2024-07-22T18:06:08.664Z"
   },
   {
    "duration": 299,
    "start_time": "2024-07-22T18:06:09.143Z"
   },
   {
    "duration": 31,
    "start_time": "2024-07-22T18:06:11.847Z"
   },
   {
    "duration": 1922,
    "start_time": "2024-07-22T18:06:12.383Z"
   },
   {
    "duration": 3035,
    "start_time": "2024-07-22T18:06:16.991Z"
   },
   {
    "duration": 49,
    "start_time": "2024-07-22T18:06:23.160Z"
   },
   {
    "duration": 1414,
    "start_time": "2024-07-22T18:06:24.805Z"
   },
   {
    "duration": 5,
    "start_time": "2024-07-22T18:06:44.807Z"
   },
   {
    "duration": 22,
    "start_time": "2024-07-22T18:06:45.637Z"
   },
   {
    "duration": 6,
    "start_time": "2024-07-22T18:06:46.115Z"
   },
   {
    "duration": 30,
    "start_time": "2024-07-22T18:06:48.328Z"
   },
   {
    "duration": 4,
    "start_time": "2024-07-22T18:06:50.191Z"
   },
   {
    "duration": 5,
    "start_time": "2024-07-22T18:06:50.734Z"
   },
   {
    "duration": 314,
    "start_time": "2024-07-22T18:06:53.611Z"
   },
   {
    "duration": 317,
    "start_time": "2024-07-22T18:06:55.495Z"
   },
   {
    "duration": 233,
    "start_time": "2024-07-22T18:06:56.838Z"
   },
   {
    "duration": 490,
    "start_time": "2024-07-22T18:06:59.151Z"
   },
   {
    "duration": 86,
    "start_time": "2024-07-22T18:07:00.936Z"
   },
   {
    "duration": 13,
    "start_time": "2024-07-22T18:07:02.944Z"
   },
   {
    "duration": 7,
    "start_time": "2024-07-22T18:07:04.439Z"
   },
   {
    "duration": 186,
    "start_time": "2024-07-22T18:07:04.998Z"
   },
   {
    "duration": 182,
    "start_time": "2024-07-22T18:07:07.770Z"
   },
   {
    "duration": 105,
    "start_time": "2024-07-22T18:07:09.567Z"
   },
   {
    "duration": 34,
    "start_time": "2024-07-22T18:07:13.914Z"
   },
   {
    "duration": 4,
    "start_time": "2024-07-22T18:07:19.549Z"
   },
   {
    "duration": 75,
    "start_time": "2024-07-22T18:07:20.855Z"
   },
   {
    "duration": 3,
    "start_time": "2024-07-22T18:08:16.052Z"
   },
   {
    "duration": 1976561,
    "start_time": "2024-07-22T18:08:17.499Z"
   },
   {
    "duration": 408193,
    "start_time": "2024-07-22T18:42:04.420Z"
   },
   {
    "duration": 3,
    "start_time": "2024-07-22T18:51:41.046Z"
   },
   {
    "duration": 408097,
    "start_time": "2024-07-22T18:51:41.913Z"
   },
   {
    "duration": 400811,
    "start_time": "2024-07-22T19:01:36.527Z"
   },
   {
    "duration": 3611,
    "start_time": "2024-07-22T19:47:16.210Z"
   },
   {
    "duration": 7,
    "start_time": "2024-07-22T19:47:54.761Z"
   },
   {
    "duration": 2442213,
    "start_time": "2024-07-22T19:49:14.242Z"
   },
   {
    "duration": 92272,
    "start_time": "2024-07-22T20:36:31.501Z"
   },
   {
    "duration": 3508,
    "start_time": "2024-07-22T20:38:37.385Z"
   },
   {
    "duration": 4,
    "start_time": "2024-07-22T20:38:40.898Z"
   },
   {
    "duration": 36,
    "start_time": "2024-07-22T20:38:58.774Z"
   },
   {
    "duration": 36,
    "start_time": "2024-07-22T20:40:37.016Z"
   },
   {
    "duration": 737106,
    "start_time": "2024-07-23T10:55:00.761Z"
   },
   {
    "duration": 0,
    "start_time": "2024-07-23T11:07:17.870Z"
   },
   {
    "duration": 402929,
    "start_time": "2024-07-23T11:07:43.689Z"
   },
   {
    "duration": 5182,
    "start_time": "2024-07-23T11:19:39.929Z"
   },
   {
    "duration": 42011,
    "start_time": "2024-07-23T11:20:16.932Z"
   },
   {
    "duration": 323,
    "start_time": "2024-07-23T11:22:44.757Z"
   },
   {
    "duration": 1261,
    "start_time": "2024-07-23T11:22:48.957Z"
   },
   {
    "duration": 128,
    "start_time": "2024-07-23T11:22:50.221Z"
   },
   {
    "duration": 619,
    "start_time": "2024-07-23T11:22:55.136Z"
   },
   {
    "duration": 772,
    "start_time": "2024-07-23T11:22:57.693Z"
   },
   {
    "duration": 22,
    "start_time": "2024-07-23T11:22:58.948Z"
   },
   {
    "duration": 5,
    "start_time": "2024-07-23T11:23:00.726Z"
   },
   {
    "duration": 33,
    "start_time": "2024-07-23T11:23:02.693Z"
   },
   {
    "duration": 6,
    "start_time": "2024-07-23T11:23:03.182Z"
   },
   {
    "duration": 41857,
    "start_time": "2024-07-23T11:23:03.769Z"
   },
   {
    "duration": 106,
    "start_time": "2024-07-23T11:23:45.629Z"
   },
   {
    "duration": 113,
    "start_time": "2024-07-23T11:23:48.106Z"
   },
   {
    "duration": 96,
    "start_time": "2024-07-23T11:23:50.696Z"
   },
   {
    "duration": 87,
    "start_time": "2024-07-23T11:23:51.945Z"
   },
   {
    "duration": 91,
    "start_time": "2024-07-23T11:23:52.496Z"
   },
   {
    "duration": 279,
    "start_time": "2024-07-23T11:23:53.149Z"
   },
   {
    "duration": 293,
    "start_time": "2024-07-23T11:23:53.825Z"
   },
   {
    "duration": 333,
    "start_time": "2024-07-23T11:23:56.040Z"
   },
   {
    "duration": 278,
    "start_time": "2024-07-23T11:23:56.528Z"
   },
   {
    "duration": 33,
    "start_time": "2024-07-23T11:23:57.864Z"
   },
   {
    "duration": 1889,
    "start_time": "2024-07-23T11:23:59.280Z"
   },
   {
    "duration": 3040,
    "start_time": "2024-07-23T11:24:02.699Z"
   },
   {
    "duration": 67,
    "start_time": "2024-07-23T11:24:05.743Z"
   },
   {
    "duration": 1547,
    "start_time": "2024-07-23T11:24:09.760Z"
   },
   {
    "duration": 4,
    "start_time": "2024-07-23T11:24:15.689Z"
   },
   {
    "duration": 22,
    "start_time": "2024-07-23T11:24:16.593Z"
   },
   {
    "duration": 7,
    "start_time": "2024-07-23T11:24:17.484Z"
   },
   {
    "duration": 29,
    "start_time": "2024-07-23T11:24:18.835Z"
   },
   {
    "duration": 5,
    "start_time": "2024-07-23T11:24:19.991Z"
   },
   {
    "duration": 4,
    "start_time": "2024-07-23T11:24:21.984Z"
   },
   {
    "duration": 299,
    "start_time": "2024-07-23T11:24:23.240Z"
   },
   {
    "duration": 307,
    "start_time": "2024-07-23T11:24:24.256Z"
   },
   {
    "duration": 233,
    "start_time": "2024-07-23T11:24:24.656Z"
   },
   {
    "duration": 473,
    "start_time": "2024-07-23T11:24:27.736Z"
   },
   {
    "duration": 87,
    "start_time": "2024-07-23T11:24:29.871Z"
   },
   {
    "duration": 12,
    "start_time": "2024-07-23T11:24:30.824Z"
   },
   {
    "duration": 7,
    "start_time": "2024-07-23T11:24:31.296Z"
   },
   {
    "duration": 175,
    "start_time": "2024-07-23T11:24:31.760Z"
   },
   {
    "duration": 185,
    "start_time": "2024-07-23T11:24:33.552Z"
   },
   {
    "duration": 127,
    "start_time": "2024-07-23T11:24:34.439Z"
   },
   {
    "duration": 4954,
    "start_time": "2024-07-23T11:24:39.160Z"
   },
   {
    "duration": 32339,
    "start_time": "2024-07-23T11:24:46.928Z"
   },
   {
    "duration": 653,
    "start_time": "2024-07-23T11:25:22.933Z"
   },
   {
    "duration": 27,
    "start_time": "2024-07-23T11:25:27.809Z"
   },
   {
    "duration": 2428936,
    "start_time": "2024-07-23T11:25:31.848Z"
   },
   {
    "duration": 1861,
    "start_time": "2024-07-24T11:31:49.302Z"
   },
   {
    "duration": 781,
    "start_time": "2024-07-24T11:31:53.343Z"
   },
   {
    "duration": 22,
    "start_time": "2024-07-24T11:31:54.139Z"
   },
   {
    "duration": 6,
    "start_time": "2024-07-24T11:31:55.974Z"
   },
   {
    "duration": 32,
    "start_time": "2024-07-24T11:31:56.670Z"
   },
   {
    "duration": 6,
    "start_time": "2024-07-24T11:31:57.799Z"
   },
   {
    "duration": 41984,
    "start_time": "2024-07-24T11:32:00.814Z"
   },
   {
    "duration": 113,
    "start_time": "2024-07-24T11:32:42.801Z"
   },
   {
    "duration": 115,
    "start_time": "2024-07-24T11:32:45.514Z"
   },
   {
    "duration": 94,
    "start_time": "2024-07-24T11:32:46.726Z"
   },
   {
    "duration": 86,
    "start_time": "2024-07-24T11:32:49.226Z"
   },
   {
    "duration": 89,
    "start_time": "2024-07-24T11:32:49.954Z"
   },
   {
    "duration": 282,
    "start_time": "2024-07-24T11:32:51.881Z"
   },
   {
    "duration": 300,
    "start_time": "2024-07-24T11:32:53.553Z"
   },
   {
    "duration": 342,
    "start_time": "2024-07-24T11:32:54.682Z"
   },
   {
    "duration": 284,
    "start_time": "2024-07-24T11:32:55.331Z"
   },
   {
    "duration": 33,
    "start_time": "2024-07-24T11:32:58.113Z"
   },
   {
    "duration": 1794,
    "start_time": "2024-07-24T11:32:58.785Z"
   },
   {
    "duration": 3072,
    "start_time": "2024-07-24T11:33:03.690Z"
   },
   {
    "duration": 66,
    "start_time": "2024-07-24T11:33:06.766Z"
   },
   {
    "duration": 1382,
    "start_time": "2024-07-24T11:33:10.834Z"
   },
   {
    "duration": 4,
    "start_time": "2024-07-24T11:33:17.962Z"
   },
   {
    "duration": 23,
    "start_time": "2024-07-24T11:33:27.825Z"
   },
   {
    "duration": 6,
    "start_time": "2024-07-24T11:33:28.705Z"
   },
   {
    "duration": 29,
    "start_time": "2024-07-24T11:33:30.529Z"
   },
   {
    "duration": 4,
    "start_time": "2024-07-24T11:33:31.800Z"
   },
   {
    "duration": 5,
    "start_time": "2024-07-24T11:33:33.918Z"
   },
   {
    "duration": 299,
    "start_time": "2024-07-24T11:33:37.441Z"
   },
   {
    "duration": 311,
    "start_time": "2024-07-24T11:33:38.707Z"
   },
   {
    "duration": 232,
    "start_time": "2024-07-24T11:33:39.225Z"
   },
   {
    "duration": 488,
    "start_time": "2024-07-24T11:33:41.625Z"
   },
   {
    "duration": 92,
    "start_time": "2024-07-24T11:33:44.120Z"
   },
   {
    "duration": 13,
    "start_time": "2024-07-24T11:33:45.480Z"
   },
   {
    "duration": 7,
    "start_time": "2024-07-24T11:33:46.074Z"
   },
   {
    "duration": 172,
    "start_time": "2024-07-24T11:33:46.665Z"
   },
   {
    "duration": 184,
    "start_time": "2024-07-24T11:33:48.499Z"
   },
   {
    "duration": 123,
    "start_time": "2024-07-24T11:33:49.457Z"
   },
   {
    "duration": 5074,
    "start_time": "2024-07-24T11:33:52.037Z"
   },
   {
    "duration": 29,
    "start_time": "2024-07-24T11:34:09.225Z"
   },
   {
    "duration": 639984,
    "start_time": "2024-07-24T11:34:12.473Z"
   },
   {
    "duration": 42124,
    "start_time": "2024-07-24T12:05:46.653Z"
   },
   {
    "duration": 11,
    "start_time": "2024-07-24T12:11:59.952Z"
   },
   {
    "duration": 303,
    "start_time": "2024-07-24T12:13:52.841Z"
   },
   {
    "duration": 19,
    "start_time": "2024-07-24T12:14:46.670Z"
   },
   {
    "duration": 19,
    "start_time": "2024-07-24T12:24:04.833Z"
   },
   {
    "duration": 42250,
    "start_time": "2024-07-24T12:24:28.241Z"
   },
   {
    "duration": 3,
    "start_time": "2024-07-24T12:25:18.295Z"
   },
   {
    "duration": 316,
    "start_time": "2024-07-24T12:25:19.768Z"
   },
   {
    "duration": 55768,
    "start_time": "2024-07-24T12:26:30.843Z"
   },
   {
    "duration": 3885,
    "start_time": "2024-07-24T12:27:52.430Z"
   },
   {
    "duration": 5,
    "start_time": "2024-07-24T12:28:03.179Z"
   },
   {
    "duration": 507,
    "start_time": "2024-07-24T12:32:55.391Z"
   },
   {
    "duration": 7,
    "start_time": "2024-07-24T12:32:56.247Z"
   },
   {
    "duration": 36,
    "start_time": "2024-07-24T12:34:38.891Z"
   },
   {
    "duration": 6,
    "start_time": "2024-07-24T12:34:42.434Z"
   },
   {
    "duration": 12,
    "start_time": "2024-07-24T12:35:31.242Z"
   },
   {
    "duration": 1885,
    "start_time": "2024-07-24T12:35:35.489Z"
   },
   {
    "duration": 773,
    "start_time": "2024-07-24T12:35:37.380Z"
   },
   {
    "duration": 22,
    "start_time": "2024-07-24T12:35:38.157Z"
   },
   {
    "duration": 26,
    "start_time": "2024-07-24T12:35:38.184Z"
   },
   {
    "duration": 31,
    "start_time": "2024-07-24T12:35:38.308Z"
   },
   {
    "duration": 6,
    "start_time": "2024-07-24T12:35:38.765Z"
   },
   {
    "duration": 40817,
    "start_time": "2024-07-24T12:35:39.177Z"
   },
   {
    "duration": 110,
    "start_time": "2024-07-24T12:36:19.998Z"
   },
   {
    "duration": 123,
    "start_time": "2024-07-24T12:36:20.111Z"
   },
   {
    "duration": 94,
    "start_time": "2024-07-24T12:37:01.550Z"
   },
   {
    "duration": 86,
    "start_time": "2024-07-24T12:37:02.196Z"
   },
   {
    "duration": 90,
    "start_time": "2024-07-24T12:37:03.149Z"
   },
   {
    "duration": 291,
    "start_time": "2024-07-24T12:37:03.671Z"
   },
   {
    "duration": 290,
    "start_time": "2024-07-24T12:37:04.084Z"
   },
   {
    "duration": 347,
    "start_time": "2024-07-24T12:37:04.556Z"
   },
   {
    "duration": 289,
    "start_time": "2024-07-24T12:37:05.532Z"
   },
   {
    "duration": 31,
    "start_time": "2024-07-24T12:37:08.012Z"
   },
   {
    "duration": 1853,
    "start_time": "2024-07-24T12:37:08.516Z"
   },
   {
    "duration": 3141,
    "start_time": "2024-07-24T12:37:10.372Z"
   },
   {
    "duration": 51,
    "start_time": "2024-07-24T12:37:13.515Z"
   },
   {
    "duration": 1446,
    "start_time": "2024-07-24T12:37:13.570Z"
   },
   {
    "duration": 4,
    "start_time": "2024-07-24T12:37:19.401Z"
   },
   {
    "duration": 34,
    "start_time": "2024-07-24T12:37:20.044Z"
   },
   {
    "duration": 6,
    "start_time": "2024-07-24T12:37:20.483Z"
   },
   {
    "duration": 30,
    "start_time": "2024-07-24T12:37:21.363Z"
   },
   {
    "duration": 4,
    "start_time": "2024-07-24T12:37:22.191Z"
   },
   {
    "duration": 5,
    "start_time": "2024-07-24T12:37:23.915Z"
   },
   {
    "duration": 309,
    "start_time": "2024-07-24T12:37:25.032Z"
   },
   {
    "duration": 314,
    "start_time": "2024-07-24T12:37:25.908Z"
   },
   {
    "duration": 250,
    "start_time": "2024-07-24T12:37:26.294Z"
   },
   {
    "duration": 481,
    "start_time": "2024-07-24T12:37:26.859Z"
   },
   {
    "duration": 91,
    "start_time": "2024-07-24T12:37:27.620Z"
   },
   {
    "duration": 12,
    "start_time": "2024-07-24T12:37:30.122Z"
   },
   {
    "duration": 17,
    "start_time": "2024-07-24T12:37:30.299Z"
   },
   {
    "duration": 174,
    "start_time": "2024-07-24T12:37:30.483Z"
   },
   {
    "duration": 182,
    "start_time": "2024-07-24T12:37:30.676Z"
   },
   {
    "duration": 112,
    "start_time": "2024-07-24T12:37:33.001Z"
   },
   {
    "duration": 5159,
    "start_time": "2024-07-24T12:37:35.249Z"
   },
   {
    "duration": 39,
    "start_time": "2024-07-24T12:37:47.580Z"
   },
   {
    "duration": 7,
    "start_time": "2024-07-24T12:37:49.742Z"
   },
   {
    "duration": 117912,
    "start_time": "2024-07-24T12:37:50.847Z"
   },
   {
    "duration": 16182,
    "start_time": "2024-07-24T12:40:01.070Z"
   },
   {
    "duration": 3449,
    "start_time": "2024-07-24T12:41:47.542Z"
   },
   {
    "duration": 5,
    "start_time": "2024-07-24T12:41:50.995Z"
   },
   {
    "duration": 556,
    "start_time": "2024-07-24T12:41:57.168Z"
   },
   {
    "duration": 28,
    "start_time": "2024-07-24T12:42:58.104Z"
   },
   {
    "duration": 28,
    "start_time": "2024-07-24T12:43:20.721Z"
   },
   {
    "duration": 29,
    "start_time": "2024-07-24T12:43:34.946Z"
   },
   {
    "duration": 5,
    "start_time": "2024-07-24T12:44:02.903Z"
   },
   {
    "duration": 4,
    "start_time": "2024-07-24T12:44:14.580Z"
   },
   {
    "duration": 15406,
    "start_time": "2024-07-24T12:44:15.468Z"
   },
   {
    "duration": 31,
    "start_time": "2024-07-24T12:52:05.176Z"
   },
   {
    "duration": 4,
    "start_time": "2024-07-24T12:52:08.918Z"
   },
   {
    "duration": 183703,
    "start_time": "2024-07-24T12:52:09.702Z"
   },
   {
    "duration": 5,
    "start_time": "2024-07-24T12:56:41.323Z"
   },
   {
    "duration": 2599073,
    "start_time": "2024-07-24T12:56:42.335Z"
   },
   {
    "duration": 288815,
    "start_time": "2024-07-25T01:01:59.166Z"
   },
   {
    "duration": 5,
    "start_time": "2024-07-25T01:09:33.000Z"
   },
   {
    "duration": 6,
    "start_time": "2024-07-25T01:09:38.225Z"
   },
   {
    "duration": 5,
    "start_time": "2024-07-25T01:09:59.887Z"
   },
   {
    "duration": 666,
    "start_time": "2024-07-25T01:10:01.520Z"
   },
   {
    "duration": 18,
    "start_time": "2024-07-25T01:10:02.430Z"
   },
   {
    "duration": 6,
    "start_time": "2024-07-25T01:10:04.585Z"
   },
   {
    "duration": 20,
    "start_time": "2024-07-25T01:10:05.103Z"
   },
   {
    "duration": 6,
    "start_time": "2024-07-25T01:10:05.616Z"
   },
   {
    "duration": 40743,
    "start_time": "2024-07-25T01:10:06.287Z"
   },
   {
    "duration": 105,
    "start_time": "2024-07-25T01:10:47.034Z"
   },
   {
    "duration": 108,
    "start_time": "2024-07-25T01:12:49.902Z"
   },
   {
    "duration": 103,
    "start_time": "2024-07-25T01:12:50.925Z"
   },
   {
    "duration": 88,
    "start_time": "2024-07-25T01:12:53.105Z"
   },
   {
    "duration": 116,
    "start_time": "2024-07-25T01:12:54.150Z"
   },
   {
    "duration": 288,
    "start_time": "2024-07-25T01:12:56.043Z"
   },
   {
    "duration": 295,
    "start_time": "2024-07-25T01:12:56.890Z"
   },
   {
    "duration": 329,
    "start_time": "2024-07-25T01:12:57.498Z"
   },
   {
    "duration": 390,
    "start_time": "2024-07-25T01:12:58.061Z"
   },
   {
    "duration": 31,
    "start_time": "2024-07-25T01:13:00.289Z"
   },
   {
    "duration": 1807,
    "start_time": "2024-07-25T01:13:00.881Z"
   },
   {
    "duration": 3043,
    "start_time": "2024-07-25T01:13:04.185Z"
   },
   {
    "duration": 48,
    "start_time": "2024-07-25T01:13:11.117Z"
   },
   {
    "duration": 1583,
    "start_time": "2024-07-25T01:13:12.225Z"
   },
   {
    "duration": 4,
    "start_time": "2024-07-25T01:13:17.922Z"
   },
   {
    "duration": 24,
    "start_time": "2024-07-25T01:13:19.673Z"
   },
   {
    "duration": 5,
    "start_time": "2024-07-25T01:13:20.217Z"
   },
   {
    "duration": 24,
    "start_time": "2024-07-25T01:13:21.684Z"
   },
   {
    "duration": 5,
    "start_time": "2024-07-25T01:13:23.808Z"
   },
   {
    "duration": 5,
    "start_time": "2024-07-25T01:13:24.337Z"
   },
   {
    "duration": 280,
    "start_time": "2024-07-25T01:13:25.913Z"
   },
   {
    "duration": 311,
    "start_time": "2024-07-25T01:13:28.738Z"
   },
   {
    "duration": 225,
    "start_time": "2024-07-25T01:13:30.521Z"
   },
   {
    "duration": 469,
    "start_time": "2024-07-25T01:13:32.376Z"
   },
   {
    "duration": 80,
    "start_time": "2024-07-25T01:13:36.036Z"
   },
   {
    "duration": 10,
    "start_time": "2024-07-25T01:13:37.009Z"
   },
   {
    "duration": 8,
    "start_time": "2024-07-25T01:13:38.841Z"
   },
   {
    "duration": 173,
    "start_time": "2024-07-25T01:13:39.312Z"
   },
   {
    "duration": 182,
    "start_time": "2024-07-25T01:13:40.533Z"
   },
   {
    "duration": 4,
    "start_time": "2024-07-25T01:13:43.148Z"
   },
   {
    "duration": 4969,
    "start_time": "2024-07-25T01:13:47.657Z"
   },
   {
    "duration": 4,
    "start_time": "2024-07-25T01:14:01.028Z"
   },
   {
    "duration": 3,
    "start_time": "2024-07-25T01:14:24.073Z"
   },
   {
    "duration": 287899,
    "start_time": "2024-07-25T01:14:29.105Z"
   },
   {
    "duration": 288524,
    "start_time": "2024-07-25T12:37:57.226Z"
   },
   {
    "duration": 6,
    "start_time": "2024-07-25T18:29:16.738Z"
   },
   {
    "duration": 687,
    "start_time": "2024-07-25T18:29:16.747Z"
   },
   {
    "duration": 18,
    "start_time": "2024-07-25T18:29:17.437Z"
   },
   {
    "duration": 6,
    "start_time": "2024-07-25T18:29:17.459Z"
   },
   {
    "duration": 52,
    "start_time": "2024-07-25T18:29:17.468Z"
   },
   {
    "duration": 7,
    "start_time": "2024-07-25T18:29:17.523Z"
   },
   {
    "duration": 40229,
    "start_time": "2024-07-25T18:29:17.534Z"
   },
   {
    "duration": 104,
    "start_time": "2024-07-25T18:29:57.765Z"
   },
   {
    "duration": 129,
    "start_time": "2024-07-25T18:29:57.872Z"
   },
   {
    "duration": 106,
    "start_time": "2024-07-25T18:29:58.008Z"
   },
   {
    "duration": 99,
    "start_time": "2024-07-25T18:29:58.118Z"
   },
   {
    "duration": 99,
    "start_time": "2024-07-25T18:29:58.219Z"
   },
   {
    "duration": 276,
    "start_time": "2024-07-25T18:29:58.321Z"
   },
   {
    "duration": 267,
    "start_time": "2024-07-25T18:29:58.608Z"
   },
   {
    "duration": 301,
    "start_time": "2024-07-25T18:29:58.877Z"
   },
   {
    "duration": 273,
    "start_time": "2024-07-25T18:29:59.181Z"
   },
   {
    "duration": 32,
    "start_time": "2024-07-25T18:29:59.457Z"
   },
   {
    "duration": 1817,
    "start_time": "2024-07-25T18:29:59.491Z"
   },
   {
    "duration": 2997,
    "start_time": "2024-07-25T18:30:01.312Z"
   },
   {
    "duration": 53,
    "start_time": "2024-07-25T18:30:04.313Z"
   },
   {
    "duration": 1597,
    "start_time": "2024-07-25T18:30:04.370Z"
   },
   {
    "duration": 4,
    "start_time": "2024-07-25T18:30:05.971Z"
   },
   {
    "duration": 43,
    "start_time": "2024-07-25T18:30:05.978Z"
   },
   {
    "duration": 5,
    "start_time": "2024-07-25T18:30:06.024Z"
   },
   {
    "duration": 25,
    "start_time": "2024-07-25T18:30:06.032Z"
   },
   {
    "duration": 5,
    "start_time": "2024-07-25T18:30:06.060Z"
   },
   {
    "duration": 41,
    "start_time": "2024-07-25T18:30:06.068Z"
   },
   {
    "duration": 290,
    "start_time": "2024-07-25T18:30:06.118Z"
   },
   {
    "duration": 319,
    "start_time": "2024-07-25T18:30:06.411Z"
   },
   {
    "duration": 235,
    "start_time": "2024-07-25T18:30:06.733Z"
   },
   {
    "duration": 498,
    "start_time": "2024-07-25T18:30:06.971Z"
   },
   {
    "duration": 101,
    "start_time": "2024-07-25T18:30:07.472Z"
   },
   {
    "duration": 12,
    "start_time": "2024-07-25T18:30:07.576Z"
   },
   {
    "duration": 20,
    "start_time": "2024-07-25T18:30:07.590Z"
   },
   {
    "duration": 196,
    "start_time": "2024-07-25T18:30:07.615Z"
   },
   {
    "duration": 195,
    "start_time": "2024-07-25T18:30:07.814Z"
   },
   {
    "duration": 4,
    "start_time": "2024-07-25T18:30:08.012Z"
   },
   {
    "duration": 4996,
    "start_time": "2024-07-25T18:30:08.019Z"
   },
   {
    "duration": 347,
    "start_time": "2024-07-25T18:30:13.024Z"
   },
   {
    "duration": 0,
    "start_time": "2024-07-25T18:30:13.374Z"
   },
   {
    "duration": 0,
    "start_time": "2024-07-25T18:30:13.376Z"
   },
   {
    "duration": 0,
    "start_time": "2024-07-25T18:30:13.379Z"
   },
   {
    "duration": 0,
    "start_time": "2024-07-25T18:30:13.381Z"
   },
   {
    "duration": 0,
    "start_time": "2024-07-25T18:30:13.383Z"
   },
   {
    "duration": 0,
    "start_time": "2024-07-25T18:30:13.385Z"
   },
   {
    "duration": 0,
    "start_time": "2024-07-25T18:30:13.409Z"
   },
   {
    "duration": 0,
    "start_time": "2024-07-25T18:30:13.411Z"
   },
   {
    "duration": 0,
    "start_time": "2024-07-25T18:30:13.413Z"
   },
   {
    "duration": 0,
    "start_time": "2024-07-25T18:30:13.415Z"
   },
   {
    "duration": 0,
    "start_time": "2024-07-25T18:30:13.417Z"
   },
   {
    "duration": 0,
    "start_time": "2024-07-25T18:30:13.418Z"
   },
   {
    "duration": 0,
    "start_time": "2024-07-25T18:30:13.421Z"
   },
   {
    "duration": 0,
    "start_time": "2024-07-25T18:30:13.422Z"
   },
   {
    "duration": 0,
    "start_time": "2024-07-25T18:30:13.424Z"
   },
   {
    "duration": 0,
    "start_time": "2024-07-25T18:30:13.426Z"
   },
   {
    "duration": 0,
    "start_time": "2024-07-25T18:30:13.428Z"
   },
   {
    "duration": 33630,
    "start_time": "2024-07-25T18:32:29.824Z"
   },
   {
    "duration": 668,
    "start_time": "2024-07-25T18:36:46.307Z"
   },
   {
    "duration": 27,
    "start_time": "2024-07-25T18:36:51.529Z"
   },
   {
    "duration": 642827,
    "start_time": "2024-07-25T18:36:52.602Z"
   },
   {
    "duration": 167,
    "start_time": "2024-07-25T19:46:39.750Z"
   },
   {
    "duration": 1789,
    "start_time": "2024-07-25T19:46:43.440Z"
   },
   {
    "duration": 798,
    "start_time": "2024-07-25T19:46:45.233Z"
   },
   {
    "duration": 23,
    "start_time": "2024-07-25T19:46:46.034Z"
   },
   {
    "duration": 6,
    "start_time": "2024-07-25T19:46:46.061Z"
   },
   {
    "duration": 60,
    "start_time": "2024-07-25T19:46:46.070Z"
   },
   {
    "duration": 7,
    "start_time": "2024-07-25T19:46:46.133Z"
   },
   {
    "duration": 41448,
    "start_time": "2024-07-25T19:46:46.142Z"
   },
   {
    "duration": 104,
    "start_time": "2024-07-25T19:47:27.593Z"
   },
   {
    "duration": 123,
    "start_time": "2024-07-25T19:47:27.710Z"
   },
   {
    "duration": 107,
    "start_time": "2024-07-25T19:47:27.839Z"
   },
   {
    "duration": 99,
    "start_time": "2024-07-25T19:47:27.949Z"
   },
   {
    "duration": 100,
    "start_time": "2024-07-25T19:47:28.051Z"
   },
   {
    "duration": 298,
    "start_time": "2024-07-25T19:47:28.153Z"
   },
   {
    "duration": 281,
    "start_time": "2024-07-25T19:47:28.453Z"
   },
   {
    "duration": 317,
    "start_time": "2024-07-25T19:47:28.738Z"
   },
   {
    "duration": 283,
    "start_time": "2024-07-25T19:47:29.058Z"
   },
   {
    "duration": 31,
    "start_time": "2024-07-25T19:47:29.344Z"
   },
   {
    "duration": 1853,
    "start_time": "2024-07-25T19:47:29.378Z"
   },
   {
    "duration": 3098,
    "start_time": "2024-07-25T19:47:31.234Z"
   },
   {
    "duration": 49,
    "start_time": "2024-07-25T19:47:34.336Z"
   },
   {
    "duration": 1443,
    "start_time": "2024-07-25T19:47:34.388Z"
   },
   {
    "duration": 4,
    "start_time": "2024-07-25T19:47:35.834Z"
   },
   {
    "duration": 24,
    "start_time": "2024-07-25T19:47:35.841Z"
   },
   {
    "duration": 6,
    "start_time": "2024-07-25T19:47:35.868Z"
   },
   {
    "duration": 30,
    "start_time": "2024-07-25T19:47:35.909Z"
   },
   {
    "duration": 5,
    "start_time": "2024-07-25T19:47:35.943Z"
   },
   {
    "duration": 5,
    "start_time": "2024-07-25T19:47:35.952Z"
   },
   {
    "duration": 348,
    "start_time": "2024-07-25T19:47:35.966Z"
   },
   {
    "duration": 322,
    "start_time": "2024-07-25T19:47:36.318Z"
   },
   {
    "duration": 243,
    "start_time": "2024-07-25T19:47:36.643Z"
   },
   {
    "duration": 493,
    "start_time": "2024-07-25T19:47:36.889Z"
   },
   {
    "duration": 88,
    "start_time": "2024-07-25T19:47:37.386Z"
   },
   {
    "duration": 32,
    "start_time": "2024-07-25T19:47:37.476Z"
   },
   {
    "duration": 7,
    "start_time": "2024-07-25T19:47:37.511Z"
   },
   {
    "duration": 196,
    "start_time": "2024-07-25T19:47:37.522Z"
   },
   {
    "duration": 192,
    "start_time": "2024-07-25T19:47:37.720Z"
   },
   {
    "duration": 125,
    "start_time": "2024-07-25T19:47:37.914Z"
   },
   {
    "duration": 5073,
    "start_time": "2024-07-25T19:47:38.041Z"
   },
   {
    "duration": 32275,
    "start_time": "2024-07-25T19:47:43.123Z"
   },
   {
    "duration": 691,
    "start_time": "2024-07-25T19:48:15.401Z"
   },
   {
    "duration": 36,
    "start_time": "2024-07-25T19:48:16.095Z"
   },
   {
    "duration": 656417,
    "start_time": "2024-07-25T19:48:16.133Z"
   },
   {
    "duration": 41614,
    "start_time": "2024-07-25T19:59:12.553Z"
   },
   {
    "duration": 4,
    "start_time": "2024-07-25T19:59:54.170Z"
   },
   {
    "duration": 56747,
    "start_time": "2024-07-25T19:59:54.177Z"
   },
   {
    "duration": 3702,
    "start_time": "2024-07-25T20:00:50.928Z"
   },
   {
    "duration": 103,
    "start_time": "2024-07-25T20:00:54.633Z"
   },
   {
    "duration": 7,
    "start_time": "2024-07-25T20:00:54.738Z"
   },
   {
    "duration": 100175,
    "start_time": "2024-07-25T20:00:54.748Z"
   },
   {
    "duration": 17796,
    "start_time": "2024-07-25T20:02:34.926Z"
   },
   {
    "duration": 25,
    "start_time": "2024-07-25T20:02:52.725Z"
   },
   {
    "duration": 3256,
    "start_time": "2024-07-25T20:02:52.753Z"
   },
   {
    "duration": 539,
    "start_time": "2024-07-25T20:02:56.011Z"
   },
   {
    "duration": 0,
    "start_time": "2024-07-25T20:02:56.553Z"
   },
   {
    "duration": 0,
    "start_time": "2024-07-25T20:02:56.554Z"
   },
   {
    "duration": 0,
    "start_time": "2024-07-25T20:02:56.556Z"
   },
   {
    "duration": 5,
    "start_time": "2024-07-29T11:41:33.045Z"
   },
   {
    "duration": 786,
    "start_time": "2024-07-29T11:41:33.056Z"
   },
   {
    "duration": 20,
    "start_time": "2024-07-29T11:41:33.844Z"
   },
   {
    "duration": 6,
    "start_time": "2024-07-29T11:41:33.868Z"
   },
   {
    "duration": 43,
    "start_time": "2024-07-29T11:41:33.878Z"
   },
   {
    "duration": 7,
    "start_time": "2024-07-29T11:41:33.925Z"
   },
   {
    "duration": 317,
    "start_time": "2024-07-29T11:43:50.416Z"
   },
   {
    "duration": 1721,
    "start_time": "2024-07-29T11:43:55.590Z"
   },
   {
    "duration": 799,
    "start_time": "2024-07-29T11:43:57.318Z"
   },
   {
    "duration": 24,
    "start_time": "2024-07-29T11:43:58.120Z"
   },
   {
    "duration": 7,
    "start_time": "2024-07-29T11:43:58.148Z"
   },
   {
    "duration": 63,
    "start_time": "2024-07-29T11:43:58.158Z"
   },
   {
    "duration": 6,
    "start_time": "2024-07-29T11:43:58.225Z"
   },
   {
    "duration": 174,
    "start_time": "2024-07-29T11:43:58.235Z"
   },
   {
    "duration": 124,
    "start_time": "2024-07-29T11:43:58.412Z"
   },
   {
    "duration": 144,
    "start_time": "2024-07-29T11:43:58.540Z"
   },
   {
    "duration": 89,
    "start_time": "2024-07-29T11:43:58.708Z"
   },
   {
    "duration": 141,
    "start_time": "2024-07-29T11:43:58.808Z"
   },
   {
    "duration": 413,
    "start_time": "2024-07-29T11:43:58.952Z"
   },
   {
    "duration": 410,
    "start_time": "2024-07-29T11:43:59.368Z"
   },
   {
    "duration": 494,
    "start_time": "2024-07-29T11:43:59.781Z"
   },
   {
    "duration": 437,
    "start_time": "2024-07-29T11:44:00.277Z"
   },
   {
    "duration": 45,
    "start_time": "2024-07-29T11:44:00.717Z"
   },
   {
    "duration": 2020,
    "start_time": "2024-07-29T11:44:00.765Z"
   },
   {
    "duration": 3126,
    "start_time": "2024-07-29T11:44:02.789Z"
   },
   {
    "duration": 52,
    "start_time": "2024-07-29T11:44:05.919Z"
   },
   {
    "duration": 1502,
    "start_time": "2024-07-29T11:44:05.975Z"
   },
   {
    "duration": 4,
    "start_time": "2024-07-29T11:44:07.481Z"
   },
   {
    "duration": 41,
    "start_time": "2024-07-29T11:44:07.489Z"
   },
   {
    "duration": 7,
    "start_time": "2024-07-29T11:44:07.533Z"
   },
   {
    "duration": 64,
    "start_time": "2024-07-29T11:44:07.544Z"
   },
   {
    "duration": 5,
    "start_time": "2024-07-29T11:44:07.611Z"
   },
   {
    "duration": 10,
    "start_time": "2024-07-29T11:44:07.620Z"
   },
   {
    "duration": 347,
    "start_time": "2024-07-29T11:44:07.634Z"
   },
   {
    "duration": 325,
    "start_time": "2024-07-29T11:44:07.989Z"
   },
   {
    "duration": 254,
    "start_time": "2024-07-29T11:44:08.317Z"
   },
   {
    "duration": 504,
    "start_time": "2024-07-29T11:44:08.574Z"
   },
   {
    "duration": 113,
    "start_time": "2024-07-29T11:44:09.082Z"
   },
   {
    "duration": 22,
    "start_time": "2024-07-29T11:44:09.198Z"
   },
   {
    "duration": 8,
    "start_time": "2024-07-29T11:44:09.223Z"
   },
   {
    "duration": 213,
    "start_time": "2024-07-29T11:44:09.236Z"
   },
   {
    "duration": 202,
    "start_time": "2024-07-29T11:44:09.453Z"
   },
   {
    "duration": 141,
    "start_time": "2024-07-29T11:44:09.657Z"
   },
   {
    "duration": 5431,
    "start_time": "2024-07-29T11:44:09.802Z"
   },
   {
    "duration": 34174,
    "start_time": "2024-07-29T11:44:15.311Z"
   },
   {
    "duration": 776,
    "start_time": "2024-07-29T11:44:49.488Z"
   },
   {
    "duration": 47,
    "start_time": "2024-07-29T11:44:50.268Z"
   },
   {
    "duration": 322317,
    "start_time": "2024-07-29T11:44:50.318Z"
   },
   {
    "duration": 0,
    "start_time": "2024-07-29T11:50:12.638Z"
   },
   {
    "duration": 0,
    "start_time": "2024-07-29T11:50:12.640Z"
   },
   {
    "duration": 0,
    "start_time": "2024-07-29T11:50:12.643Z"
   },
   {
    "duration": 0,
    "start_time": "2024-07-29T11:50:12.645Z"
   },
   {
    "duration": 0,
    "start_time": "2024-07-29T11:50:12.649Z"
   },
   {
    "duration": 0,
    "start_time": "2024-07-29T11:50:12.652Z"
   },
   {
    "duration": 0,
    "start_time": "2024-07-29T11:50:12.657Z"
   },
   {
    "duration": 0,
    "start_time": "2024-07-29T11:50:12.660Z"
   },
   {
    "duration": 0,
    "start_time": "2024-07-29T11:50:12.663Z"
   },
   {
    "duration": 0,
    "start_time": "2024-07-29T11:50:12.665Z"
   },
   {
    "duration": 0,
    "start_time": "2024-07-29T11:50:12.667Z"
   },
   {
    "duration": 0,
    "start_time": "2024-07-29T11:50:12.710Z"
   },
   {
    "duration": 0,
    "start_time": "2024-07-29T11:50:12.713Z"
   },
   {
    "duration": 0,
    "start_time": "2024-07-29T11:50:12.715Z"
   },
   {
    "duration": 8,
    "start_time": "2024-07-29T11:50:35.760Z"
   },
   {
    "duration": 682,
    "start_time": "2024-07-29T11:50:35.772Z"
   },
   {
    "duration": 18,
    "start_time": "2024-07-29T11:50:36.457Z"
   },
   {
    "duration": 6,
    "start_time": "2024-07-29T11:50:36.480Z"
   },
   {
    "duration": 36,
    "start_time": "2024-07-29T11:50:36.489Z"
   },
   {
    "duration": 6,
    "start_time": "2024-07-29T11:50:36.528Z"
   },
   {
    "duration": 188,
    "start_time": "2024-07-29T11:50:36.538Z"
   },
   {
    "duration": 121,
    "start_time": "2024-07-29T11:50:36.729Z"
   },
   {
    "duration": 140,
    "start_time": "2024-07-29T11:50:36.853Z"
   },
   {
    "duration": 100,
    "start_time": "2024-07-29T11:50:37.008Z"
   },
   {
    "duration": 141,
    "start_time": "2024-07-29T11:50:37.112Z"
   },
   {
    "duration": 390,
    "start_time": "2024-07-29T11:50:37.256Z"
   },
   {
    "duration": 378,
    "start_time": "2024-07-29T11:50:37.648Z"
   },
   {
    "duration": 432,
    "start_time": "2024-07-29T11:50:38.030Z"
   },
   {
    "duration": 379,
    "start_time": "2024-07-29T11:50:38.464Z"
   },
   {
    "duration": 64,
    "start_time": "2024-07-29T11:50:38.846Z"
   },
   {
    "duration": 1943,
    "start_time": "2024-07-29T11:50:38.913Z"
   },
   {
    "duration": 2983,
    "start_time": "2024-07-29T11:50:40.860Z"
   },
   {
    "duration": 68,
    "start_time": "2024-07-29T11:50:43.847Z"
   },
   {
    "duration": 1500,
    "start_time": "2024-07-29T11:50:43.924Z"
   },
   {
    "duration": 4,
    "start_time": "2024-07-29T11:50:45.427Z"
   },
   {
    "duration": 23,
    "start_time": "2024-07-29T11:50:45.436Z"
   },
   {
    "duration": 6,
    "start_time": "2024-07-29T11:50:45.463Z"
   },
   {
    "duration": 26,
    "start_time": "2024-07-29T11:50:45.511Z"
   },
   {
    "duration": 5,
    "start_time": "2024-07-29T11:50:45.540Z"
   },
   {
    "duration": 5,
    "start_time": "2024-07-29T11:50:45.548Z"
   },
   {
    "duration": 332,
    "start_time": "2024-07-29T11:50:45.556Z"
   },
   {
    "duration": 315,
    "start_time": "2024-07-29T11:50:45.896Z"
   },
   {
    "duration": 240,
    "start_time": "2024-07-29T11:50:46.213Z"
   },
   {
    "duration": 496,
    "start_time": "2024-07-29T11:50:46.456Z"
   },
   {
    "duration": 95,
    "start_time": "2024-07-29T11:50:46.954Z"
   },
   {
    "duration": 10,
    "start_time": "2024-07-29T11:50:47.052Z"
   },
   {
    "duration": 8,
    "start_time": "2024-07-29T11:50:47.065Z"
   },
   {
    "duration": 212,
    "start_time": "2024-07-29T11:50:47.076Z"
   },
   {
    "duration": 202,
    "start_time": "2024-07-29T11:50:47.291Z"
   },
   {
    "duration": 12,
    "start_time": "2024-07-29T11:50:47.496Z"
   },
   {
    "duration": 5219,
    "start_time": "2024-07-29T11:50:47.511Z"
   },
   {
    "duration": 32167,
    "start_time": "2024-07-29T11:50:52.734Z"
   },
   {
    "duration": 714,
    "start_time": "2024-07-29T11:51:24.909Z"
   },
   {
    "duration": 32,
    "start_time": "2024-07-29T11:51:25.626Z"
   },
   {
    "duration": 46130,
    "start_time": "2024-07-29T11:51:33.138Z"
   },
   {
    "duration": 142246,
    "start_time": "2024-07-29T11:52:23.937Z"
   },
   {
    "duration": 1354,
    "start_time": "2024-07-29T12:10:58.757Z"
   },
   {
    "duration": 785,
    "start_time": "2024-07-29T12:11:06.289Z"
   },
   {
    "duration": 802,
    "start_time": "2024-07-29T12:11:07.077Z"
   },
   {
    "duration": 37,
    "start_time": "2024-07-29T12:11:07.882Z"
   },
   {
    "duration": 8,
    "start_time": "2024-07-29T12:11:07.923Z"
   },
   {
    "duration": 32,
    "start_time": "2024-07-29T12:11:07.934Z"
   },
   {
    "duration": 40,
    "start_time": "2024-07-29T12:11:07.969Z"
   },
   {
    "duration": 159,
    "start_time": "2024-07-29T12:11:08.011Z"
   },
   {
    "duration": 129,
    "start_time": "2024-07-29T12:11:08.174Z"
   },
   {
    "duration": 142,
    "start_time": "2024-07-29T12:11:08.310Z"
   },
   {
    "duration": 104,
    "start_time": "2024-07-29T12:11:08.459Z"
   },
   {
    "duration": 150,
    "start_time": "2024-07-29T12:11:08.566Z"
   },
   {
    "duration": 445,
    "start_time": "2024-07-29T12:11:08.718Z"
   },
   {
    "duration": 411,
    "start_time": "2024-07-29T12:11:09.166Z"
   },
   {
    "duration": 472,
    "start_time": "2024-07-29T12:11:09.581Z"
   },
   {
    "duration": 420,
    "start_time": "2024-07-29T12:11:10.056Z"
   },
   {
    "duration": 57,
    "start_time": "2024-07-29T12:11:10.479Z"
   },
   {
    "duration": 1971,
    "start_time": "2024-07-29T12:11:10.539Z"
   },
   {
    "duration": 3081,
    "start_time": "2024-07-29T12:11:12.514Z"
   },
   {
    "duration": 57,
    "start_time": "2024-07-29T12:11:15.599Z"
   },
   {
    "duration": 1466,
    "start_time": "2024-07-29T12:11:15.660Z"
   },
   {
    "duration": 5,
    "start_time": "2024-07-29T12:11:17.129Z"
   },
   {
    "duration": 25,
    "start_time": "2024-07-29T12:11:17.137Z"
   },
   {
    "duration": 6,
    "start_time": "2024-07-29T12:11:17.164Z"
   },
   {
    "duration": 30,
    "start_time": "2024-07-29T12:11:17.208Z"
   },
   {
    "duration": 5,
    "start_time": "2024-07-29T12:11:17.242Z"
   },
   {
    "duration": 5,
    "start_time": "2024-07-29T12:11:17.251Z"
   },
   {
    "duration": 358,
    "start_time": "2024-07-29T12:11:17.260Z"
   },
   {
    "duration": 320,
    "start_time": "2024-07-29T12:11:17.625Z"
   },
   {
    "duration": 243,
    "start_time": "2024-07-29T12:11:17.948Z"
   },
   {
    "duration": 493,
    "start_time": "2024-07-29T12:11:18.194Z"
   },
   {
    "duration": 120,
    "start_time": "2024-07-29T12:11:18.689Z"
   },
   {
    "duration": 15,
    "start_time": "2024-07-29T12:11:18.812Z"
   },
   {
    "duration": 8,
    "start_time": "2024-07-29T12:11:18.830Z"
   },
   {
    "duration": 219,
    "start_time": "2024-07-29T12:11:18.842Z"
   },
   {
    "duration": 203,
    "start_time": "2024-07-29T12:11:19.064Z"
   },
   {
    "duration": 159,
    "start_time": "2024-07-29T12:11:19.270Z"
   },
   {
    "duration": 5398,
    "start_time": "2024-07-29T12:11:19.432Z"
   },
   {
    "duration": 35253,
    "start_time": "2024-07-29T12:11:24.833Z"
   },
   {
    "duration": 757,
    "start_time": "2024-07-29T12:12:00.089Z"
   },
   {
    "duration": 30,
    "start_time": "2024-07-29T12:12:00.849Z"
   },
   {
    "duration": 0,
    "start_time": "2024-07-29T12:13:30.346Z"
   },
   {
    "duration": 5,
    "start_time": "2024-07-29T12:13:46.791Z"
   },
   {
    "duration": 756,
    "start_time": "2024-07-29T12:13:46.800Z"
   },
   {
    "duration": 19,
    "start_time": "2024-07-29T12:13:47.559Z"
   },
   {
    "duration": 6,
    "start_time": "2024-07-29T12:13:47.608Z"
   },
   {
    "duration": 22,
    "start_time": "2024-07-29T12:13:47.618Z"
   },
   {
    "duration": 7,
    "start_time": "2024-07-29T12:13:47.643Z"
   },
   {
    "duration": 189,
    "start_time": "2024-07-29T12:13:47.654Z"
   },
   {
    "duration": 123,
    "start_time": "2024-07-29T12:13:47.846Z"
   },
   {
    "duration": 149,
    "start_time": "2024-07-29T12:13:47.972Z"
   },
   {
    "duration": 104,
    "start_time": "2024-07-29T12:13:48.129Z"
   },
   {
    "duration": 138,
    "start_time": "2024-07-29T12:13:48.236Z"
   },
   {
    "duration": 403,
    "start_time": "2024-07-29T12:13:48.377Z"
   },
   {
    "duration": 380,
    "start_time": "2024-07-29T12:13:48.783Z"
   },
   {
    "duration": 438,
    "start_time": "2024-07-29T12:13:49.166Z"
   },
   {
    "duration": 375,
    "start_time": "2024-07-29T12:13:49.608Z"
   },
   {
    "duration": 56,
    "start_time": "2024-07-29T12:13:49.987Z"
   },
   {
    "duration": 1977,
    "start_time": "2024-07-29T12:13:50.046Z"
   },
   {
    "duration": 3028,
    "start_time": "2024-07-29T12:13:52.025Z"
   },
   {
    "duration": 64,
    "start_time": "2024-07-29T12:13:55.055Z"
   },
   {
    "duration": 1432,
    "start_time": "2024-07-29T12:13:55.125Z"
   },
   {
    "duration": 5,
    "start_time": "2024-07-29T12:13:56.559Z"
   },
   {
    "duration": 47,
    "start_time": "2024-07-29T12:13:56.567Z"
   },
   {
    "duration": 6,
    "start_time": "2024-07-29T12:13:56.617Z"
   },
   {
    "duration": 26,
    "start_time": "2024-07-29T12:13:56.628Z"
   },
   {
    "duration": 6,
    "start_time": "2024-07-29T12:13:56.656Z"
   },
   {
    "duration": 46,
    "start_time": "2024-07-29T12:13:56.665Z"
   },
   {
    "duration": 308,
    "start_time": "2024-07-29T12:13:56.715Z"
   },
   {
    "duration": 323,
    "start_time": "2024-07-29T12:13:57.032Z"
   },
   {
    "duration": 241,
    "start_time": "2024-07-29T12:13:57.358Z"
   },
   {
    "duration": 478,
    "start_time": "2024-07-29T12:13:57.601Z"
   },
   {
    "duration": 93,
    "start_time": "2024-07-29T12:13:58.082Z"
   },
   {
    "duration": 10,
    "start_time": "2024-07-29T12:13:58.178Z"
   },
   {
    "duration": 20,
    "start_time": "2024-07-29T12:13:58.191Z"
   },
   {
    "duration": 198,
    "start_time": "2024-07-29T12:13:58.215Z"
   },
   {
    "duration": 209,
    "start_time": "2024-07-29T12:13:58.416Z"
   },
   {
    "duration": 4,
    "start_time": "2024-07-29T12:13:58.628Z"
   },
   {
    "duration": 5374,
    "start_time": "2024-07-29T12:13:58.635Z"
   },
   {
    "duration": 33628,
    "start_time": "2024-07-29T12:14:04.012Z"
   },
   {
    "duration": 736,
    "start_time": "2024-07-29T12:14:37.643Z"
   },
   {
    "duration": 42,
    "start_time": "2024-07-29T12:14:38.385Z"
   },
   {
    "duration": 166442,
    "start_time": "2024-07-29T12:14:51.725Z"
   },
   {
    "duration": 27897,
    "start_time": "2024-07-29T12:21:42.397Z"
   },
   {
    "duration": 3,
    "start_time": "2024-07-29T12:30:41.883Z"
   },
   {
    "duration": 56654,
    "start_time": "2024-07-29T12:30:42.860Z"
   },
   {
    "duration": 4424,
    "start_time": "2024-07-29T12:31:43.099Z"
   },
   {
    "duration": 37,
    "start_time": "2024-07-29T12:31:55.262Z"
   },
   {
    "duration": 7,
    "start_time": "2024-07-29T12:31:56.698Z"
   },
   {
    "duration": 84211,
    "start_time": "2024-07-29T12:32:00.962Z"
   },
   {
    "duration": 15285,
    "start_time": "2024-07-29T12:35:01.632Z"
   },
   {
    "duration": 25,
    "start_time": "2024-07-29T12:35:26.419Z"
   },
   {
    "duration": 1869,
    "start_time": "2024-07-29T12:35:27.969Z"
   },
   {
    "duration": 102,
    "start_time": "2024-07-29T12:35:33.624Z"
   },
   {
    "duration": 36,
    "start_time": "2024-07-29T12:39:04.985Z"
   },
   {
    "duration": 536,
    "start_time": "2024-07-29T12:39:21.481Z"
   },
   {
    "duration": 41,
    "start_time": "2024-07-29T12:39:25.810Z"
   },
   {
    "duration": 28,
    "start_time": "2024-07-29T12:39:27.593Z"
   },
   {
    "duration": 6,
    "start_time": "2024-07-29T12:39:54.269Z"
   },
   {
    "duration": 1248,
    "start_time": "2024-07-29T12:40:08.205Z"
   },
   {
    "duration": 47,
    "start_time": "2024-07-29T12:44:46.479Z"
   },
   {
    "duration": 48308,
    "start_time": "2024-07-29T12:45:16.314Z"
   },
   {
    "duration": 469,
    "start_time": "2024-07-29T12:46:28.872Z"
   },
   {
    "duration": 10,
    "start_time": "2024-07-29T12:49:15.343Z"
   },
   {
    "duration": 662,
    "start_time": "2024-07-29T12:50:12.538Z"
   },
   {
    "duration": 871,
    "start_time": "2024-07-29T14:45:34.786Z"
   },
   {
    "duration": 6,
    "start_time": "2024-07-29T15:50:00.813Z"
   },
   {
    "duration": 49331,
    "start_time": "2024-07-29T15:50:07.973Z"
   },
   {
    "duration": 666,
    "start_time": "2024-07-29T15:50:57.307Z"
   },
   {
    "duration": 56,
    "start_time": "2024-07-29T15:52:45.576Z"
   },
   {
    "duration": 37091,
    "start_time": "2024-07-29T15:53:50.151Z"
   },
   {
    "duration": 737,
    "start_time": "2024-07-29T15:54:29.870Z"
   },
   {
    "duration": 715,
    "start_time": "2024-07-29T15:54:35.245Z"
   },
   {
    "duration": 23,
    "start_time": "2024-07-29T15:54:53.441Z"
   },
   {
    "duration": 49723,
    "start_time": "2024-07-29T15:55:00.298Z"
   },
   {
    "duration": 710,
    "start_time": "2024-07-29T15:55:50.025Z"
   },
   {
    "duration": 15,
    "start_time": "2024-07-29T19:05:13.220Z"
   }
  ],
  "kernelspec": {
   "display_name": "Python 3 (ipykernel)",
   "language": "python",
   "name": "python3"
  },
  "language_info": {
   "codemirror_mode": {
    "name": "ipython",
    "version": 3
   },
   "file_extension": ".py",
   "mimetype": "text/x-python",
   "name": "python",
   "nbconvert_exporter": "python",
   "pygments_lexer": "ipython3",
   "version": "3.9.19"
  },
  "toc": {
   "base_numbering": 1,
   "nav_menu": {},
   "number_sections": true,
   "sideBar": true,
   "skip_h1_title": true,
   "title_cell": "Table of Contents",
   "title_sidebar": "Contents",
   "toc_cell": false,
   "toc_position": {},
   "toc_section_display": true,
   "toc_window_display": false
  }
 },
 "nbformat": 4,
 "nbformat_minor": 2
}
